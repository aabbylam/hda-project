{
 "cells": [
  {
   "cell_type": "code",
   "execution_count": 17,
   "id": "8683e044",
   "metadata": {},
   "outputs": [],
   "source": [
    "import numpy as np\n",
    "import matplotlib.pyplot as plt\n",
    "import pandas as pd\n",
    "from sklearn.model_selection import train_test_split"
   ]
  },
  {
   "cell_type": "code",
   "execution_count": 2,
   "id": "f10a128d",
   "metadata": {},
   "outputs": [],
   "source": [
    "eq5d= pd.read_csv('/rds/general/user/hsl121/home/hda_project/rq1/rq1_cleaned_no_ae.csv')\n",
    "scores=pd.read_excel('/rds/general/user/hsl121/home/hda_project/data/Scores 6 Jan 2025_Prescribed_Completed Baseline PROMs.xlsx')"
   ]
  },
  {
   "cell_type": "code",
   "execution_count": 3,
   "id": "63e52a5b",
   "metadata": {},
   "outputs": [],
   "source": [
    "gad7=scores[scores['promName']=='GAD7']\n",
    "gad7=gad7[['SID','Round','promName','total_score','completionDate']]\n",
    "\n",
    "\n",
    "gad7_wide = gad7.pivot_table(index='SID', \n",
    "                                    columns='Round', \n",
    "                                    values='total_score', \n",
    "                                    aggfunc='first')\n",
    "\n",
    "gad7_wide.columns = [f\"GAD7_Round{r}\" for r in gad7_wide.columns]\n",
    "gad7_wide = gad7_wide.reset_index()"
   ]
  },
  {
   "cell_type": "code",
   "execution_count": 4,
   "id": "7a5cf3ed",
   "metadata": {},
   "outputs": [
    {
     "data": {
      "text/plain": [
       "31472"
      ]
     },
     "execution_count": 4,
     "metadata": {},
     "output_type": "execute_result"
    }
   ],
   "source": [
    "gad7_wide['SID'].nunique()"
   ]
  },
  {
   "cell_type": "code",
   "execution_count": 5,
   "id": "3edb5400",
   "metadata": {},
   "outputs": [],
   "source": [
    "df= pd.merge(eq5d, gad7_wide, on='SID', how='left')"
   ]
  },
  {
   "cell_type": "code",
   "execution_count": 6,
   "id": "b8aba029",
   "metadata": {},
   "outputs": [
    {
     "data": {
      "text/plain": [
       "(20593, 119)"
      ]
     },
     "execution_count": 6,
     "metadata": {},
     "output_type": "execute_result"
    }
   ],
   "source": [
    "df.shape"
   ]
  },
  {
   "cell_type": "markdown",
   "id": "1c6ab194",
   "metadata": {},
   "source": [
    "Prediction (Random Forest)"
   ]
  },
  {
   "cell_type": "code",
   "execution_count": 9,
   "id": "0a862937",
   "metadata": {},
   "outputs": [],
   "source": [
    "df.columns.tolist()\n",
    "df=df.rename(columns={'GAD7_Round1_y': 'GAD7_Round1',})"
   ]
  },
  {
   "cell_type": "code",
   "execution_count": 10,
   "id": "5b5535d7",
   "metadata": {},
   "outputs": [
    {
     "data": {
      "text/plain": [
       "['SID',\n",
       " 'EQ5D_Round1',\n",
       " 'EQ5D_Round2',\n",
       " 'EQ5D_Round3',\n",
       " 'EQ5D_Round4',\n",
       " 'EQ5D_Round5',\n",
       " 'EQ5D_Round6',\n",
       " 'Age',\n",
       " 'Sex',\n",
       " 'occupation',\n",
       " 'weight',\n",
       " 'height',\n",
       " 'Myocardial_infarction',\n",
       " 'Congestive_heart_failure',\n",
       " 'Peripheral_vascular_disease',\n",
       " 'Cerebrovascular_accident_or_transient_ischemic_attack',\n",
       " 'Dementia',\n",
       " 'Chronic_obstructive_pulmonary_disease',\n",
       " 'Connective_tissue_disease',\n",
       " 'Peptic_Ulcer_Disease',\n",
       " 'Liver_disease',\n",
       " 'Diabetes',\n",
       " 'Hemiplegia',\n",
       " 'Moderate_to_severe_chronic_kidney_disease',\n",
       " 'Solid_tumour',\n",
       " 'Leukemia',\n",
       " 'Lymphoma',\n",
       " 'AIDS',\n",
       " 'Charlson_comorbidity',\n",
       " 'Hypertension',\n",
       " 'Depression_or_anxiety',\n",
       " 'Arthritis',\n",
       " 'Epilepsy',\n",
       " 'VTE',\n",
       " 'Endocrine_thyroid_dysfunction',\n",
       " 'Allergy',\n",
       " 'Smoking_status',\n",
       " 'Smoking_pack_years',\n",
       " 'alcohol_units',\n",
       " 'Cannabis_status',\n",
       " 'GAD7_Round1_x',\n",
       " 'insomniaEfficacyMeasure_Round1',\n",
       " 'diag_Depression',\n",
       " 'diag_Anxiety',\n",
       " 'diag_Chronic pain',\n",
       " 'diag_Osteoarthritis',\n",
       " 'diag_PTSD',\n",
       " 'diag_Fibromyalgia',\n",
       " 'diag_Multiple sclerosis',\n",
       " 'diag_Neuropathic pain',\n",
       " 'diag_Attention deficit hyperactivity disorder',\n",
       " 'diag_Migraine',\n",
       " 'diag_Insomnia',\n",
       " 'diag_Endometriosis',\n",
       " 'diag_Hypermobility',\n",
       " 'diag_Crohns',\n",
       " 'diag_Epilepsy adult',\n",
       " 'diag_Chemotherapy induced nausea and vomiting',\n",
       " 'diag_Autistic spectrum disorder',\n",
       " 'diag_OCD',\n",
       " 'diag_Ulcerative colitis',\n",
       " 'diag_Inflammatory arthritis',\n",
       " 'diag_Cluster headaches',\n",
       " 'diag_Palliative care',\n",
       " 'diag_Complex regional pain syndrome',\n",
       " 'diag_Cancer pain',\n",
       " 'diag_Trigeminal neuralgia',\n",
       " 'diag_Rare and challenging skin condition',\n",
       " 'diag_Agoraphobia',\n",
       " \"diag_Tourette's syndrome\",\n",
       " \"diag_Parkinson's\",\n",
       " 'diag_Headache',\n",
       " 'diag_Social phobia',\n",
       " 'diag_Eating disorder',\n",
       " 'diag_Breast pain',\n",
       " 'diag_Panic disorder',\n",
       " 'form_Capsules',\n",
       " 'form_Flos',\n",
       " 'form_Oil',\n",
       " 'form_Other',\n",
       " 'form_Pastilles',\n",
       " 'form_Spray',\n",
       " 'form_Topical',\n",
       " 'form_Vape',\n",
       " 'Total_THC (mg/g)',\n",
       " ' Total_CBD (mg/g)',\n",
       " 'alpha-Pinene (PPM)',\n",
       " 'Camphene (PPM)',\n",
       " 'beta-Myrcene (PPM)',\n",
       " 'beta-Pinene (PPM)',\n",
       " 'alfa-Terpinene (PPM)',\n",
       " 'Ocimene (sum of cis- and trans- isomers) (PPM)',\n",
       " 'D-Limonene (PPM)',\n",
       " 'gamma-Terpinene (PPM)',\n",
       " 'Terpinolene (PPM)',\n",
       " 'Linalool (PPM)',\n",
       " 'Fenchol (PPM)',\n",
       " 'Isopulegol (PPM)',\n",
       " 'Borneol (PPM)',\n",
       " 'alpha.-Terpineol (PPM)',\n",
       " 'Geraniol (PPM)',\n",
       " 'Caryophyllene (PPM)',\n",
       " 'Humulene (PPM)',\n",
       " 'Nerolidol (PPM)',\n",
       " 'alpha-Bisabolol (PPM)',\n",
       " 'Total terpene (%w/w)',\n",
       " 'GAD7_Round1',\n",
       " 'GAD7_Round2',\n",
       " 'GAD7_Round3',\n",
       " 'GAD7_Round4',\n",
       " 'GAD7_Round5',\n",
       " 'GAD7_Round6',\n",
       " 'GAD7_Round7',\n",
       " 'GAD7_Round8',\n",
       " 'GAD7_Round9',\n",
       " 'GAD7_Round10',\n",
       " 'GAD7_Round11',\n",
       " 'GAD7_Round12',\n",
       " 'GAD7_Round13']"
      ]
     },
     "execution_count": 10,
     "metadata": {},
     "output_type": "execute_result"
    }
   ],
   "source": [
    "df.columns.tolist()"
   ]
  },
  {
   "cell_type": "code",
   "execution_count": 11,
   "id": "6b73cc14",
   "metadata": {},
   "outputs": [],
   "source": [
    "drop= ['GAD7_Round3', 'GAD7_Round4', 'GAD7_Round5', 'GAD7_Round6', 'GAD7_Round7', 'GAD7_Round8','EQ5D_Round2','EQ5D_Round3',\n",
    " 'EQ5D_Round4',\n",
    " 'EQ5D_Round5',\n",
    " 'EQ5D_Round6',]\n",
    "\n",
    "df_dropped = df.drop(columns=drop, axis=1)\n"
   ]
  },
  {
   "cell_type": "code",
   "execution_count": 14,
   "id": "53dc5d23",
   "metadata": {},
   "outputs": [],
   "source": [
    "\n",
    "df_cleaned= df_dropped[df_dropped['GAD7_Round2'].notnull()] \n",
    "full=df_cleaned.copy()"
   ]
  },
  {
   "cell_type": "code",
   "execution_count": 18,
   "id": "6bbda2cd",
   "metadata": {},
   "outputs": [],
   "source": [
    "X=full.drop(['GAD7_Round2','SID'], axis=1)\n",
    "y=full['GAD7_Round2']\n",
    "\n",
    "X_train, X_test, y_train, y_test = train_test_split(X, y, test_size=0.2, random_state=42)\n"
   ]
  },
  {
   "cell_type": "markdown",
   "id": "62ea301b",
   "metadata": {},
   "source": [
    "Random Forest"
   ]
  },
  {
   "cell_type": "code",
   "execution_count": 20,
   "id": "9e663283",
   "metadata": {},
   "outputs": [],
   "source": [
    "from sklearn.model_selection import GridSearchCV\n",
    "from sklearn.ensemble import RandomForestRegressor\n",
    "from sklearn.preprocessing import StandardScaler\n",
    "from sklearn.metrics import mean_squared_error, r2_score"
   ]
  },
  {
   "cell_type": "code",
   "execution_count": null,
   "id": "f4c9348b",
   "metadata": {},
   "outputs": [],
   "source": [
    "rf = RandomForestRegressor(n_estimators=2000, max_depth=5, random_state=100)\n",
    "rf.fit(X_train, y_train)\n",
    "y_pred = rf.predict(X_test)\n",
    "\n",
    "mse = mean_squared_error(y_test, y_pred)\n",
    "r2 = r2_score(y_test, y_pred)\n",
    "\n",
    "print(f\"Test MSE: {mse:.3f}\")\n",
    "print(f\"Test R²: {r2:.3f}\")\n"
   ]
  }
 ],
 "metadata": {
  "kernelspec": {
   "display_name": "TDS",
   "language": "python",
   "name": "python3"
  },
  "language_info": {
   "codemirror_mode": {
    "name": "ipython",
    "version": 3
   },
   "file_extension": ".py",
   "mimetype": "text/x-python",
   "name": "python",
   "nbconvert_exporter": "python",
   "pygments_lexer": "ipython3",
   "version": "3.9.21"
  }
 },
 "nbformat": 4,
 "nbformat_minor": 5
}
