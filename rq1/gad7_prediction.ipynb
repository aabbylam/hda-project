{
 "cells": [
  {
   "cell_type": "code",
   "execution_count": 1,
   "id": "8683e044",
   "metadata": {},
   "outputs": [],
   "source": [
    "import numpy as np\n",
    "import matplotlib.pyplot as plt\n",
    "import pandas as pd"
   ]
  },
  {
   "cell_type": "code",
   "execution_count": 2,
   "id": "f10a128d",
   "metadata": {},
   "outputs": [],
   "source": [
    "eq5d= pd.read_csv('/rds/general/user/hsl121/home/hda_project/rq1/rq1_cleaned_no_ae.csv')\n",
    "scores=pd.read_excel('/rds/general/user/hsl121/home/hda_project/data/Scores 6 Jan 2025_Prescribed_Completed Baseline PROMs.xlsx')"
   ]
  },
  {
   "cell_type": "code",
   "execution_count": 3,
   "id": "63e52a5b",
   "metadata": {},
   "outputs": [],
   "source": [
    "gad7=scores[scores['promName']=='GAD7']\n",
    "gad7=gad7[['SID','Round','promName','total_score','completionDate']]\n",
    "\n",
    "\n",
    "gad7_wide = gad7.pivot_table(index='SID', \n",
    "                                    columns='Round', \n",
    "                                    values='total_score', \n",
    "                                    aggfunc='first')\n",
    "\n",
    "gad7_wide.columns = [f\"GAD7_Round{r}\" for r in gad7_wide.columns]\n",
    "gad7_wide = gad7_wide.reset_index()"
   ]
  },
  {
   "cell_type": "code",
   "execution_count": 4,
   "id": "7a5cf3ed",
   "metadata": {},
   "outputs": [
    {
     "data": {
      "text/plain": [
       "31472"
      ]
     },
     "execution_count": 4,
     "metadata": {},
     "output_type": "execute_result"
    }
   ],
   "source": [
    "gad7_wide['SID'].nunique()"
   ]
  },
  {
   "cell_type": "code",
   "execution_count": 6,
   "id": "3edb5400",
   "metadata": {},
   "outputs": [],
   "source": [
    "df= pd.merge(eq5d, gad7_wide, on='SID', how='left')"
   ]
  },
  {
   "cell_type": "code",
   "execution_count": null,
   "id": "b8aba029",
   "metadata": {},
   "outputs": [
    {
     "data": {
      "text/plain": [
       "(20593, 119)"
      ]
     },
     "execution_count": 7,
     "metadata": {},
     "output_type": "execute_result"
    },
    {
     "ename": "",
     "evalue": "",
     "output_type": "error",
     "traceback": [
      "\u001b[1;31mThe Kernel crashed while executing code in the current cell or a previous cell. \n",
      "\u001b[1;31mPlease review the code in the cell(s) to identify a possible cause of the failure. \n",
      "\u001b[1;31mClick <a href='https://aka.ms/vscodeJupyterKernelCrash'>here</a> for more info. \n",
      "\u001b[1;31mView Jupyter <a href='command:jupyter.viewOutput'>log</a> for further details."
     ]
    }
   ],
   "source": [
    "df.shape"
   ]
  }
 ],
 "metadata": {
  "kernelspec": {
   "display_name": "TDS",
   "language": "python",
   "name": "python3"
  },
  "language_info": {
   "codemirror_mode": {
    "name": "ipython",
    "version": 3
   },
   "file_extension": ".py",
   "mimetype": "text/x-python",
   "name": "python",
   "nbconvert_exporter": "python",
   "pygments_lexer": "ipython3",
   "version": "3.9.21"
  }
 },
 "nbformat": 4,
 "nbformat_minor": 5
}
