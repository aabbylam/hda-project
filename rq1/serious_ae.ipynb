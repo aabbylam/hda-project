{
 "cells": [
  {
   "cell_type": "code",
   "execution_count": 39,
   "metadata": {},
   "outputs": [],
   "source": [
    "import pandas as pd\n",
    "import numpy as np"
   ]
  },
  {
   "cell_type": "code",
   "execution_count": 40,
   "metadata": {},
   "outputs": [],
   "source": [
    "full=pd.read_csv('/rds/general/user/hsl121/home/hda_project/rq1/rq1_cleaned_no_ae.csv')\n",
    "adverse=pd.read_excel('/rds/general/user/hsl121/home/hda_project/data/Adverse Events 6 Jan 2025_Prescribed_Completed Baseline PROMs.xlsx')"
   ]
  },
  {
   "cell_type": "code",
   "execution_count": 41,
   "metadata": {},
   "outputs": [
    {
     "name": "stdout",
     "output_type": "stream",
     "text": [
      "AbdominalPain: ['Moderate' 'Mild' 'Severe']\n",
      "Agitation: ['Life threatening/Disabling' 'Moderate' 'Severe' 'Mild']\n",
      "Akathisia: ['Moderate' 'Mild' 'Severe']\n",
      "Akathisia.1: [4 'Ongoing' 45 3]\n",
      "AllergicReaction: ['Mild']\n",
      "AllergicRhinitis: ['Moderate' 'Mild']\n",
      "Alopecia: ['Mild']\n",
      "Amnesia: ['Moderate' 'Mild' 'Severe']\n",
      "Anorexia: ['Severe' 'Moderate' 'Mild']\n",
      "Anxiety: ['Severe' 'Moderate' 'Life threatening/Disabling' 'Mild']\n",
      "Arthralgia: ['Moderate' 'Severe']\n",
      "Arthritis: ['Severe']\n",
      "Ataxia: ['Mild' 'Moderate' 'Severe']\n",
      "Atelectasis: ['Mild']\n",
      "AtrialFibrillation: ['Mild']\n",
      "AtrialFlutter: ['Moderate']\n",
      "BackPain: ['Severe' 'Moderate']\n",
      "Belching: ['Moderate']\n",
      "Bloating: ['Moderate' 'Mild']\n",
      "BlurredVision: ['Moderate' 'Mild' 'Severe']\n",
      "BodyOdour: ['Mild' 'Moderate']\n",
      "BonePain: ['Moderate' 'Severe']\n",
      "Bruising: ['Moderate']\n",
      "Bruxism: ['Mild']\n",
      "CannabinoidHyperemesisSyndrome: ['Severe']\n",
      "Cheilitis: ['Moderate']\n",
      "CognitiveDisturbance: ['Moderate' 'Mild' 'Severe']\n",
      "Colitis: ['Moderate']\n",
      "ColonicObstruction: ['Moderate']\n",
      "ConcentrationImpairment: ['Moderate' 'Severe' 'Mild']\n",
      "Confusion: ['Severe' 'Mild' 'Moderate' 'Life threatening/Disabling']\n",
      "Constipation: ['Mild' 'Severe' 'Moderate']\n",
      "Cough: ['Mild' 'Moderate' 'Severe']\n",
      "Dehydration: ['Mild']\n",
      "Delirium: ['Mild' 'Moderate' 'Severe' 'Life threatening/Disabling']\n",
      "Delusions: ['Severe']\n",
      "Depression: ['Life threatening/Disabling' 'Severe' 'Mild' 'Moderate']\n",
      "DiabeticKetoacidosis: ['Life threatening/Disabling']\n",
      "Diarrhoea: ['Moderate' 'Life threatening/Disabling' 'Severe' 'Mild']\n",
      "Dissociation: ['Moderate']\n",
      "Dizziness: ['Moderate' 'Severe' 'Mild']\n",
      "DryEye: ['Moderate']\n",
      "DryMouth: ['Mild' 'Moderate' 'Severe']\n",
      "Dysaesthesia: ['Mild' 'Moderate']\n",
      "Dysgeusia: ['Moderate' 'Mild' 'Severe']\n",
      "Dyspepsia: ['Moderate' 'Mild' 'Severe']\n",
      "Dysphasia: ['Moderate' 'Mild']\n",
      "Dyspnoea: ['Moderate' 'Mild']\n",
      "Dystonia: ['Moderate']\n",
      "ErectileDysfunction: ['Moderate']\n",
      "Euphoria: ['Moderate' 'Mild']\n",
      "EyePain: ['Moderate']\n",
      "FacialPain: ['Moderate']\n",
      "FaecalIncontinence: ['Mild']\n",
      "Fall: ['Moderate' 'Mild' 'Severe']\n",
      "Fatigue: ['Moderate' 'Severe' 'Mild']\n",
      "Fever: ['Mild' 'Moderate' 'Severe']\n",
      "FlankPain: ['Moderate']\n",
      "Flashback: ['Severe']\n",
      "Flatulence: ['Moderate' 'Severe']\n",
      "Floaters: ['Mild']\n",
      "Flushing: ['Moderate']\n",
      "Gastritis: ['Moderate']\n",
      "GastroesophagealRefluxDisease: ['Mild']\n",
      "GeneralisedMuscleWeakness: ['Moderate' 'Severe' 'Mild' 'Life threatening/Disabling']\n",
      "Gynaecomastia: ['Moderate']\n",
      "Haemorrhoids: ['Moderate']\n",
      "Hallucinations: ['Mild']\n",
      "Headache: ['Moderate' 'Severe' 'Mild']\n",
      "HearingImpaired: ['Mild']\n",
      "Hiccoughs: ['Moderate']\n",
      "Hoarseness: ['Moderate']\n",
      "HotFlashes: ['Severe' 'Moderate']\n",
      "Hyperhidrosis: ['Moderate']\n",
      "Hypertension: ['Severe' 'Mild' 'Moderate']\n",
      "Hypotension: ['Life threatening/Disabling' 'Moderate' 'Mild']\n",
      "Hypoxia: ['Moderate']\n",
      "IncreasedAppetite: ['Mild' 'Moderate' 'Severe']\n",
      "Insomnia: ['Severe' 'Moderate' 'Mild']\n",
      "IntrusiveThoughts: ['Mild']\n",
      "IrregularMenstruation: ['Mild']\n",
      "Irritability: ['Severe' 'Moderate' 'Life threatening/Disabling' 'Mild']\n",
      "Jaundice: ['Mild']\n",
      "JointDislocation: ['Severe']\n",
      "JointRangeOfMotionDecreased: ['Mild' 'Moderate']\n",
      "JointRangeOfMotionDecreasedCervicalSpine: ['Mild']\n",
      "JointSubluxation: ['Moderate']\n",
      "Lethargy: ['Moderate' 'Mild']\n",
      "LibidoDecreased: ['Mild']\n",
      "LowerGastrointestinalHaemorrhage: ['Moderate']\n",
      "LungInfection: ['Moderate' 'Severe' 'Life threatening/Disabling']\n",
      "Lymphadenopathy: ['Moderate']\n",
      "Mania: ['Mild' 'Severe']\n",
      "Migraine: ['Severe' 'Moderate' 'Mild']\n",
      "MovementsInvoluntary: ['Mild' 'Moderate' 'Severe']\n",
      "Myalgia: ['Moderate' 'Severe' 'Mild']\n",
      "NasalCongestion: ['Mild']\n",
      "Nausea: ['Mild' 'Moderate' 'Severe']\n",
      "NeckPain: ['Severe']\n",
      "Neuralgia: ['Mild' 'Severe' 'Moderate']\n",
      "Nightmare: ['Severe' 'Moderate' 'Mild']\n",
      "NightSweats: ['Moderate']\n",
      "Non-CardiacChestPain: ['Mild' 'Moderate' 'Severe']\n",
      "OedemaFace: ['Mild']\n",
      "OedemaLimbs: ['Mild']\n",
      "OpticNerveDisorder: ['Severe']\n",
      "OralPain: ['Mild' 'Moderate']\n",
      "OralUlcer: ['Mild']\n",
      "OtitisExterna: ['Moderate']\n",
      "Pain: ['Severe' 'Moderate' 'Mild']\n",
      "PainInExtremity: ['Severe' 'Mild']\n",
      "Palpitations: ['Moderate' 'Mild']\n",
      "Paraesthesia: ['Severe' 'Moderate' 'Mild']\n",
      "Paranoia: ['Severe' 'Moderate' 'Mild']\n",
      "Pharyngitis: ['Moderate' 'Severe' 'Life threatening/Disabling' 'Mild']\n",
      "Pneumothorax: ['Life threatening/Disabling']\n",
      "ProductiveCough: ['Mild']\n",
      "Pruritus: ['Moderate' 'Severe' 'Mild']\n",
      "Psychosis: ['Mild' 'Severe']\n",
      "RashAcneiform: ['Mild']\n",
      "RashNOS: ['Moderate' 'Mild' 'Severe']\n",
      "RectalPain: ['Moderate']\n",
      "RenalCalculi: ['Life threatening/Disabling']\n",
      "Restlessness: ['Moderate']\n",
      "Seizure: ['Severe' 'Moderate' 'Life threatening/Disabling']\n",
      "SinusDisorder: ['Mild']\n",
      "SinusPain: ['Mild']\n",
      "SinusTachycardia: ['Moderate' 'Mild']\n",
      "SkinInfection: ['Severe']\n",
      "SmallIntestinalBacterialOvergrowth: ['Severe']\n",
      "Sneezing: ['Mild']\n",
      "Somnolence: ['Moderate' 'Severe' 'Life threatening/Disabling' 'Mild']\n",
      "SoreThroat: ['Severe' 'Moderate' 'Mild']\n",
      "Spasticity: ['Severe' 'Mild' 'Moderate' 'Life threatening/Disabling']\n",
      "Stereotypy: ['Severe']\n",
      "StevensJohnsonSyndrome: ['Severe']\n",
      "SuicidalIdeation: ['Mild' 'Severe' 'Moderate']\n",
      "ThoughtsOfSelfHarm: ['Mild']\n",
      "Tinnitus: ['Moderate' 'Severe' 'Mild']\n",
      "Tolerance: ['Moderate' 'Severe']\n",
      "Toothache: ['Moderate']\n",
      "ToothDiscolouration: ['Mild']\n",
      "Tremor: ['Mild' 'Moderate' 'Severe']\n",
      "UpperRespiratoryInfection: ['Severe' 'Moderate' 'Mild']\n",
      "UrinaryIncontinence: ['Severe']\n",
      "UrinaryRetention: ['Mild']\n",
      "Urinarytractinfection: ['Severe' 'Moderate' 'Life threatening/Disabling']\n",
      "UrinaryTractPain: ['Moderate' 'Severe']\n",
      "UrinaryUrgency: ['Moderate' 'Severe']\n",
      "Uveitis: ['Moderate']\n",
      "Varicocele: ['Severe']\n",
      "VasovagalReaction: ['Life threatening/Disabling' 'Severe']\n",
      "Vertigo: ['Moderate' 'Severe' 'Mild']\n",
      "VividDreams: ['Severe' 'Mild']\n",
      "Vomiting: ['Mild' 'Moderate' 'Severe']\n",
      "WeightGain: ['Mild' 'Severe' 'Moderate']\n",
      "WeightLoss: ['Mild' 'Moderate' 'Severe']\n",
      "Wheezing: ['Mild' 'Severe']\n",
      "Withdrawal: ['Moderate' 'Severe']\n"
     ]
    }
   ],
   "source": [
    "# Step 1: Get only AE columns (excluding durations and metadata)\n",
    "adverse_cols = [col for col in adverse.columns \n",
    "                if col not in ['SID', 'Prescribed', 'BaselinePROMS', 'FirstPrescriptionDate', 'Date', 'DaysFromStart']\n",
    "                and not col.endswith('durationindays')]\n",
    "\n",
    "# Step 2: Print unique values per AE column\n",
    "for col in adverse_cols:\n",
    "    print(f\"{col}: {adverse[col].dropna().unique()}\")\n"
   ]
  },
  {
   "cell_type": "code",
   "execution_count": 5,
   "metadata": {},
   "outputs": [
    {
     "name": "stdout",
     "output_type": "stream",
     "text": [
      "['SID', 'Prescribed', 'BaselinePROMS', 'FirstPrescriptionDate', 'Date', 'DaysFromStart', 'AbdominalPain', 'AbdominalPaindurationindays', 'Agitation', 'Agitationdurationindays', 'Akathisia', 'Akathisia.1', 'AllergicReaction', 'AllergicReactiondurationindays', 'AllergicRhinitis', 'AllergicRhinitisdurationindays', 'Alopecia', 'Alopeciadurationindays', 'Amnesia', 'Amnesiadurationindays', 'Anorexia', 'Anorexiadurationindays', 'Anxiety', 'Anxietydurationindays', 'Arthralgia', 'Arthralgiadurationindays', 'Arthritis', 'Arthritisdurationindays', 'Ataxia', 'Ataxiadurationindays', 'Atelectasis', 'Atelectasisdurationindays', 'AtrialFibrillation', 'AtrialFibrillationdurationindays', 'AtrialFlutter', 'AtrialFlutterdurationindays', 'BackPain', 'BackPaindurationindays', 'Belching', 'Belchingdurationindays', 'Bloating', 'Bloatingdurationindays', 'BlurredVision', 'BlurredVisiondurationindays', 'BodyOdour', 'BodyOdourdurationindays', 'BonePain', 'BonePaindurationindays', 'Bruising', 'Bruisingdurationindays', 'Bruxism', 'Bruxismdurationindays', 'CannabinoidHyperemesisSyndrome', 'CannabinoidHyperemesisSyndromedurationindays', 'Cheilitis', 'Cheilitisdurationindays', 'CognitiveDisturbance', 'CognitiveDisturbancedurationindays', 'Colitis', 'Colitisdurationindays', 'ColonicObstruction', 'ColonicObstructiondurationindays', 'ConcentrationImpairment', 'ConcentrationImpairmentdurationindays', 'Confusion', 'Confusiondurationindays', 'Constipation', 'Constipationdurationindays', 'Cough', 'Coughdurationindays', 'Dehydration', 'Dehydrationdurationindays', 'Delirium', 'Deliriumdurationindays', 'Delusions', 'Delusionsdurationindays', 'Depression', 'Depressiondurationindays', 'DiabeticKetoacidosis', 'DiabeticKetoacidosisdurationindays', 'Diarrhoea', 'Diarrhoeadurationindays', 'Dissociation', 'Dissociationdurationindays', 'Dizziness', 'Dizzinessdurationindays', 'DryEye', 'DryEyedurationindays', 'DryMouth', 'DryMouthdurationindays', 'Dysaesthesia', 'Dysaesthesiadurationindays', 'Dysgeusia', 'Dysgeusiadurationindays', 'Dyspepsia', 'Dyspepsiadurationindays', 'Dysphasia', 'Dysphasiadurationindays', 'Dyspnoea', 'Dyspnoeadurationindays', 'Dystonia', 'Dystoniadurationindays', 'ErectileDysfunction', 'ErectileDysfunctiondurationindays', 'Euphoria', 'Euphoriadurationindays', 'EyePain', 'EyePaindurationindays', 'FacialPain', 'FacialPaindurationindays', 'FaecalIncontinence', 'FaecalIncontinencedurationindays', 'Fall', 'Falldurationindays', 'Fatigue', 'Fatiguedurationindays', 'Fever', 'Feverdurationindays', 'FlankPain', 'FlankPaindurationindays', 'Flashback', 'Flashbackdurationindays', 'Flatulence', 'Flatulencedurationindays', 'Floaters', 'Floatersdurationindays', 'Flushing', 'Flushingdurationindays', 'Gastritis', 'Gastritisdurationindays', 'GastroesophagealRefluxDisease', 'GastroesophagealRefluxDiseasedurationindays', 'GeneralisedMuscleWeakness', 'GeneralisedMuscleWeaknessdurationindays', 'Gynaecomastia', 'Gynaecomastiadurationindays', 'Haemorrhoids', 'Haemorrhoidsdurationindays', 'Hallucinations', 'Hallucinationsdurationindays', 'Headache', 'Headachedurationindays', 'HearingImpaired', 'HearingImpaireddurationindays', 'Hiccoughs', 'Hiccoughsdurationindays', 'Hoarseness', 'Hoarsenessdurationindays', 'HotFlashes', 'HotFlashesdurationindays', 'Hyperhidrosis', 'Hyperhidrosisdurationindays', 'Hypertension', 'Hypertensiondurationindays', 'Hypotension', 'Hypotensiondurationindays', 'Hypoxia', 'Hypoxiadurationindays', 'IncreasedAppetite', 'IncreasedAppetitedurationindays', 'Insomnia', 'Insomniadurationindays', 'IntrusiveThoughts', 'IntrusiveThoughtsdurationindays', 'IrregularMenstruation', 'IrregularMenstruationdurationindays', 'Irritability', 'Irritabilitydurationindays', 'Jaundice', 'Jaundicedurationindays', 'JointDislocation', 'JointDislocationdurationindays', 'JointRangeOfMotionDecreased', 'JointRangeOfMotionDecreaseddurationindays', 'JointRangeOfMotionDecreasedCervicalSpine', 'JointRangeOfMotionDecreasedCervicalSpinedurationindays', 'JointSubluxation', 'JointSubluxationdurationindays', 'Lethargy', 'Lethargydurationindays', 'LibidoDecreased', 'LibidoDecreaseddurationindays', 'LowerGastrointestinalHaemorrhage', 'LowerGastrointestinalHaemorrhagedurationindays', 'LungInfection', 'LungInfectiondurationindays', 'Lymphadenopathy', 'Lymphadenopathydurationindays', 'Mania', 'Maniadurationindays', 'Migraine', 'Migrainedurationindays', 'MovementsInvoluntary', 'MovementsInvoluntarydurationindays', 'Myalgia', 'Myalgiadurationindays', 'NasalCongestion', 'NasalCongestiondurationindays', 'Nausea', 'Nauseadurationindays', 'NeckPain', 'NeckPaindurationindays', 'Neuralgia', 'Neuralgiadurationindays', 'Nightmare', 'Nightmaredurationindays', 'NightSweats', 'NightSweatsdurationindays', 'Non-CardiacChestPain', 'Non-CardiacChestPaindurationindays', 'OedemaFace', 'OedemaFacedurationindays', 'OedemaLimbs', 'OedemaLimbsdurationindays', 'OpticNerveDisorder', 'OpticNerveDisorderdurationindays', 'OralPain', 'OralPaindurationindays', 'OralUlcer', 'OralUlcerdurationindays', 'OtitisExterna', 'OtitisExternadurationindays', 'Pain', 'Paindurationindays', 'PainInExtremity', 'PainInExtremitydurationindays', 'Palpitations', 'Palpitationsdurationindays', 'Paraesthesia', 'Paraesthesiadurationindays', 'Paranoia', 'Paranoiadurationindays', 'Pharyngitis', 'Pharyngitisdurationindays', 'Pneumothorax', 'Pneumothoraxdurationindays', 'ProductiveCough', 'ProductiveCoughdurationindays', 'Pruritus', 'Pruritusdurationindays', 'Psychosis', 'Psychosisdurationindays', 'RashAcneiform', 'RashAcneiformdurationindays', 'RashNOS', 'RashNOSdurationindays', 'RectalPain', 'RectalPaindurationindays', 'RenalCalculi', 'RenalCalculidrudurationindays', 'Restlessness', 'Restlessnessdurationindays', 'Seizure', 'Seizuredurationindays', 'SinusDisorder', 'SinusDisorderdurationindays', 'SinusPain', 'SinusPaindurationindays', 'SinusTachycardia', 'SinusTachycardiadurationindays', 'SkinInfection', 'SkinInfectiondurationindays', 'SmallIntestinalBacterialOvergrowth', 'SmallIntestinalBacterialOvergrowthdurationindays', 'Sneezing', 'Sneezingdurationindays', 'Somnolence', 'Somnolencedurationindays', 'SoreThroat', 'SoreThroatdurationindays', 'Spasticity', 'Spasticitydurationindays', 'Stereotypy', 'Stereotypydurationindays', 'StevensJohnsonSyndrome', 'StevensJohnsonSyndromedurationindays', 'SuicidalIdeation', 'SuicidalIdeationdurationindays', 'ThoughtsOfSelfHarm', 'ThoughtsOfSelfHarmdurationindays', 'Tinnitus', 'Tinnitusdurationindays', 'Tolerance', 'Tolerancedurationindays', 'Toothache', 'Toothachedurationindays', 'ToothDiscolouration', 'ToothDiscolourationdurationindays', 'Tremor', 'Tremordurationindays', 'UpperRespiratoryInfection', 'UpperRespiratoryInfectiondurationindays', 'UrinaryIncontinence', 'UrinaryIncontinencedurationindays', 'UrinaryRetention', 'UrinaryRetentiondurationindays', 'Urinarytractinfection', 'Urinarytractinfectiondurationindays', 'UrinaryTractPain', 'UrinaryTractPaindurationindays', 'UrinaryUrgency', 'UrinaryUrgencydurationindays', 'Uveitis', 'Uveitisdurationindays', 'Varicocele', 'Varicoceledurationindays', 'VasovagalReaction', 'VasovagalReactiondurationindays', 'Vertigo', 'Vertigodurationindays', 'VividDreams', 'VividDreamsdurationindays', 'Vomiting', 'Vomitingdurationindays', 'WeightGain', 'WeightGaindurationindays', 'WeightLoss', 'WeightLossdurationindays', 'Wheezing', 'Wheezingdurationindays', 'Withdrawal', 'Withdrawaldurationindays']\n"
     ]
    }
   ],
   "source": [
    "print(adverse.columns.tolist())"
   ]
  },
  {
   "cell_type": "code",
   "execution_count": 42,
   "metadata": {},
   "outputs": [
    {
     "data": {
      "text/html": [
       "<div>\n",
       "<style scoped>\n",
       "    .dataframe tbody tr th:only-of-type {\n",
       "        vertical-align: middle;\n",
       "    }\n",
       "\n",
       "    .dataframe tbody tr th {\n",
       "        vertical-align: top;\n",
       "    }\n",
       "\n",
       "    .dataframe thead th {\n",
       "        text-align: right;\n",
       "    }\n",
       "</style>\n",
       "<table border=\"1\" class=\"dataframe\">\n",
       "  <thead>\n",
       "    <tr style=\"text-align: right;\">\n",
       "      <th></th>\n",
       "      <th>AbdominalPain</th>\n",
       "      <th>Agitation</th>\n",
       "      <th>Akathisia</th>\n",
       "      <th>Akathisia.1</th>\n",
       "      <th>AllergicReaction</th>\n",
       "      <th>AllergicRhinitis</th>\n",
       "      <th>Alopecia</th>\n",
       "      <th>Amnesia</th>\n",
       "      <th>Anorexia</th>\n",
       "      <th>Anxiety</th>\n",
       "      <th>...</th>\n",
       "      <th>Uveitis</th>\n",
       "      <th>Varicocele</th>\n",
       "      <th>VasovagalReaction</th>\n",
       "      <th>Vertigo</th>\n",
       "      <th>VividDreams</th>\n",
       "      <th>Vomiting</th>\n",
       "      <th>WeightGain</th>\n",
       "      <th>WeightLoss</th>\n",
       "      <th>Wheezing</th>\n",
       "      <th>Withdrawal</th>\n",
       "    </tr>\n",
       "  </thead>\n",
       "  <tbody>\n",
       "    <tr>\n",
       "      <th>0</th>\n",
       "      <td>0</td>\n",
       "      <td>0</td>\n",
       "      <td>0</td>\n",
       "      <td>0</td>\n",
       "      <td>0</td>\n",
       "      <td>0</td>\n",
       "      <td>0</td>\n",
       "      <td>0</td>\n",
       "      <td>0</td>\n",
       "      <td>0</td>\n",
       "      <td>...</td>\n",
       "      <td>0</td>\n",
       "      <td>0</td>\n",
       "      <td>0</td>\n",
       "      <td>0</td>\n",
       "      <td>0</td>\n",
       "      <td>0</td>\n",
       "      <td>0</td>\n",
       "      <td>0</td>\n",
       "      <td>0</td>\n",
       "      <td>0</td>\n",
       "    </tr>\n",
       "    <tr>\n",
       "      <th>1</th>\n",
       "      <td>0</td>\n",
       "      <td>0</td>\n",
       "      <td>0</td>\n",
       "      <td>0</td>\n",
       "      <td>0</td>\n",
       "      <td>0</td>\n",
       "      <td>0</td>\n",
       "      <td>0</td>\n",
       "      <td>0</td>\n",
       "      <td>0</td>\n",
       "      <td>...</td>\n",
       "      <td>0</td>\n",
       "      <td>0</td>\n",
       "      <td>0</td>\n",
       "      <td>0</td>\n",
       "      <td>0</td>\n",
       "      <td>0</td>\n",
       "      <td>0</td>\n",
       "      <td>0</td>\n",
       "      <td>0</td>\n",
       "      <td>0</td>\n",
       "    </tr>\n",
       "    <tr>\n",
       "      <th>2</th>\n",
       "      <td>0</td>\n",
       "      <td>0</td>\n",
       "      <td>0</td>\n",
       "      <td>0</td>\n",
       "      <td>0</td>\n",
       "      <td>0</td>\n",
       "      <td>0</td>\n",
       "      <td>0</td>\n",
       "      <td>0</td>\n",
       "      <td>0</td>\n",
       "      <td>...</td>\n",
       "      <td>0</td>\n",
       "      <td>0</td>\n",
       "      <td>0</td>\n",
       "      <td>0</td>\n",
       "      <td>0</td>\n",
       "      <td>0</td>\n",
       "      <td>0</td>\n",
       "      <td>0</td>\n",
       "      <td>0</td>\n",
       "      <td>0</td>\n",
       "    </tr>\n",
       "    <tr>\n",
       "      <th>3</th>\n",
       "      <td>0</td>\n",
       "      <td>0</td>\n",
       "      <td>0</td>\n",
       "      <td>0</td>\n",
       "      <td>0</td>\n",
       "      <td>0</td>\n",
       "      <td>0</td>\n",
       "      <td>0</td>\n",
       "      <td>1</td>\n",
       "      <td>0</td>\n",
       "      <td>...</td>\n",
       "      <td>0</td>\n",
       "      <td>0</td>\n",
       "      <td>0</td>\n",
       "      <td>0</td>\n",
       "      <td>0</td>\n",
       "      <td>0</td>\n",
       "      <td>0</td>\n",
       "      <td>0</td>\n",
       "      <td>0</td>\n",
       "      <td>0</td>\n",
       "    </tr>\n",
       "    <tr>\n",
       "      <th>4</th>\n",
       "      <td>0</td>\n",
       "      <td>0</td>\n",
       "      <td>0</td>\n",
       "      <td>0</td>\n",
       "      <td>0</td>\n",
       "      <td>0</td>\n",
       "      <td>0</td>\n",
       "      <td>0</td>\n",
       "      <td>0</td>\n",
       "      <td>0</td>\n",
       "      <td>...</td>\n",
       "      <td>0</td>\n",
       "      <td>0</td>\n",
       "      <td>0</td>\n",
       "      <td>1</td>\n",
       "      <td>0</td>\n",
       "      <td>0</td>\n",
       "      <td>0</td>\n",
       "      <td>0</td>\n",
       "      <td>0</td>\n",
       "      <td>0</td>\n",
       "    </tr>\n",
       "    <tr>\n",
       "      <th>...</th>\n",
       "      <td>...</td>\n",
       "      <td>...</td>\n",
       "      <td>...</td>\n",
       "      <td>...</td>\n",
       "      <td>...</td>\n",
       "      <td>...</td>\n",
       "      <td>...</td>\n",
       "      <td>...</td>\n",
       "      <td>...</td>\n",
       "      <td>...</td>\n",
       "      <td>...</td>\n",
       "      <td>...</td>\n",
       "      <td>...</td>\n",
       "      <td>...</td>\n",
       "      <td>...</td>\n",
       "      <td>...</td>\n",
       "      <td>...</td>\n",
       "      <td>...</td>\n",
       "      <td>...</td>\n",
       "      <td>...</td>\n",
       "      <td>...</td>\n",
       "    </tr>\n",
       "    <tr>\n",
       "      <th>2397</th>\n",
       "      <td>0</td>\n",
       "      <td>0</td>\n",
       "      <td>0</td>\n",
       "      <td>0</td>\n",
       "      <td>0</td>\n",
       "      <td>0</td>\n",
       "      <td>0</td>\n",
       "      <td>0</td>\n",
       "      <td>0</td>\n",
       "      <td>0</td>\n",
       "      <td>...</td>\n",
       "      <td>0</td>\n",
       "      <td>0</td>\n",
       "      <td>0</td>\n",
       "      <td>0</td>\n",
       "      <td>0</td>\n",
       "      <td>0</td>\n",
       "      <td>0</td>\n",
       "      <td>0</td>\n",
       "      <td>0</td>\n",
       "      <td>0</td>\n",
       "    </tr>\n",
       "    <tr>\n",
       "      <th>2398</th>\n",
       "      <td>0</td>\n",
       "      <td>0</td>\n",
       "      <td>0</td>\n",
       "      <td>0</td>\n",
       "      <td>0</td>\n",
       "      <td>0</td>\n",
       "      <td>0</td>\n",
       "      <td>0</td>\n",
       "      <td>0</td>\n",
       "      <td>0</td>\n",
       "      <td>...</td>\n",
       "      <td>0</td>\n",
       "      <td>0</td>\n",
       "      <td>0</td>\n",
       "      <td>0</td>\n",
       "      <td>0</td>\n",
       "      <td>0</td>\n",
       "      <td>0</td>\n",
       "      <td>0</td>\n",
       "      <td>0</td>\n",
       "      <td>0</td>\n",
       "    </tr>\n",
       "    <tr>\n",
       "      <th>2399</th>\n",
       "      <td>0</td>\n",
       "      <td>0</td>\n",
       "      <td>0</td>\n",
       "      <td>0</td>\n",
       "      <td>0</td>\n",
       "      <td>0</td>\n",
       "      <td>0</td>\n",
       "      <td>0</td>\n",
       "      <td>0</td>\n",
       "      <td>0</td>\n",
       "      <td>...</td>\n",
       "      <td>0</td>\n",
       "      <td>0</td>\n",
       "      <td>0</td>\n",
       "      <td>0</td>\n",
       "      <td>0</td>\n",
       "      <td>0</td>\n",
       "      <td>0</td>\n",
       "      <td>0</td>\n",
       "      <td>0</td>\n",
       "      <td>0</td>\n",
       "    </tr>\n",
       "    <tr>\n",
       "      <th>2400</th>\n",
       "      <td>0</td>\n",
       "      <td>0</td>\n",
       "      <td>0</td>\n",
       "      <td>0</td>\n",
       "      <td>0</td>\n",
       "      <td>0</td>\n",
       "      <td>0</td>\n",
       "      <td>0</td>\n",
       "      <td>0</td>\n",
       "      <td>0</td>\n",
       "      <td>...</td>\n",
       "      <td>0</td>\n",
       "      <td>0</td>\n",
       "      <td>0</td>\n",
       "      <td>0</td>\n",
       "      <td>0</td>\n",
       "      <td>0</td>\n",
       "      <td>0</td>\n",
       "      <td>0</td>\n",
       "      <td>0</td>\n",
       "      <td>0</td>\n",
       "    </tr>\n",
       "    <tr>\n",
       "      <th>2401</th>\n",
       "      <td>0</td>\n",
       "      <td>0</td>\n",
       "      <td>0</td>\n",
       "      <td>0</td>\n",
       "      <td>0</td>\n",
       "      <td>0</td>\n",
       "      <td>0</td>\n",
       "      <td>0</td>\n",
       "      <td>0</td>\n",
       "      <td>0</td>\n",
       "      <td>...</td>\n",
       "      <td>0</td>\n",
       "      <td>0</td>\n",
       "      <td>0</td>\n",
       "      <td>0</td>\n",
       "      <td>0</td>\n",
       "      <td>0</td>\n",
       "      <td>0</td>\n",
       "      <td>0</td>\n",
       "      <td>0</td>\n",
       "      <td>0</td>\n",
       "    </tr>\n",
       "  </tbody>\n",
       "</table>\n",
       "<p>2402 rows × 159 columns</p>\n",
       "</div>"
      ],
      "text/plain": [
       "      AbdominalPain  Agitation  Akathisia  Akathisia.1  AllergicReaction  \\\n",
       "0                 0          0          0            0                 0   \n",
       "1                 0          0          0            0                 0   \n",
       "2                 0          0          0            0                 0   \n",
       "3                 0          0          0            0                 0   \n",
       "4                 0          0          0            0                 0   \n",
       "...             ...        ...        ...          ...               ...   \n",
       "2397              0          0          0            0                 0   \n",
       "2398              0          0          0            0                 0   \n",
       "2399              0          0          0            0                 0   \n",
       "2400              0          0          0            0                 0   \n",
       "2401              0          0          0            0                 0   \n",
       "\n",
       "      AllergicRhinitis  Alopecia  Amnesia  Anorexia  Anxiety  ...  Uveitis  \\\n",
       "0                    0         0        0         0        0  ...        0   \n",
       "1                    0         0        0         0        0  ...        0   \n",
       "2                    0         0        0         0        0  ...        0   \n",
       "3                    0         0        0         1        0  ...        0   \n",
       "4                    0         0        0         0        0  ...        0   \n",
       "...                ...       ...      ...       ...      ...  ...      ...   \n",
       "2397                 0         0        0         0        0  ...        0   \n",
       "2398                 0         0        0         0        0  ...        0   \n",
       "2399                 0         0        0         0        0  ...        0   \n",
       "2400                 0         0        0         0        0  ...        0   \n",
       "2401                 0         0        0         0        0  ...        0   \n",
       "\n",
       "      Varicocele  VasovagalReaction  Vertigo  VividDreams  Vomiting  \\\n",
       "0              0                  0        0            0         0   \n",
       "1              0                  0        0            0         0   \n",
       "2              0                  0        0            0         0   \n",
       "3              0                  0        0            0         0   \n",
       "4              0                  0        1            0         0   \n",
       "...          ...                ...      ...          ...       ...   \n",
       "2397           0                  0        0            0         0   \n",
       "2398           0                  0        0            0         0   \n",
       "2399           0                  0        0            0         0   \n",
       "2400           0                  0        0            0         0   \n",
       "2401           0                  0        0            0         0   \n",
       "\n",
       "      WeightGain  WeightLoss  Wheezing  Withdrawal  \n",
       "0              0           0         0           0  \n",
       "1              0           0         0           0  \n",
       "2              0           0         0           0  \n",
       "3              0           0         0           0  \n",
       "4              0           0         0           0  \n",
       "...          ...         ...       ...         ...  \n",
       "2397           0           0         0           0  \n",
       "2398           0           0         0           0  \n",
       "2399           0           0         0           0  \n",
       "2400           0           0         0           0  \n",
       "2401           0           0         0           0  \n",
       "\n",
       "[2402 rows x 159 columns]"
      ]
     },
     "execution_count": 42,
     "metadata": {},
     "output_type": "execute_result"
    }
   ],
   "source": [
    "#Recoding AE as Serious/Life Threatening \n",
    "\n",
    "adverse_cols = [col for col in adverse.columns \n",
    "                if col not in ['SID', 'Prescribed', 'BaselinePROMS', 'FirstPrescriptionDate', 'Date', 'DaysFromStart']\n",
    "                and not col.endswith('durationindays')]\n",
    "\n",
    "adverse_severe = adverse[adverse_cols].isin(['Severe', 'Life threatening/Disabling']).astype(int)\n",
    "\n",
    "adverse_severe"
   ]
  },
  {
   "cell_type": "code",
   "execution_count": 7,
   "metadata": {},
   "outputs": [
    {
     "name": "stdout",
     "output_type": "stream",
     "text": [
      "Urinarytractinfection\n",
      "0    2388\n",
      "1      14\n",
      "Name: count, dtype: int64\n"
     ]
    }
   ],
   "source": [
    "print(adverse_severe['Urinarytractinfection'].value_counts())"
   ]
  },
  {
   "cell_type": "code",
   "execution_count": 43,
   "metadata": {},
   "outputs": [],
   "source": [
    "adverse_severe['severe_adverse_binary'] = adverse_severe.sum(axis=1).gt(0).astype(int)"
   ]
  },
  {
   "cell_type": "code",
   "execution_count": 44,
   "metadata": {},
   "outputs": [
    {
     "name": "stdout",
     "output_type": "stream",
     "text": [
      "severe_adverse_binary\n",
      "0    1666\n",
      "1     736\n",
      "Name: count, dtype: int64\n"
     ]
    }
   ],
   "source": [
    "print(adverse_severe['severe_adverse_binary'].value_counts())"
   ]
  },
  {
   "cell_type": "code",
   "execution_count": 45,
   "metadata": {},
   "outputs": [],
   "source": [
    "adverse_severe['SID']=adverse['SID']"
   ]
  },
  {
   "cell_type": "code",
   "execution_count": 46,
   "metadata": {},
   "outputs": [],
   "source": [
    "idx = adverse_severe.groupby('SID')['severe_adverse_binary'].idxmax()\n",
    "\n",
    "adverse_severe = adverse_severe.loc[idx].reset_index(drop=True)"
   ]
  },
  {
   "cell_type": "code",
   "execution_count": 12,
   "metadata": {},
   "outputs": [
    {
     "name": "stdout",
     "output_type": "stream",
     "text": [
      "(1671, 161)\n"
     ]
    }
   ],
   "source": [
    "print(adverse_severe.shape)"
   ]
  },
  {
   "cell_type": "code",
   "execution_count": 47,
   "metadata": {},
   "outputs": [
    {
     "data": {
      "text/plain": [
       "severe_adverse_binary\n",
       "0    1130\n",
       "1     541\n",
       "Name: count, dtype: int64"
      ]
     },
     "execution_count": 47,
     "metadata": {},
     "output_type": "execute_result"
    }
   ],
   "source": [
    "adverse_severe['severe_adverse_binary'].value_counts()"
   ]
  },
  {
   "cell_type": "code",
   "execution_count": 48,
   "metadata": {},
   "outputs": [],
   "source": [
    "full_ae_severe = pd.merge(full, adverse_severe, on='SID', how='left')"
   ]
  },
  {
   "cell_type": "code",
   "execution_count": 49,
   "metadata": {},
   "outputs": [],
   "source": [
    "full_ae_severe['severe_adverse_binary']=full_ae_severe['severe_adverse_binary'].fillna(0)"
   ]
  },
  {
   "cell_type": "code",
   "execution_count": 50,
   "metadata": {},
   "outputs": [
    {
     "data": {
      "text/plain": [
       "severe_adverse_binary\n",
       "0.0    20271\n",
       "1.0      322\n",
       "Name: count, dtype: int64"
      ]
     },
     "execution_count": 50,
     "metadata": {},
     "output_type": "execute_result"
    }
   ],
   "source": [
    "full_ae_severe['severe_adverse_binary'].value_counts()"
   ]
  },
  {
   "cell_type": "code",
   "execution_count": 51,
   "metadata": {},
   "outputs": [],
   "source": [
    "full_ae_severe.to_csv(\"/rds/general/user/hsl121/home/hda_project/rq1/rq1_full_df_adverse_severe.csv\", index=False) "
   ]
  },
  {
   "cell_type": "markdown",
   "metadata": {},
   "source": [
    "Merging Severe AE Col with Cleaned DF"
   ]
  },
  {
   "cell_type": "code",
   "execution_count": 32,
   "metadata": {},
   "outputs": [],
   "source": [
    "import matplotlib.pyplot as plt\n",
    "from sklearn.linear_model import LinearRegression\n",
    "from sklearn.model_selection import train_test_split\n",
    "from sklearn.preprocessing import StandardScaler\n",
    "from sklearn.metrics import mean_squared_error, r2_score\n",
    "from sklearn.linear_model import Ridge, RidgeCV, Lasso"
   ]
  },
  {
   "cell_type": "code",
   "execution_count": 27,
   "metadata": {},
   "outputs": [],
   "source": [
    "df=pd.read_csv('/rds/general/user/hsl121/home/hda_project/rq1/rq1_cleaned_no_ae.csv')\n",
    "severe_ae=pd.read_csv('/rds/general/user/hsl121/home/hda_project/rq1/rq1_full_df_adverse_severe.csv')"
   ]
  },
  {
   "cell_type": "code",
   "execution_count": 28,
   "metadata": {},
   "outputs": [],
   "source": [
    "df = df.merge(severe_ae[['SID', 'severe_adverse_binary']], on='SID', how='left')"
   ]
  },
  {
   "cell_type": "code",
   "execution_count": 22,
   "metadata": {},
   "outputs": [
    {
     "data": {
      "text/plain": [
       "(20593, 107)"
      ]
     },
     "execution_count": 22,
     "metadata": {},
     "output_type": "execute_result"
    }
   ],
   "source": [
    "df.shape"
   ]
  },
  {
   "cell_type": "code",
   "execution_count": 29,
   "metadata": {},
   "outputs": [],
   "source": [
    "\n",
    "drop=['EQ5D_Round2', 'EQ5D_Round3', 'EQ5D_Round4','EQ5D_Round5', 'EQ5D_Round6']\n",
    "df=df.drop(columns=drop)"
   ]
  },
  {
   "cell_type": "code",
   "execution_count": 33,
   "metadata": {},
   "outputs": [],
   "source": [
    "full=df.copy()\n",
    "X=full.drop(['severe_adverse_binary','SID'], axis=1)\n",
    "y=full['severe_adverse_binary']\n",
    "\n",
    "\n",
    "X_train, X_test, y_train, y_test = train_test_split(X, y, test_size=0.2, random_state=42)"
   ]
  },
  {
   "cell_type": "code",
   "execution_count": 37,
   "metadata": {},
   "outputs": [
    {
     "name": "stdout",
     "output_type": "stream",
     "text": [
      "Collecting imbalanced-learn\n",
      "  Downloading imbalanced_learn-0.12.4-py3-none-any.whl.metadata (8.3 kB)\n",
      "Requirement already satisfied: numpy>=1.17.3 in /rds/general/user/hsl121/home/anaconda3/envs/TDS/lib/python3.9/site-packages (from imbalanced-learn) (2.0.2)\n",
      "Requirement already satisfied: scipy>=1.5.0 in /rds/general/user/hsl121/home/anaconda3/envs/TDS/lib/python3.9/site-packages (from imbalanced-learn) (1.13.1)\n",
      "Requirement already satisfied: scikit-learn>=1.0.2 in /rds/general/user/hsl121/home/anaconda3/envs/TDS/lib/python3.9/site-packages (from imbalanced-learn) (1.6.1)\n",
      "Requirement already satisfied: joblib>=1.1.1 in /rds/general/user/hsl121/home/anaconda3/envs/TDS/lib/python3.9/site-packages (from imbalanced-learn) (1.4.2)\n",
      "Requirement already satisfied: threadpoolctl>=2.0.0 in /rds/general/user/hsl121/home/anaconda3/envs/TDS/lib/python3.9/site-packages (from imbalanced-learn) (3.5.0)\n",
      "Downloading imbalanced_learn-0.12.4-py3-none-any.whl (258 kB)\n",
      "Installing collected packages: imbalanced-learn\n",
      "Successfully installed imbalanced-learn-0.12.4\n"
     ]
    },
    {
     "name": "stderr",
     "output_type": "stream",
     "text": [
      "/rds/general/user/hsl121/home/anaconda3/envs/TDS/lib/python3.9/site-packages/sklearn/base.py:484: FutureWarning: `BaseEstimator._check_n_features` is deprecated in 1.6 and will be removed in 1.7. Use `sklearn.utils.validation._check_n_features` instead.\n",
      "  warnings.warn(\n",
      "/rds/general/user/hsl121/home/anaconda3/envs/TDS/lib/python3.9/site-packages/sklearn/base.py:493: FutureWarning: `BaseEstimator._check_feature_names` is deprecated in 1.6 and will be removed in 1.7. Use `sklearn.utils.validation._check_feature_names` instead.\n",
      "  warnings.warn(\n"
     ]
    }
   ],
   "source": [
    "!pip install imbalanced-learn\n",
    "\n",
    "from imblearn.over_sampling import RandomOverSampler\n",
    "\n",
    "ros = RandomOverSampler(random_state=42)\n",
    "X_train_resampled, y_train_resampled = ros.fit_resample(X_train, y_train)"
   ]
  },
  {
   "cell_type": "code",
   "execution_count": 38,
   "metadata": {},
   "outputs": [
    {
     "name": "stderr",
     "output_type": "stream",
     "text": [
      "/rds/general/user/hsl121/home/anaconda3/envs/TDS/lib/python3.9/site-packages/xgboost/core.py:158: UserWarning: [16:34:07] WARNING: /workspace/src/learner.cc:740: \n",
      "Parameters: { \"use_label_encoder\" } are not used.\n",
      "\n",
      "  warnings.warn(smsg, UserWarning)\n"
     ]
    },
    {
     "name": "stdout",
     "output_type": "stream",
     "text": [
      "Confusion Matrix:\n",
      " [[3925  122]\n",
      " [  66    6]]\n",
      "\n",
      "Classification Report:\n",
      "               precision    recall  f1-score   support\n",
      "\n",
      "         0.0       0.98      0.97      0.98      4047\n",
      "         1.0       0.05      0.08      0.06        72\n",
      "\n",
      "    accuracy                           0.95      4119\n",
      "   macro avg       0.52      0.53      0.52      4119\n",
      "weighted avg       0.97      0.95      0.96      4119\n",
      "\n",
      "ROC AUC Score: 0.7101899898415837\n"
     ]
    }
   ],
   "source": [
    "import xgboost as xgb\n",
    "xgb_model = xgb.XGBClassifier(\n",
    "    objective='binary:logistic',\n",
    "    eval_metric='logloss',\n",
    "    use_label_encoder=False,\n",
    "    random_state=42,\n",
    "    scale_pos_weight=(y == 0).sum() / (y == 1).sum()  # handle imbalance\n",
    ")\n",
    "\n",
    "xgb_model.fit(X_train_resampled, y_train_resampled)\n",
    "\n",
    "\n",
    "from sklearn.metrics import classification_report, confusion_matrix, roc_auc_score\n",
    "y_pred = xgb_model.predict(X_test)\n",
    "y_proba = xgb_model.predict_proba(X_test)[:, 1]\n",
    "\n",
    "print(\"Confusion Matrix:\\n\", confusion_matrix(y_test, y_pred))\n",
    "print(\"\\nClassification Report:\\n\", classification_report(y_test, y_pred))\n",
    "print(\"ROC AUC Score:\", roc_auc_score(y_test, y_proba))\n"
   ]
  },
  {
   "cell_type": "code",
   "execution_count": 35,
   "metadata": {},
   "outputs": [
    {
     "name": "stdout",
     "output_type": "stream",
     "text": [
      "severe_adverse_binary\n",
      "0.0    20271\n",
      "1.0      322\n",
      "Name: count, dtype: int64\n"
     ]
    }
   ],
   "source": [
    "print(full['severe_adverse_binary'].value_counts())"
   ]
  },
  {
   "cell_type": "code",
   "execution_count": null,
   "metadata": {},
   "outputs": [],
   "source": []
  }
 ],
 "metadata": {
  "kernelspec": {
   "display_name": "Python 3",
   "language": "python",
   "name": "python3"
  },
  "language_info": {
   "codemirror_mode": {
    "name": "ipython",
    "version": 3
   },
   "file_extension": ".py",
   "mimetype": "text/x-python",
   "name": "python",
   "nbconvert_exporter": "python",
   "pygments_lexer": "ipython3",
   "version": "3.6.8"
  }
 },
 "nbformat": 4,
 "nbformat_minor": 2
}
