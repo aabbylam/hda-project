{
 "cells": [
  {
   "cell_type": "code",
   "execution_count": 1,
   "metadata": {},
   "outputs": [],
   "source": [
    "import pandas as pd\n",
    "import numpy as np"
   ]
  },
  {
   "cell_type": "code",
   "execution_count": 88,
   "metadata": {},
   "outputs": [],
   "source": [
    "df=pd.read_csv('rq1_full_df.csv')\n",
    "# df_ae=pd.read_csv('/rds/general/user/hsl121/home/hda_project/rq1/rq1_full_df.csv')\n",
    "product=pd.read_excel('../data/Product Data.xlsx')\n",
    "prescription=pd.read_excel('../data/Prescriptions 6 Jan 2025_Prescribed_Completed Baseline PROMs NEW.xlsx')"
   ]
  },
  {
   "cell_type": "code",
   "execution_count": 26,
   "id": "c1e8abd3",
   "metadata": {},
   "outputs": [
    {
     "data": {
      "text/plain": [
       "(20593, 57)"
      ]
     },
     "execution_count": 26,
     "metadata": {},
     "output_type": "execute_result"
    }
   ],
   "source": [
    "df.shape"
   ]
  },
  {
   "cell_type": "code",
   "execution_count": 89,
   "metadata": {},
   "outputs": [],
   "source": [
    "## Cleaning Variables\n",
    "drop=['EffectivePrescriptionDate',\n",
    "       'Totalquantity_Prescription1', 'Totalquantity_Prescription2', 'Totalquantity_Prescription3','Cannabis_gram_per_day','Cannabis_use_route','Cannabis_gram_years','Cannabis_use_frequency','BMI']\n",
    "\n",
    "df=df.drop(drop, axis=1)\n",
    "\n",
    "df['Sex']=df['Sex'].replace({'Male':0, 'Female':1})\n",
    "\n",
    "df['occupation'] = df['occupation'].fillna('Unemployed')\n",
    "def occupation(x):\n",
    "    if x == 'Unemployed':\n",
    "        return 0\n",
    "    elif x == 'Retired':\n",
    "        return 2\n",
    "    else:\n",
    "        return 1\n",
    "\n",
    "    \n",
    "df['occupation'] = df['occupation'].apply(occupation)\n",
    "\n",
    "df['Myocardial_infarction'] = df['Myocardial_infarction'].fillna('No')\n",
    "df['Myocardial_infarction'] = df['Myocardial_infarction'].replace({'No': 0, 'Yes': 1})\n",
    "\n",
    "\n",
    "df['Congestive_heart_failure'] = df['Congestive_heart_failure'].fillna('No')\n",
    "df['Congestive_heart_failure'] = df['Congestive_heart_failure'].replace({'No': 0, 'Yes': 1})\n",
    "\n",
    "\n",
    "\n",
    "df['Peripheral_vascular_disease'] = df['Peripheral_vascular_disease'].fillna('No')\n",
    "df['Peripheral_vascular_disease'] = df['Peripheral_vascular_disease'].replace({'No': 0, 'Yes': 1})\n",
    "\n",
    "\n",
    "\n",
    "\n",
    "df['Cerebrovascular_accident_or_transient_ischemic_attack'] = df['Cerebrovascular_accident_or_transient_ischemic_attack'].fillna('No')\n",
    "df['Cerebrovascular_accident_or_transient_ischemic_attack'] = df['Cerebrovascular_accident_or_transient_ischemic_attack'].replace({'No': 0, 'Yes': 1})\n",
    "\n",
    "\n",
    "\n",
    "df['Dementia'] = df['Dementia'].fillna('No')\n",
    "df['Dementia'] = df['Dementia'].replace({'No': 0, 'Yes': 1})\n",
    "\n",
    "\n",
    "df['Chronic_obstructive_pulmonary_disease'] = df['Chronic_obstructive_pulmonary_disease'].fillna('No')\n",
    "df['Chronic_obstructive_pulmonary_disease'] = df['Chronic_obstructive_pulmonary_disease'].replace({'No': 0, 'Yes': 1})\n",
    "\n",
    "\n",
    "\n",
    "df['Connective_tissue_disease'] = df['Connective_tissue_disease'].fillna('No')\n",
    "df['Connective_tissue_disease'] = df['Connective_tissue_disease'].replace({'No': 0, 'Yes': 1})\n",
    "\n",
    "\n",
    "\n",
    "df['Peptic_Ulcer_Disease'] = df['Peptic_Ulcer_Disease'].fillna('No')\n",
    "df['Peptic_Ulcer_Disease'] = df['Peptic_Ulcer_Disease'].replace({'No': 0, 'Yes': 1})\n",
    "\n",
    "\n",
    "df['Liver_disease'] = df['Liver_disease'].fillna('No')\n",
    "df['Liver_disease'] = df['Liver_disease'].replace({'No': 0, 'Mild': 1, 'Moderate to severe': 2})\n",
    "\n",
    "df['Diabetes'] = df['Diabetes'].fillna('None or diet-controlled')\n",
    "df['Diabetes'] = df['Diabetes'].replace({'None or diet-controlled': 0, 'Uncomplicated': 1, 'End organ damage': 2})\n",
    "\n",
    "\n",
    "df['Hemiplegia'] = df['Hemiplegia'].fillna('No')\n",
    "df['Hemiplegia'] = df['Hemiplegia'].replace({'No': 0, 'Yes': 1})\n",
    "\n",
    "\n",
    "df['Moderate_to_severe_chronic_kidney_disease'] = df['Moderate_to_severe_chronic_kidney_disease'].fillna('No')\n",
    "df['Moderate_to_severe_chronic_kidney_disease'] = df['Moderate_to_severe_chronic_kidney_disease'].replace({'No': 0, 'Yes': 1})\n",
    "\n",
    "\n",
    "df['Solid_tumour'] = df['Solid_tumour'].fillna('No')\n",
    "df['Solid_tumour'] = df['Solid_tumour'].replace({'No': 0, 'Localized': 1, 'Metastatic': 2})\n",
    "\n",
    "\n",
    "df['Leukemia'] = df['Leukemia'].fillna('No')\n",
    "df['Leukemia'] = df['Leukemia'].replace({'No': 0, 'Yes': 1})\n",
    "\n",
    "\n",
    "\n",
    "df['Lymphoma'] = df['Lymphoma'].fillna('No')\n",
    "df['Lymphoma'] = df['Lymphoma'].replace({'No': 0, 'Yes': 1})\n",
    "\n",
    "\n",
    "\n",
    "df['AIDS'] = df['AIDS'].fillna('No')\n",
    "df['AIDS'] = df['AIDS'].replace({'No': 0, 'Yes': 1})\n",
    "\n",
    "\n",
    "\n",
    "df['Hypertension'] = df['Hypertension'].fillna('No')\n",
    "df['Hypertension'] = df['Hypertension'].replace({'No': 0, 'Yes': 1})\n",
    "\n",
    "\n",
    "\n",
    "df['Depression_or_anxiety'] = df['Depression_or_anxiety'].fillna('No')\n",
    "df['Depression_or_anxiety'] = df['Depression_or_anxiety'].replace({'No': 0, 'Yes': 1})\n",
    "\n",
    "\n",
    "\n",
    "df['Arthritis'] = df['Arthritis'].fillna('No')\n",
    "df['Arthritis'] = df['Arthritis'].replace({'No': 0, 'Yes': 1})\n",
    "\n",
    "\n",
    "\n",
    "df['Epilepsy'] = df['Epilepsy'].fillna('No')\n",
    "df['Epilepsy'] = df['Epilepsy'].replace({'No': 0, 'Yes': 1})\n",
    "\n",
    "\n",
    "\n",
    "df['VTE'] = df['VTE'].fillna('No')\n",
    "df['VTE'] = df['VTE'].replace({'No': 0, 'Yes': 1})\n",
    "\n",
    "\n",
    "df['Endocrine_thyroid_dysfunction'] = df['Endocrine_thyroid_dysfunction'].fillna('No')\n",
    "df['Endocrine_thyroid_dysfunction'] = df['Endocrine_thyroid_dysfunction'].replace({'No': 0, 'Yes': 1})\n",
    "\n",
    "\n",
    "df['Allergy'] = df['Allergy'].notnull().astype(int)\n",
    "\n",
    "\n",
    "df['Smoking_status'] = df['Smoking_status'].fillna('Never smoked')\n",
    "df['Smoking_status'] = df['Smoking_status'].replace({'Never smoked': 0, 'Ex-smoker': 1, 'Current smoker': 2})\n",
    "\n",
    "df['alcohol_units'] = df['alcohol_units'].fillna(0)\n",
    "\n",
    "df['Cannabis_status'] = df['Cannabis_status'].fillna('Never used')\n",
    "df['Cannabis_status'] = df['Cannabis_status'].replace({'Never used': 0, 'Ex-user': 1, 'Current user': 2})\n",
    "\n",
    "df['Smoking_pack_years'] = df['Smoking_pack_years'].fillna(0)\n",
    "\n"
   ]
  },
  {
   "cell_type": "code",
   "execution_count": 90,
   "metadata": {},
   "outputs": [],
   "source": [
    "## Cleaning Diganoses Variables\n",
    "all_diags = pd.concat([df['primDiag'], df['secDiag'], df['tertDiag']], ignore_index=True)\n",
    "\n",
    "unique_diags = all_diags.dropna().unique()\n",
    "\n",
    "def has_diag(row, diag):\n",
    "    return int(diag in [row['primDiag'], row['secDiag'], row['tertDiag']])\n",
    "\n",
    "\n",
    "for diag in unique_diags:\n",
    "    col_name = f'diag_{diag}'\n",
    "    df[col_name] = df.apply(lambda row: has_diag(row, diag), axis=1)\n",
    "\n",
    "\n",
    "df=df.drop(['primDiag', 'secDiag', 'tertDiag'], axis=1)\n"
   ]
  },
  {
   "cell_type": "code",
   "execution_count": 91,
   "metadata": {},
   "outputs": [],
   "source": [
    "product_cols = ['Product_Prescription1', 'Product_Prescription2', 'Product_Prescription3']\n",
    "\n",
    "## Find words within the product names and encodes them into a category (Fos, Oil, Vape, etc.)\n",
    "\n",
    "def extract_form(product):\n",
    "    if pd.isna(product):\n",
    "        return None\n",
    "    name = product.lower()\n",
    "    if 'flos' in name or 'flower' in name:\n",
    "        return 'Flos'\n",
    "    elif 'oil' in name:\n",
    "        return 'Oil'\n",
    "    elif 'vape' in name or 'cartridge' in name:\n",
    "        return 'Vape'\n",
    "    elif 'pastille' in name:\n",
    "        return 'Pastilles'\n",
    "    elif 'capsule' in name:\n",
    "        return 'Capsules'\n",
    "    elif 'spray' in name:\n",
    "        return 'Spray'\n",
    "    elif 'ointment' in name or 'cream' in name:\n",
    "        return 'Topical'\n",
    "    else:\n",
    "        return 'Other'\n",
    "    \n",
    "## Apllying extract_form to each product column \n",
    "for col in product_cols:\n",
    "    df[f'{col}_form'] = df[col].apply(extract_form)\n",
    "\n",
    "\n",
    "## Creating a new column that contains all the forms of the products for each patient in a list\n",
    "\n",
    "df['all_forms'] = df[[f'{col}_form' for col in product_cols]].values.tolist()\n",
    "\n",
    "## remove duplicates and NaN values from the list\n",
    "df['all_forms'] = df['all_forms'].apply(lambda x: set(filter(pd.notna, x)))\n",
    "\n",
    "## encodes into 1 if there is a form in the list, 0 if not, and returns a column for each form \n",
    "from sklearn.preprocessing import MultiLabelBinarizer\n",
    "\n",
    "mlb = MultiLabelBinarizer()\n",
    "form_ohe = pd.DataFrame(mlb.fit_transform(df['all_forms']),\n",
    "                        columns=[f'form_{form}' for form in mlb.classes_],\n",
    "                        index=df.index)\n",
    "\n",
    "df = pd.concat([df, form_ohe], axis=1)\n",
    "\n",
    "## Dropping the original product columns\n",
    "# df = df.drop(product_cols, axis=1)\n",
    "# df = df.drop(['Product_Prescription1_form', 'Product_Prescription2_form', 'Product_Prescription3_form', 'all_forms'], axis=1)\n",
    "\n"
   ]
  },
  {
   "cell_type": "code",
   "execution_count": 92,
   "metadata": {},
   "outputs": [
    {
     "name": "stdout",
     "output_type": "stream",
     "text": [
      "EQ5D_Round6                                              16298\n",
      "EQ5D_Round5                                              13161\n",
      "EQ5D_Round4                                               8464\n",
      "EQ5D_Round3                                               4279\n",
      "Product_Prescription3_form                                2610\n",
      "Product_Prescription3                                     2610\n",
      "height                                                     928\n",
      "weight                                                     742\n",
      "Product_Prescription2_form                                 686\n",
      "Product_Prescription2                                      686\n",
      "insomniaEfficacyMeasure_Round1                              16\n",
      "EQ5D_Round2                                                  4\n",
      "diag_Cluster headaches                                       0\n",
      "diag_Inflammatory arthritis                                  0\n",
      "diag_Complex regional pain syndrome                          0\n",
      "diag_Ulcerative colitis                                      0\n",
      "diag_OCD                                                     0\n",
      "diag_Autistic spectrum disorder                              0\n",
      "diag_Chemotherapy induced nausea and vomiting                0\n",
      "diag_Palliative care                                         0\n",
      "SID                                                          0\n",
      "diag_Epilepsy adult                                          0\n",
      "diag_Crohns                                                  0\n",
      "diag_Hypermobility                                           0\n",
      "diag_Trigeminal neuralgia                                    0\n",
      "diag_Endometriosis                                           0\n",
      "diag_Insomnia                                                0\n",
      "diag_Migraine                                                0\n",
      "diag_Attention deficit hyperactivity disorder                0\n",
      "diag_Cancer pain                                             0\n",
      "diag_Social phobia                                           0\n",
      "diag_Rare and challenging skin condition                     0\n",
      "all_forms                                                    0\n",
      "form_Topical                                                 0\n",
      "form_Spray                                                   0\n",
      "form_Pastilles                                               0\n",
      "form_Other                                                   0\n",
      "form_Oil                                                     0\n",
      "form_Flos                                                    0\n",
      "form_Capsules                                                0\n",
      "Product_Prescription1_form                                   0\n",
      "diag_Agoraphobia                                             0\n",
      "diag_Panic disorder                                          0\n",
      "diag_Breast pain                                             0\n",
      "diag_Eating disorder                                         0\n",
      "diag_Multiple sclerosis                                      0\n",
      "diag_Headache                                                0\n",
      "diag_Parkinson's                                             0\n",
      "diag_Tourette's syndrome                                     0\n",
      "diag_Neuropathic pain                                        0\n",
      "diag_Depression                                              0\n",
      "diag_Fibromyalgia                                            0\n",
      "diag_PTSD                                                    0\n",
      "Solid_tumour                                                 0\n",
      "Moderate_to_severe_chronic_kidney_disease                    0\n",
      "Hemiplegia                                                   0\n",
      "Diabetes                                                     0\n",
      "Liver_disease                                                0\n",
      "Peptic_Ulcer_Disease                                         0\n",
      "Connective_tissue_disease                                    0\n",
      "Chronic_obstructive_pulmonary_disease                        0\n",
      "Dementia                                                     0\n",
      "Cerebrovascular_accident_or_transient_ischemic_attack        0\n",
      "Peripheral_vascular_disease                                  0\n",
      "Congestive_heart_failure                                     0\n",
      "Myocardial_infarction                                        0\n",
      "occupation                                                   0\n",
      "Sex                                                          0\n",
      "Age                                                          0\n",
      "Product_Prescription1                                        0\n",
      "Leukemia                                                     0\n",
      "Lymphoma                                                     0\n",
      "AIDS                                                         0\n",
      "Smoking_pack_years                                           0\n",
      "diag_Osteoarthritis                                          0\n",
      "diag_Chronic pain                                            0\n",
      "diag_Anxiety                                                 0\n",
      "EQ5D_Round1                                                  0\n",
      "GAD7_Round1                                                  0\n",
      "Cannabis_status                                              0\n",
      "alcohol_units                                                0\n",
      "Smoking_status                                               0\n",
      "Charlson_comorbidity                                         0\n",
      "Allergy                                                      0\n",
      "Endocrine_thyroid_dysfunction                                0\n",
      "VTE                                                          0\n",
      "Epilepsy                                                     0\n",
      "Arthritis                                                    0\n",
      "Depression_or_anxiety                                        0\n",
      "Hypertension                                                 0\n",
      "form_Vape                                                    0\n",
      "dtype: int64\n",
      "928\n"
     ]
    }
   ],
   "source": [
    "df.shape\n",
    "print(df.isnull().sum().sort_values(ascending=False))\n",
    "\n",
    "print(df['height'].isnull().sum())"
   ]
  },
  {
   "cell_type": "code",
   "execution_count": 33,
   "metadata": {},
   "outputs": [
    {
     "data": {
      "text/plain": [
       "(20593, 91)"
      ]
     },
     "execution_count": 33,
     "metadata": {},
     "output_type": "execute_result"
    }
   ],
   "source": [
    "df.shape"
   ]
  },
  {
   "cell_type": "code",
   "execution_count": 93,
   "metadata": {},
   "outputs": [
    {
     "name": "stderr",
     "output_type": "stream",
     "text": [
      "c:\\Users\\abbyh\\anaconda3\\Lib\\site-packages\\sklearn\\impute\\_iterative.py:785: ConvergenceWarning: [IterativeImputer] Early stopping criterion not reached.\n",
      "  warnings.warn(\n"
     ]
    }
   ],
   "source": [
    "from sklearn.experimental import enable_iterative_imputer\n",
    "from sklearn.impute import IterativeImputer\n",
    "from sklearn.ensemble import RandomForestRegressor\n",
    "\n",
    "df_encoded = pd.get_dummies(df[['height', 'weight', 'Age', 'Sex']], drop_first=True)\n",
    "\n",
    "imputer = IterativeImputer(estimator=RandomForestRegressor(n_estimators=100, random_state=42),\n",
    "                           max_iter=10,\n",
    "                           random_state=42)\n",
    "\n",
    "df_imputed = pd.DataFrame(imputer.fit_transform(df_encoded),\n",
    "                          columns=df_encoded.columns,\n",
    "                          index=df.index)\n",
    "df.loc[df['height'].isnull(), 'height'] = df_imputed.loc[df['height'].isnull(), 'height']\n",
    "df.loc[df['weight'].isnull(), 'weight'] = df_imputed.loc[df['weight'].isnull(), 'weight']\n",
    "\n"
   ]
  },
  {
   "cell_type": "code",
   "execution_count": 10,
   "metadata": {},
   "outputs": [
    {
     "name": "stdout",
     "output_type": "stream",
     "text": [
      "['SID', 'EQ5D_Round1', 'EQ5D_Round2', 'EQ5D_Round3', 'EQ5D_Round4', 'EQ5D_Round5', 'EQ5D_Round6', 'Product_Prescription1', 'Product_Prescription2', 'Product_Prescription3', 'Age', 'Sex', 'occupation', 'weight', 'height', 'Myocardial_infarction', 'Congestive_heart_failure', 'Peripheral_vascular_disease', 'Cerebrovascular_accident_or_transient_ischemic_attack', 'Dementia', 'Chronic_obstructive_pulmonary_disease', 'Connective_tissue_disease', 'Peptic_Ulcer_Disease', 'Liver_disease', 'Diabetes', 'Hemiplegia', 'Moderate_to_severe_chronic_kidney_disease', 'Solid_tumour', 'Leukemia', 'Lymphoma', 'AIDS', 'Charlson_comorbidity', 'Hypertension', 'Depression_or_anxiety', 'Arthritis', 'Epilepsy', 'VTE', 'Endocrine_thyroid_dysfunction', 'Allergy', 'Smoking_status', 'Smoking_pack_years', 'alcohol_units', 'Cannabis_status', 'GAD7_Round1', 'insomniaEfficacyMeasure_Round1', 'diag_Depression', 'diag_Anxiety', 'diag_Chronic pain', 'diag_Osteoarthritis', 'diag_PTSD', 'diag_Fibromyalgia', 'diag_Multiple sclerosis', 'diag_Neuropathic pain', 'diag_Attention deficit hyperactivity disorder', 'diag_Migraine', 'diag_Insomnia', 'diag_Endometriosis', 'diag_Hypermobility', 'diag_Crohns', 'diag_Epilepsy adult', 'diag_Chemotherapy induced nausea and vomiting', 'diag_Autistic spectrum disorder', 'diag_OCD', 'diag_Ulcerative colitis', 'diag_Inflammatory arthritis', 'diag_Cluster headaches', 'diag_Palliative care', 'diag_Complex regional pain syndrome', 'diag_Cancer pain', 'diag_Trigeminal neuralgia', 'diag_Rare and challenging skin condition', 'diag_Agoraphobia', \"diag_Tourette's syndrome\", \"diag_Parkinson's\", 'diag_Headache', 'diag_Social phobia', 'diag_Eating disorder', 'diag_Breast pain', 'diag_Panic disorder', 'Product_Prescription1_form', 'Product_Prescription2_form', 'Product_Prescription3_form', 'all_forms', 'form_Capsules', 'form_Flos', 'form_Oil', 'form_Other', 'form_Pastilles', 'form_Spray', 'form_Topical', 'form_Vape']\n"
     ]
    }
   ],
   "source": [
    "print(df.columns.tolist())"
   ]
  },
  {
   "cell_type": "markdown",
   "metadata": {},
   "source": [
    "Product Chemical Compounds"
   ]
  },
  {
   "cell_type": "code",
   "execution_count": 94,
   "metadata": {},
   "outputs": [],
   "source": [
    "product.columns\n",
    "chemical_cols = [col for col in product.columns if col not in ['SKU','Indica_Sativa', 'Strain', 'Parents', 'Indica_Sativa', 'Lowest_Cost_per_gram']]\n",
    "product[chemical_cols] = product[chemical_cols].apply(pd.to_numeric, errors='coerce')\n"
   ]
  },
  {
   "cell_type": "code",
   "execution_count": 95,
   "metadata": {},
   "outputs": [
    {
     "data": {
      "text/plain": [
       "35"
      ]
     },
     "execution_count": 95,
     "metadata": {},
     "output_type": "execute_result"
    }
   ],
   "source": [
    "len(chemical_cols)"
   ]
  },
  {
   "cell_type": "code",
   "execution_count": 96,
   "metadata": {},
   "outputs": [],
   "source": [
    "prescription_long = df.melt(id_vars='SID',\n",
    "                            value_vars=product_cols,\n",
    "                            var_name='PrescriptionSlot',\n",
    "                            value_name='SKU')\n"
   ]
  },
  {
   "cell_type": "code",
   "execution_count": 97,
   "metadata": {},
   "outputs": [],
   "source": [
    "prescription_chem = prescription_long.merge(product, on='SKU', how='left')\n"
   ]
  },
  {
   "cell_type": "code",
   "execution_count": 98,
   "metadata": {},
   "outputs": [],
   "source": [
    "chemical_features = prescription_chem.groupby('SID')[chemical_cols].mean().reset_index()\n",
    "\n",
    "## for each patient, we take the mean of the chemical features across all prescriptions\n"
   ]
  },
  {
   "cell_type": "code",
   "execution_count": 99,
   "metadata": {},
   "outputs": [],
   "source": [
    "df = df.merge(chemical_features, on='SID', how='left')\n"
   ]
  },
  {
   "cell_type": "code",
   "execution_count": 100,
   "metadata": {},
   "outputs": [
    {
     "data": {
      "text/plain": [
       "(20593, 126)"
      ]
     },
     "execution_count": 100,
     "metadata": {},
     "output_type": "execute_result"
    }
   ],
   "source": [
    "df.shape"
   ]
  },
  {
   "cell_type": "code",
   "execution_count": 101,
   "metadata": {},
   "outputs": [
    {
     "name": "stdout",
     "output_type": "stream",
     "text": [
      "Total_THC (mg/g)                                  0.214636\n",
      " Total_CBD (mg/g)                                 0.445734\n",
      "Total_CBG (mg/g)                                  1.000000\n",
      "Total_CBN (mg/g)                                  0.892876\n",
      "alpha-Pinene (PPM)                                0.233575\n",
      "Camphene (PPM)                                    0.336134\n",
      "beta-Myrcene (PPM)                                0.219444\n",
      "beta-Pinene (PPM)                                 0.219444\n",
      "3-Carene (PPM)                                    0.544845\n",
      "alfa-Terpinene (PPM)                              0.381926\n",
      "Ocimene (sum of cis- and trans- isomers) (PPM)    0.460885\n",
      "cis-beta-Ocimene (PPM)                            0.791968\n",
      "D-Limonene (PPM)                                  0.222503\n",
      "p-Cymene (PPM)                                    0.998640\n",
      "trans- Ocimene (PPM)                              0.762152\n",
      "trans-beta- Ocimene (PPM)                         0.681008\n",
      "Eucalyptol (PPM)                                  0.802360\n",
      "gamma-Terpinene (PPM)                             0.354635\n",
      "Terpinolene (PPM)                                 0.300588\n",
      "Linalool (PPM)                                    0.238285\n",
      "Fenchol (PPM)                                     0.312533\n",
      "Isopulegol (PPM)                                  0.429563\n",
      "Borneol (PPM)                                     0.333511\n",
      "alpha.-Terpineol (PPM)                            0.226582\n",
      "Geraniol (PPM)                                    0.347400\n",
      "Caryophyllene (PPM)                               0.219444\n",
      "Humulene (PPM)                                    0.219444\n",
      "Nerolidol (PPM)                                   0.271403\n",
      "Guaiol (PPM)                                      0.715583\n",
      "alpha-Bisabolol (PPM)                             0.258680\n",
      "Farnesene (PPM)                                   0.962803\n",
      "(R)-Endo-(+)-Fenchyl Alcohol (PPM)                0.962803\n",
      "Farnesol-2 (PPM)                                  1.000000\n",
      "Caryophyllene oxide (PPM)                         0.962803\n",
      "Total terpene (%w/w)                              0.219444\n",
      "dtype: float64\n"
     ]
    }
   ],
   "source": [
    "# Only check columns in chemical_cols\n",
    "missing_proportion = df[chemical_cols].isnull().mean()\n",
    "\n",
    "print(missing_proportion)\n",
    "# Select columns to keep (≤50% missing)\n",
    "keep_chem_cols = missing_proportion[missing_proportion <= 0.5].index.tolist()\n",
    "\n",
    "df = df.drop(columns=[col for col in chemical_cols if col not in keep_chem_cols])\n",
    "chemical_cols = keep_chem_cols\n",
    "\n"
   ]
  },
  {
   "cell_type": "code",
   "execution_count": 102,
   "metadata": {},
   "outputs": [
    {
     "data": {
      "text/plain": [
       "22"
      ]
     },
     "execution_count": 102,
     "metadata": {},
     "output_type": "execute_result"
    }
   ],
   "source": [
    "len(keep_chem_cols)"
   ]
  },
  {
   "cell_type": "code",
   "execution_count": 103,
   "metadata": {},
   "outputs": [
    {
     "name": "stderr",
     "output_type": "stream",
     "text": [
      "c:\\Users\\abbyh\\anaconda3\\Lib\\site-packages\\sklearn\\impute\\_iterative.py:785: ConvergenceWarning: [IterativeImputer] Early stopping criterion not reached.\n",
      "  warnings.warn(\n"
     ]
    }
   ],
   "source": [
    "\n",
    "# Fit imputer only on chemical columns\n",
    "imputer = IterativeImputer(estimator=RandomForestRegressor(n_estimators=100, random_state=42),\n",
    "                           max_iter=5, random_state=42)\n",
    "\n",
    "df[chemical_cols] = imputer.fit_transform(df[chemical_cols])\n"
   ]
  },
  {
   "cell_type": "code",
   "execution_count": 104,
   "metadata": {},
   "outputs": [
    {
     "name": "stdout",
     "output_type": "stream",
     "text": [
      "EQ5D_Round6                                              16298\n",
      "EQ5D_Round5                                              13161\n",
      "EQ5D_Round4                                               8464\n",
      "EQ5D_Round3                                               4279\n",
      "Product_Prescription3                                     2610\n",
      "Product_Prescription3_form                                2610\n",
      "Product_Prescription2                                      686\n",
      "Product_Prescription2_form                                 686\n",
      "insomniaEfficacyMeasure_Round1                              16\n",
      "EQ5D_Round2                                                  4\n",
      "SID                                                          0\n",
      "diag_Panic disorder                                          0\n",
      "diag_Eating disorder                                         0\n",
      "diag_Breast pain                                             0\n",
      "form_Capsules                                                0\n",
      "Product_Prescription1_form                                   0\n",
      "all_forms                                                    0\n",
      "diag_Headache                                                0\n",
      "form_Flos                                                    0\n",
      "diag_Social phobia                                           0\n",
      "diag_Rare and challenging skin condition                     0\n",
      "diag_Parkinson's                                             0\n",
      "diag_Tourette's syndrome                                     0\n",
      "diag_Agoraphobia                                             0\n",
      "form_Other                                                   0\n",
      "diag_Trigeminal neuralgia                                    0\n",
      "diag_Cancer pain                                             0\n",
      "diag_Complex regional pain syndrome                          0\n",
      "diag_Palliative care                                         0\n",
      "diag_Cluster headaches                                       0\n",
      "diag_Inflammatory arthritis                                  0\n",
      "diag_Ulcerative colitis                                      0\n",
      "form_Oil                                                     0\n",
      "form_Vape                                                    0\n",
      "form_Pastilles                                               0\n",
      "form_Spray                                                   0\n",
      "alpha-Bisabolol (PPM)                                        0\n",
      "Nerolidol (PPM)                                              0\n",
      "Humulene (PPM)                                               0\n",
      "Caryophyllene (PPM)                                          0\n",
      "Geraniol (PPM)                                               0\n",
      "alpha.-Terpineol (PPM)                                       0\n",
      "Borneol (PPM)                                                0\n",
      "Isopulegol (PPM)                                             0\n",
      "Fenchol (PPM)                                                0\n",
      "Linalool (PPM)                                               0\n",
      "Terpinolene (PPM)                                            0\n",
      "gamma-Terpinene (PPM)                                        0\n",
      "D-Limonene (PPM)                                             0\n",
      "Ocimene (sum of cis- and trans- isomers) (PPM)               0\n",
      "alfa-Terpinene (PPM)                                         0\n",
      "beta-Pinene (PPM)                                            0\n",
      "beta-Myrcene (PPM)                                           0\n",
      "Camphene (PPM)                                               0\n",
      "alpha-Pinene (PPM)                                           0\n",
      " Total_CBD (mg/g)                                            0\n",
      "Total_THC (mg/g)                                             0\n",
      "diag_Autistic spectrum disorder                              0\n",
      "form_Topical                                                 0\n",
      "diag_OCD                                                     0\n",
      "diag_Endometriosis                                           0\n",
      "diag_Chemotherapy induced nausea and vomiting                0\n",
      "diag_Epilepsy adult                                          0\n",
      "Charlson_comorbidity                                         0\n",
      "AIDS                                                         0\n",
      "Lymphoma                                                     0\n",
      "Leukemia                                                     0\n",
      "Solid_tumour                                                 0\n",
      "Moderate_to_severe_chronic_kidney_disease                    0\n",
      "Hemiplegia                                                   0\n",
      "Diabetes                                                     0\n",
      "Liver_disease                                                0\n",
      "Peptic_Ulcer_Disease                                         0\n",
      "Connective_tissue_disease                                    0\n",
      "Chronic_obstructive_pulmonary_disease                        0\n",
      "Dementia                                                     0\n",
      "Cerebrovascular_accident_or_transient_ischemic_attack        0\n",
      "Peripheral_vascular_disease                                  0\n",
      "Congestive_heart_failure                                     0\n",
      "Myocardial_infarction                                        0\n",
      "height                                                       0\n",
      "weight                                                       0\n",
      "occupation                                                   0\n",
      "Sex                                                          0\n",
      "Age                                                          0\n",
      "Product_Prescription1                                        0\n",
      "Hypertension                                                 0\n",
      "Depression_or_anxiety                                        0\n",
      "Arthritis                                                    0\n",
      "diag_Osteoarthritis                                          0\n",
      "diag_Crohns                                                  0\n",
      "diag_Hypermobility                                           0\n",
      "EQ5D_Round1                                                  0\n",
      "diag_Insomnia                                                0\n",
      "diag_Migraine                                                0\n",
      "diag_Attention deficit hyperactivity disorder                0\n",
      "diag_Neuropathic pain                                        0\n",
      "diag_Multiple sclerosis                                      0\n",
      "diag_Fibromyalgia                                            0\n",
      "diag_PTSD                                                    0\n",
      "diag_Chronic pain                                            0\n",
      "Epilepsy                                                     0\n",
      "diag_Anxiety                                                 0\n",
      "diag_Depression                                              0\n",
      "GAD7_Round1                                                  0\n",
      "Cannabis_status                                              0\n",
      "alcohol_units                                                0\n",
      "Smoking_pack_years                                           0\n",
      "Smoking_status                                               0\n",
      "Allergy                                                      0\n",
      "Endocrine_thyroid_dysfunction                                0\n",
      "VTE                                                          0\n",
      "Total terpene (%w/w)                                         0\n",
      "dtype: int64\n"
     ]
    }
   ],
   "source": [
    "pd.set_option('display.max_rows', None)\n",
    "print(df.isnull().sum().sort_values(ascending=False))\n",
    "# df['insomniaEfficacyMeasure_Round1'] = df['insomniaEfficacyMeasure_Round1_x']  # or _y\n",
    "# df = df.drop(columns=['insomniaEfficacyMeasure_Round1_y'])\n",
    "df=df.drop(['Product_Prescription1_form','Product_Prescription2_form', 'Product_Prescription3_form','all_forms'], axis=1)"
   ]
  },
  {
   "cell_type": "code",
   "execution_count": 105,
   "metadata": {},
   "outputs": [],
   "source": [
    "## mean imputation for insomniaEfficacyMeasure_Round1\n",
    "\n",
    "insomnia_mean = df['insomniaEfficacyMeasure_Round1'].mean()\n",
    "df['insomniaEfficacyMeasure_Round1'] = df['insomniaEfficacyMeasure_Round1'].fillna(insomnia_mean)"
   ]
  },
  {
   "cell_type": "markdown",
   "metadata": {},
   "source": [
    "Adding Product ID"
   ]
  },
  {
   "cell_type": "code",
   "execution_count": 106,
   "id": "d06fbe5f",
   "metadata": {},
   "outputs": [],
   "source": [
    "copy=df.copy()"
   ]
  },
  {
   "cell_type": "code",
   "execution_count": 107,
   "id": "81571ce6",
   "metadata": {},
   "outputs": [
    {
     "data": {
      "text/plain": [
       "['SID',\n",
       " 'EQ5D_Round1',\n",
       " 'EQ5D_Round2',\n",
       " 'EQ5D_Round3',\n",
       " 'EQ5D_Round4',\n",
       " 'EQ5D_Round5',\n",
       " 'EQ5D_Round6',\n",
       " 'Product_Prescription1',\n",
       " 'Product_Prescription2',\n",
       " 'Product_Prescription3',\n",
       " 'Age',\n",
       " 'Sex',\n",
       " 'occupation',\n",
       " 'weight',\n",
       " 'height',\n",
       " 'Myocardial_infarction',\n",
       " 'Congestive_heart_failure',\n",
       " 'Peripheral_vascular_disease',\n",
       " 'Cerebrovascular_accident_or_transient_ischemic_attack',\n",
       " 'Dementia',\n",
       " 'Chronic_obstructive_pulmonary_disease',\n",
       " 'Connective_tissue_disease',\n",
       " 'Peptic_Ulcer_Disease',\n",
       " 'Liver_disease',\n",
       " 'Diabetes',\n",
       " 'Hemiplegia',\n",
       " 'Moderate_to_severe_chronic_kidney_disease',\n",
       " 'Solid_tumour',\n",
       " 'Leukemia',\n",
       " 'Lymphoma',\n",
       " 'AIDS',\n",
       " 'Charlson_comorbidity',\n",
       " 'Hypertension',\n",
       " 'Depression_or_anxiety',\n",
       " 'Arthritis',\n",
       " 'Epilepsy',\n",
       " 'VTE',\n",
       " 'Endocrine_thyroid_dysfunction',\n",
       " 'Allergy',\n",
       " 'Smoking_status',\n",
       " 'Smoking_pack_years',\n",
       " 'alcohol_units',\n",
       " 'Cannabis_status',\n",
       " 'GAD7_Round1',\n",
       " 'insomniaEfficacyMeasure_Round1',\n",
       " 'diag_Depression',\n",
       " 'diag_Anxiety',\n",
       " 'diag_Chronic pain',\n",
       " 'diag_Osteoarthritis',\n",
       " 'diag_PTSD',\n",
       " 'diag_Fibromyalgia',\n",
       " 'diag_Multiple sclerosis',\n",
       " 'diag_Neuropathic pain',\n",
       " 'diag_Attention deficit hyperactivity disorder',\n",
       " 'diag_Migraine',\n",
       " 'diag_Insomnia',\n",
       " 'diag_Endometriosis',\n",
       " 'diag_Hypermobility',\n",
       " 'diag_Crohns',\n",
       " 'diag_Epilepsy adult',\n",
       " 'diag_Chemotherapy induced nausea and vomiting',\n",
       " 'diag_Autistic spectrum disorder',\n",
       " 'diag_OCD',\n",
       " 'diag_Ulcerative colitis',\n",
       " 'diag_Inflammatory arthritis',\n",
       " 'diag_Cluster headaches',\n",
       " 'diag_Palliative care',\n",
       " 'diag_Complex regional pain syndrome',\n",
       " 'diag_Cancer pain',\n",
       " 'diag_Trigeminal neuralgia',\n",
       " 'diag_Rare and challenging skin condition',\n",
       " 'diag_Agoraphobia',\n",
       " \"diag_Tourette's syndrome\",\n",
       " \"diag_Parkinson's\",\n",
       " 'diag_Headache',\n",
       " 'diag_Social phobia',\n",
       " 'diag_Eating disorder',\n",
       " 'diag_Breast pain',\n",
       " 'diag_Panic disorder',\n",
       " 'form_Capsules',\n",
       " 'form_Flos',\n",
       " 'form_Oil',\n",
       " 'form_Other',\n",
       " 'form_Pastilles',\n",
       " 'form_Spray',\n",
       " 'form_Topical',\n",
       " 'form_Vape',\n",
       " 'Total_THC (mg/g)',\n",
       " ' Total_CBD (mg/g)',\n",
       " 'alpha-Pinene (PPM)',\n",
       " 'Camphene (PPM)',\n",
       " 'beta-Myrcene (PPM)',\n",
       " 'beta-Pinene (PPM)',\n",
       " 'alfa-Terpinene (PPM)',\n",
       " 'Ocimene (sum of cis- and trans- isomers) (PPM)',\n",
       " 'D-Limonene (PPM)',\n",
       " 'gamma-Terpinene (PPM)',\n",
       " 'Terpinolene (PPM)',\n",
       " 'Linalool (PPM)',\n",
       " 'Fenchol (PPM)',\n",
       " 'Isopulegol (PPM)',\n",
       " 'Borneol (PPM)',\n",
       " 'alpha.-Terpineol (PPM)',\n",
       " 'Geraniol (PPM)',\n",
       " 'Caryophyllene (PPM)',\n",
       " 'Humulene (PPM)',\n",
       " 'Nerolidol (PPM)',\n",
       " 'alpha-Bisabolol (PPM)',\n",
       " 'Total terpene (%w/w)']"
      ]
     },
     "execution_count": 107,
     "metadata": {},
     "output_type": "execute_result"
    }
   ],
   "source": [
    "copy.columns.tolist()"
   ]
  },
  {
   "cell_type": "code",
   "execution_count": 108,
   "metadata": {},
   "outputs": [],
   "source": [
    "copy['Product_Prescription_ID1'] = pd.factorize(copy['Product_Prescription1'])[0]\n",
    "copy['Product_Prescription_ID2'] = pd.factorize(copy['Product_Prescription2'])[0]\n",
    "copy['Product_Prescription_ID3'] = pd.factorize(copy['Product_Prescription3'])[0]\n"
   ]
  },
  {
   "cell_type": "code",
   "execution_count": 112,
   "metadata": {},
   "outputs": [
    {
     "data": {
      "text/plain": [
       "199"
      ]
     },
     "execution_count": 112,
     "metadata": {},
     "output_type": "execute_result"
    }
   ],
   "source": [
    "copy['Product_Prescription_ID3'].nunique()"
   ]
  },
  {
   "cell_type": "code",
   "execution_count": 113,
   "id": "5ec01ee1",
   "metadata": {},
   "outputs": [],
   "source": [
    "copy=copy.drop(['Product_Prescription1','Product_Prescription2','Product_Prescription3'], axis=1)"
   ]
  },
  {
   "cell_type": "code",
   "execution_count": 114,
   "metadata": {},
   "outputs": [],
   "source": [
    "copy.to_csv('rq1_cleaned_no_ae.csv', index=False)"
   ]
  }
 ],
 "metadata": {
  "kernelspec": {
   "display_name": "base",
   "language": "python",
   "name": "python3"
  },
  "language_info": {
   "codemirror_mode": {
    "name": "ipython",
    "version": 3
   },
   "file_extension": ".py",
   "mimetype": "text/x-python",
   "name": "python",
   "nbconvert_exporter": "python",
   "pygments_lexer": "ipython3",
   "version": "3.11.7"
  }
 },
 "nbformat": 4,
 "nbformat_minor": 5
}
