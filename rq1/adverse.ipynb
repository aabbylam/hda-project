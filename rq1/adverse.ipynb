{
 "cells": [
  {
   "cell_type": "code",
   "execution_count": 21,
   "id": "071f49b1",
   "metadata": {},
   "outputs": [],
   "source": [
    "import pandas as pd\n",
    "import numpy as np"
   ]
  },
  {
   "cell_type": "code",
   "execution_count": 25,
   "id": "29e6995d",
   "metadata": {},
   "outputs": [],
   "source": [
    "df=pd.read_csv('/rds/general/user/hsl121/home/hda_project/rq1/rq1_cleaned_no_ae.csv')\n",
    "adverse=pd.read_csv('/rds/general/user/hsl121/home/hda_project/rq1/rq1_full_df_adverse.csv')"
   ]
  },
  {
   "cell_type": "code",
   "execution_count": 23,
   "id": "1f00f861",
   "metadata": {},
   "outputs": [
    {
     "data": {
      "text/plain": [
       "(20593, 106)"
      ]
     },
     "execution_count": 23,
     "metadata": {},
     "output_type": "execute_result"
    }
   ],
   "source": [
    "df.shape"
   ]
  },
  {
   "cell_type": "markdown",
   "id": "f8eeb346",
   "metadata": {},
   "source": [
    "Binary AE Added"
   ]
  },
  {
   "cell_type": "code",
   "execution_count": 26,
   "id": "b7a93bce",
   "metadata": {},
   "outputs": [],
   "source": [
    "df = df.merge(adverse[['SID', 'adverse_binary']], on='SID', how='left')"
   ]
  },
  {
   "cell_type": "code",
   "execution_count": 27,
   "id": "00d0ab42",
   "metadata": {},
   "outputs": [
    {
     "data": {
      "text/plain": [
       "(20593, 107)"
      ]
     },
     "execution_count": 27,
     "metadata": {},
     "output_type": "execute_result"
    }
   ],
   "source": [
    "df.shape"
   ]
  }
 ],
 "metadata": {
  "kernelspec": {
   "display_name": "TDS",
   "language": "python",
   "name": "python3"
  },
  "language_info": {
   "codemirror_mode": {
    "name": "ipython",
    "version": 3
   },
   "file_extension": ".py",
   "mimetype": "text/x-python",
   "name": "python",
   "nbconvert_exporter": "python",
   "pygments_lexer": "ipython3",
   "version": "3.9.21"
  }
 },
 "nbformat": 4,
 "nbformat_minor": 5
}
