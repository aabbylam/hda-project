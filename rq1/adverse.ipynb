{
 "cells": [
  {
   "cell_type": "code",
   "execution_count": 1,
   "id": "071f49b1",
   "metadata": {},
   "outputs": [],
   "source": [
    "\n",
    "import pandas as pd\n",
    "import numpy as np\n",
    "import matplotlib.pyplot as plt\n",
    "from sklearn.linear_model import LinearRegression\n",
    "from sklearn.model_selection import train_test_split\n",
    "from sklearn.preprocessing import StandardScaler\n",
    "from sklearn.metrics import mean_squared_error, r2_score\n",
    "from sklearn.linear_model import Ridge, RidgeCV, Lasso"
   ]
  },
  {
   "cell_type": "code",
   "execution_count": 2,
   "id": "29e6995d",
   "metadata": {},
   "outputs": [],
   "source": [
    "df=pd.read_csv('/rds/general/user/hsl121/home/hda_project/rq1/rq1_cleaned_no_ae.csv')\n",
    "adverse=pd.read_csv('/rds/general/user/hsl121/home/hda_project/rq1/rq1_full_df_adverse.csv')"
   ]
  },
  {
   "cell_type": "code",
   "execution_count": 23,
   "id": "1f00f861",
   "metadata": {},
   "outputs": [
    {
     "data": {
      "text/plain": [
       "(20593, 106)"
      ]
     },
     "execution_count": 23,
     "metadata": {},
     "output_type": "execute_result"
    }
   ],
   "source": [
    "df.shape"
   ]
  },
  {
   "cell_type": "markdown",
   "id": "f8eeb346",
   "metadata": {},
   "source": [
    "Binary AE Added"
   ]
  },
  {
   "cell_type": "code",
   "execution_count": 3,
   "id": "b7a93bce",
   "metadata": {},
   "outputs": [],
   "source": [
    "df = df.merge(adverse[['SID', 'adverse_binary']], on='SID', how='left')"
   ]
  },
  {
   "cell_type": "code",
   "execution_count": 27,
   "id": "00d0ab42",
   "metadata": {},
   "outputs": [
    {
     "data": {
      "text/plain": [
       "(20593, 107)"
      ]
     },
     "execution_count": 27,
     "metadata": {},
     "output_type": "execute_result"
    }
   ],
   "source": [
    "df.shape"
   ]
  },
  {
   "cell_type": "code",
   "execution_count": 4,
   "id": "837aa807",
   "metadata": {},
   "outputs": [],
   "source": [
    "df.columns\n",
    "drop=['EQ5D_Round2', 'EQ5D_Round3', 'EQ5D_Round4','EQ5D_Round5', 'EQ5D_Round6']\n",
    "df=df.drop(columns=drop)"
   ]
  },
  {
   "cell_type": "code",
   "execution_count": 5,
   "id": "033389dc",
   "metadata": {},
   "outputs": [],
   "source": [
    "full=df.copy()"
   ]
  },
  {
   "cell_type": "code",
   "execution_count": 6,
   "id": "5a8f8bec",
   "metadata": {},
   "outputs": [],
   "source": [
    "X=full.drop(['adverse_binary','SID'], axis=1)\n",
    "y=full['adverse_binary']\n",
    "\n",
    "\n",
    "X_train, X_test, y_train, y_test = train_test_split(X, y, test_size=0.2, random_state=42)\n"
   ]
  },
  {
   "cell_type": "code",
   "execution_count": 39,
   "id": "9c8cc0d2",
   "metadata": {},
   "outputs": [
    {
     "name": "stdout",
     "output_type": "stream",
     "text": [
      "Test MSE: 0.052\n",
      "Test R²: 0.022\n"
     ]
    }
   ],
   "source": [
    "y_pred = rf.predict(X_test)\n",
    "\n",
    "mse = mean_squared_error(y_test, y_pred)\n",
    "r2 = r2_score(y_test, y_pred)\n",
    "\n",
    "print(f\"Test MSE: {mse:.3f}\")\n",
    "print(f\"Test R²: {r2:.3f}\")\n"
   ]
  },
  {
   "cell_type": "markdown",
   "id": "97fdd130",
   "metadata": {},
   "source": [
    "XGBoost"
   ]
  },
  {
   "cell_type": "code",
   "execution_count": null,
   "id": "2aad5236",
   "metadata": {},
   "outputs": [
    {
     "name": "stderr",
     "output_type": "stream",
     "text": [
      "/rds/general/user/hsl121/home/anaconda3/envs/TDS/lib/python3.9/site-packages/xgboost/core.py:158: UserWarning: [20:22:20] WARNING: /workspace/src/learner.cc:740: \n",
      "Parameters: { \"use_label_encoder\" } are not used.\n",
      "\n",
      "  warnings.warn(smsg, UserWarning)\n"
     ]
    }
   ],
   "source": [
    "import xgboost as xgb\n",
    "xgb_model = xgb.XGBClassifier(\n",
    "    objective='binary:logistic',\n",
    "    eval_metric='logloss',\n",
    "    use_label_encoder=False,\n",
    "    random_state=42,\n",
    "    scale_pos_weight=(y == 0).sum() / (y == 1).sum()  # handle imbalance\n",
    ")\n",
    "\n",
    "xgb_model.fit(X_train, y_train)\n"
   ]
  },
  {
   "cell_type": "code",
   "execution_count": null,
   "id": "0c99202b",
   "metadata": {},
   "outputs": [],
   "source": [
    "y_pred = xgb_model.predict(X_test)\n",
    "y_proba = xgb_model.predict_proba(X_test)[:, 1]\n",
    "\n",
    "print(\"Confusion Matrix:\\n\", confusion_matrix(y_test, y_pred))\n",
    "print(\"\\nClassification Report:\\n\", classification_report(y_test, y_pred))\n",
    "print(\"ROC AUC Score:\", roc_auc_score(y_test, y_proba))\n"
   ]
  }
 ],
 "metadata": {
  "kernelspec": {
   "display_name": "TDS",
   "language": "python",
   "name": "python3"
  },
  "language_info": {
   "codemirror_mode": {
    "name": "ipython",
    "version": 3
   },
   "file_extension": ".py",
   "mimetype": "text/x-python",
   "name": "python",
   "nbconvert_exporter": "python",
   "pygments_lexer": "ipython3",
   "version": "3.9.21"
  }
 },
 "nbformat": 4,
 "nbformat_minor": 5
}
