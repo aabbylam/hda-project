{
 "cells": [
  {
   "cell_type": "code",
   "execution_count": 1,
   "id": "f0961af6",
   "metadata": {},
   "outputs": [],
   "source": [
    "import pandas as pd\n",
    "import numpy as np"
   ]
  },
  {
   "cell_type": "code",
   "execution_count": 25,
   "id": "fc241f58",
   "metadata": {},
   "outputs": [],
   "source": [
    "scores=pd.read_excel('/rds/general/user/hsl121/home/hda_project/data/Scores 6 Jan 2025_Prescribed_Completed Baseline PROMs.xlsx')\n",
    "order_states=pd.read_csv('/rds/general/user/hsl121/home/hda_project/data/2025 AI Imperial Dataset Orders_Prescription_Formulas.csv')\n",
    "prescription_formula=pd.read_csv('/rds/general/user/hsl121/home/hda_project/data/2025 AI Imperial Dataset Orders_Prescription_Formulas.csv')\n",
    "adverse=pd.read_excel('/rds/general/user/hsl121/home/hda_project/data/Adverse Events 6 Jan 2025_Prescribed_Completed Baseline PROMs.xlsx')\n",
    "comorbidites=pd.read_excel('/rds/general/user/hsl121/home/hda_project/data/Comorbidities 6 Jan 2025_Prescribed_Completed Baseline PROMs.xlsx')\n",
    "medications=pd.read_excel('/rds/general/user/hsl121/home/hda_project/data/Medications 6 Jan 2025_Prescribed_Completed Baseline PROMs.xlsx')\n",
    "prescription=pd.read_excel('/rds/general/user/hsl121/home/hda_project/data/Prescriptions 6 Jan 2025_Prescribed_Completed Baseline PROMs NEW.xlsx')\n",
    "product=pd.read_excel('/rds/general/user/hsl121/home/hda_project/data/Product Data.xlsx')"
   ]
  },
  {
   "cell_type": "markdown",
   "id": "1202f1eb",
   "metadata": {},
   "source": [
    "EQ5D Score Mapping"
   ]
  },
  {
   "cell_type": "code",
   "execution_count": 3,
   "id": "1884632a",
   "metadata": {},
   "outputs": [],
   "source": [
    "eq5d=scores[scores['promName']=='EQ5D']\n",
    "eq5d=eq5d[['SID','Round','promName','total_score','completionDate']]"
   ]
  },
  {
   "cell_type": "code",
   "execution_count": null,
   "id": "de4b40e6",
   "metadata": {},
   "outputs": [
    {
     "data": {
      "text/plain": [
       "31434"
      ]
     },
     "execution_count": 6,
     "metadata": {},
     "output_type": "execute_result"
    },
    {
     "ename": "",
     "evalue": "",
     "output_type": "error",
     "traceback": [
      "\u001b[1;31mnotebook controller is DISPOSED. \n",
      "\u001b[1;31mView Jupyter <a href='command:jupyter.viewOutput'>log</a> for further details."
     ]
    }
   ],
   "source": [
    "eq5d[\"SID\"].nunique()"
   ]
  },
  {
   "cell_type": "code",
   "execution_count": 5,
   "id": "32cedda0",
   "metadata": {},
   "outputs": [
    {
     "name": "stdout",
     "output_type": "stream",
     "text": [
      "Index(['SID', 'Round', 'promName', 'total_score', 'completionDate'], dtype='object')\n"
     ]
    }
   ],
   "source": [
    "print(eq5d.columns)\n",
    "# keeping SID with follow up data\n",
    "sids_with_followup = eq5d[eq5d['Round'].astype(int) > 1]['SID'].unique()\n",
    "eq5d = eq5d[eq5d['SID'].isin(sids_with_followup)].reset_index(drop=True)\n",
    "\n"
   ]
  },
  {
   "cell_type": "code",
   "execution_count": 6,
   "id": "9943cc4e",
   "metadata": {},
   "outputs": [
    {
     "name": "stdout",
     "output_type": "stream",
     "text": [
      "['Title', 'Index Value Calculator', 'EQ-5D-5L Value Sets']\n"
     ]
    }
   ],
   "source": [
    "xls = pd.ExcelFile('/rds/general/user/hsl121/home/hda_project/Protocol and data framework/Copy of EQ-5D-5L_Crosswalk_Index_Value_Calculator_MAC.xls')\n",
    "print(xls.sheet_names)\n"
   ]
  },
  {
   "cell_type": "code",
   "execution_count": 7,
   "id": "03289df7",
   "metadata": {},
   "outputs": [],
   "source": [
    "eq5d_index = pd.read_excel(xls, sheet_name='EQ-5D-5L Value Sets', skiprows=1)\n"
   ]
  },
  {
   "cell_type": "code",
   "execution_count": 8,
   "id": "b5ab55da",
   "metadata": {},
   "outputs": [],
   "source": [
    "eq5d_index = eq5d_index.drop(eq5d_index.columns[0], axis=1)\n",
    "eq5d_index= eq5d_index[['5L profile', 'UK']]\n"
   ]
  },
  {
   "cell_type": "code",
   "execution_count": null,
   "id": "7448406e",
   "metadata": {},
   "outputs": [
    {
     "data": {
      "text/plain": [
       "Index(['5L profile', 'UK'], dtype='object')"
      ]
     },
     "execution_count": 11,
     "metadata": {},
     "output_type": "execute_result"
    },
    {
     "ename": "",
     "evalue": "",
     "output_type": "error",
     "traceback": [
      "\u001b[1;31mnotebook controller is DISPOSED. \n",
      "\u001b[1;31mView Jupyter <a href='command:jupyter.viewOutput'>log</a> for further details."
     ]
    }
   ],
   "source": [
    "eq5d_index.columns"
   ]
  },
  {
   "cell_type": "code",
   "execution_count": null,
   "id": "4807a7fd",
   "metadata": {},
   "outputs": [
    {
     "data": {
      "text/plain": [
       "Index(['SID', 'Round', 'promName', 'total_score', 'completionDate'], dtype='object')"
      ]
     },
     "execution_count": 12,
     "metadata": {},
     "output_type": "execute_result"
    },
    {
     "ename": "",
     "evalue": "",
     "output_type": "error",
     "traceback": [
      "\u001b[1;31mnotebook controller is DISPOSED. \n",
      "\u001b[1;31mView Jupyter <a href='command:jupyter.viewOutput'>log</a> for further details."
     ]
    }
   ],
   "source": [
    "eq5d.columns"
   ]
  },
  {
   "cell_type": "code",
   "execution_count": 9,
   "id": "485e9033",
   "metadata": {},
   "outputs": [],
   "source": [
    "eq5d = eq5d.merge(eq5d_index, left_on='total_score', right_on='5L profile', how='left')\n"
   ]
  },
  {
   "cell_type": "code",
   "execution_count": null,
   "id": "dc4cabc5",
   "metadata": {},
   "outputs": [
    {
     "data": {
      "text/plain": [
       "<bound method NDFrame.head of                                      SID  Round promName  total_score  \\\n",
       "0           003adIEhRDbcWiL9YN4rjAvekGl1      1     EQ5D      43455.0   \n",
       "1           003adIEhRDbcWiL9YN4rjAvekGl1      2     EQ5D      31222.0   \n",
       "2           003adIEhRDbcWiL9YN4rjAvekGl1      3     EQ5D      33222.0   \n",
       "3       00b622bb2e064de91714bb4d7812245e      1     EQ5D      14424.0   \n",
       "4       00b622bb2e064de91714bb4d7812245e      2     EQ5D      24434.0   \n",
       "...                                  ...    ...      ...          ...   \n",
       "107521              zZwQ0lYo31weDN038pOq      1     EQ5D      11333.0   \n",
       "107522              zZwQ0lYo31weDN038pOq      2     EQ5D      11222.0   \n",
       "107523              zZwQ0lYo31weDN038pOq      3     EQ5D      11122.0   \n",
       "107524      zZXvDhEI5neNrU419i5tlcvlEkz1      1     EQ5D      32544.0   \n",
       "107525      zZXvDhEI5neNrU419i5tlcvlEkz1      2     EQ5D      21222.0   \n",
       "\n",
       "                  completionDate  5L profile     UK  \n",
       "0       2023-01-27T09:28:22.807Z     43455.0 -0.218  \n",
       "1       2023-03-17T09:16:21.341Z     31222.0  0.666  \n",
       "2       2023-05-06T09:56:34.633Z     33222.0  0.562  \n",
       "3       2022-03-12T16:14:01.412Z     14424.0  0.283  \n",
       "4       2023-05-05T11:15:18.587Z     24434.0  0.202  \n",
       "...                          ...         ...    ...  \n",
       "107521  2022-03-09T19:27:08.978Z     11333.0  0.689  \n",
       "107522  2022-04-29T08:59:30.512Z     11222.0  0.736  \n",
       "107523  2022-07-17T10:40:51.029Z     11122.0  0.768  \n",
       "107524  2024-10-24T12:53:39.582Z     32544.0  0.020  \n",
       "107525  2024-12-24T10:04:00.122Z     21222.0  0.679  \n",
       "\n",
       "[107526 rows x 7 columns]>"
      ]
     },
     "execution_count": 14,
     "metadata": {},
     "output_type": "execute_result"
    },
    {
     "ename": "",
     "evalue": "",
     "output_type": "error",
     "traceback": [
      "\u001b[1;31mnotebook controller is DISPOSED. \n",
      "\u001b[1;31mView Jupyter <a href='command:jupyter.viewOutput'>log</a> for further details."
     ]
    }
   ],
   "source": [
    "eq5d.head"
   ]
  },
  {
   "cell_type": "code",
   "execution_count": 10,
   "id": "3a3855ba",
   "metadata": {},
   "outputs": [],
   "source": [
    "\n",
    "eq5d_wide = eq5d.pivot_table(index='SID', \n",
    "                                    columns='Round', \n",
    "                                    values='UK', \n",
    "                                    aggfunc='first')\n",
    "\n",
    "eq5d_wide.columns = [f\"EQ5D_Round{r}\" for r in eq5d_wide.columns]\n",
    "eq5d_wide = eq5d_wide.reset_index()\n"
   ]
  },
  {
   "cell_type": "code",
   "execution_count": null,
   "id": "c42f100b",
   "metadata": {},
   "outputs": [
    {
     "data": {
      "text/plain": [
       "(25362, 14)"
      ]
     },
     "execution_count": 16,
     "metadata": {},
     "output_type": "execute_result"
    },
    {
     "ename": "",
     "evalue": "",
     "output_type": "error",
     "traceback": [
      "\u001b[1;31mnotebook controller is DISPOSED. \n",
      "\u001b[1;31mView Jupyter <a href='command:jupyter.viewOutput'>log</a> for further details."
     ]
    }
   ],
   "source": [
    "eq5d_wide.columns\n",
    "eq5d_wide.shape"
   ]
  },
  {
   "cell_type": "code",
   "execution_count": 11,
   "id": "d8abc103",
   "metadata": {},
   "outputs": [],
   "source": [
    "# Pivot 1: UK EQ5D scores\n",
    "eq5d_scores = eq5d.pivot_table(\n",
    "    index='SID',\n",
    "    columns='Round',\n",
    "    values='UK',\n",
    "    aggfunc='first'\n",
    ")\n",
    "eq5d_scores.columns = [f\"EQ5D_Round{r}\" for r in eq5d_scores.columns]\n",
    "eq5d_scores = eq5d_scores.reset_index()\n",
    "\n",
    "# Pivot 2: Completion dates\n",
    "eq5d_dates = eq5d.pivot_table(\n",
    "    index='SID',\n",
    "    columns='Round',\n",
    "    values='completionDate',\n",
    "    aggfunc='first'\n",
    ")\n",
    "eq5d_dates.columns = [f\"EQ5D_Date_Round{r}\" for r in eq5d_dates.columns]\n",
    "eq5d_dates = eq5d_dates.reset_index()\n",
    "\n",
    "# Merge both tables\n",
    "eq5d_wide_with_dates = pd.merge(eq5d_scores, eq5d_dates, on='SID', how='left')\n"
   ]
  },
  {
   "cell_type": "code",
   "execution_count": null,
   "id": "1ba9c3b9",
   "metadata": {},
   "outputs": [
    {
     "data": {
      "text/plain": [
       "(25362, 27)"
      ]
     },
     "execution_count": 18,
     "metadata": {},
     "output_type": "execute_result"
    },
    {
     "ename": "",
     "evalue": "",
     "output_type": "error",
     "traceback": [
      "\u001b[1;31mnotebook controller is DISPOSED. \n",
      "\u001b[1;31mView Jupyter <a href='command:jupyter.viewOutput'>log</a> for further details."
     ]
    }
   ],
   "source": [
    "eq5d_wide_with_dates.shape"
   ]
  },
  {
   "cell_type": "code",
   "execution_count": null,
   "id": "3d5cbf0c",
   "metadata": {},
   "outputs": [
    {
     "data": {
      "text/plain": [
       "Index(['SID', 'EQ5D_Round1', 'EQ5D_Round2', 'EQ5D_Round3', 'EQ5D_Round4',\n",
       "       'EQ5D_Round5', 'EQ5D_Round6', 'EQ5D_Round7', 'EQ5D_Round8',\n",
       "       'EQ5D_Round9', 'EQ5D_Round10', 'EQ5D_Round11', 'EQ5D_Round12',\n",
       "       'EQ5D_Round13', 'EQ5D_Date_Round1', 'EQ5D_Date_Round2',\n",
       "       'EQ5D_Date_Round3', 'EQ5D_Date_Round4', 'EQ5D_Date_Round5',\n",
       "       'EQ5D_Date_Round6', 'EQ5D_Date_Round7', 'EQ5D_Date_Round8',\n",
       "       'EQ5D_Date_Round9', 'EQ5D_Date_Round10', 'EQ5D_Date_Round11',\n",
       "       'EQ5D_Date_Round12', 'EQ5D_Date_Round13'],\n",
       "      dtype='object')"
      ]
     },
     "execution_count": 19,
     "metadata": {},
     "output_type": "execute_result"
    },
    {
     "ename": "",
     "evalue": "",
     "output_type": "error",
     "traceback": [
      "\u001b[1;31mnotebook controller is DISPOSED. \n",
      "\u001b[1;31mView Jupyter <a href='command:jupyter.viewOutput'>log</a> for further details."
     ]
    }
   ],
   "source": [
    "eq5d_wide_with_dates.columns"
   ]
  },
  {
   "cell_type": "markdown",
   "id": "48e85c8e",
   "metadata": {},
   "source": [
    "Prescription Data"
   ]
  },
  {
   "cell_type": "code",
   "execution_count": 12,
   "id": "9672e3de",
   "metadata": {},
   "outputs": [
    {
     "name": "stdout",
     "output_type": "stream",
     "text": [
      "Checking prescription attempt #1...\n",
      "Checking prescription attempt #2...\n",
      "Checking prescription attempt #3...\n",
      "Checking prescription attempt #4...\n",
      "Checking prescription attempt #5...\n",
      "Checking prescription attempt #6...\n",
      "Checking prescription attempt #7...\n",
      "Checking prescription attempt #8...\n",
      "Checking prescription attempt #9...\n"
     ]
    }
   ],
   "source": [
    "# Step 1: Prep\n",
    "eq5d = eq5d_wide_with_dates.copy()\n",
    "prescription['DateofPrescription'] = pd.to_datetime(prescription['DateofPrescription'])\n",
    "\n",
    "# Make sure EQ5D dates are datetime and timezone-naive\n",
    "date_cols = [col for col in eq5d.columns if col.startswith('EQ5D_Date_Round')]\n",
    "eq5d[date_cols] = eq5d[date_cols].apply(pd.to_datetime, errors='coerce').apply(lambda x: x.dt.tz_localize(None))\n",
    "\n",
    "# Sort prescriptions\n",
    "prescription_sorted = prescription.sort_values(['SID', 'DateofPrescription'])\n",
    "prescription_sorted['prescription_rank'] = prescription_sorted.groupby('SID').cumcount() + 1\n",
    "\n",
    "# Initialize effective prescription with NaT\n",
    "eq5d['EffectivePrescriptionDate'] = pd.NaT\n",
    "\n",
    "# Loop through prescription attempts (1st to 5th)\n",
    "for attempt in range(1, 10):\n",
    "    print(f\"Checking prescription attempt #{attempt}...\")\n",
    "    \n",
    "    # Get nth prescription\n",
    "    nth_presc = prescription_sorted[prescription_sorted['prescription_rank'] == attempt]\n",
    "    nth_presc = nth_presc[['SID', 'DateofPrescription']].rename(columns={'DateofPrescription': f'PrescriptionDate_{attempt}'})\n",
    "    \n",
    "    # Merge into eq5d\n",
    "    eq5d = eq5d.merge(nth_presc, on='SID', how='left')\n",
    "    \n",
    "    # Fill EffectivePrescriptionDate where it's still missing\n",
    "    mask = eq5d['EffectivePrescriptionDate'].isna() & eq5d[f'PrescriptionDate_{attempt}'].notna()\n",
    "    eq5d.loc[mask, 'EffectivePrescriptionDate'] = eq5d.loc[mask, f'PrescriptionDate_{attempt}']\n",
    "    \n",
    "    # Recalculate timing validity\n",
    "    eq5d['has_valid_baseline'] = eq5d['EQ5D_Date_Round1'] < eq5d['EffectivePrescriptionDate']\n",
    "    eq5d['has_valid_followup'] = eq5d[date_cols[1:]].gt(eq5d['EffectivePrescriptionDate'], axis=0).any(axis=1)\n",
    "    \n",
    "    # Stop if everyone is now valid\n",
    "    if eq5d['has_valid_baseline'].all() & eq5d['has_valid_followup'].all():\n",
    "        print(f\"All patients valid by attempt #{attempt}.\")\n",
    "        break\n"
   ]
  },
  {
   "cell_type": "code",
   "execution_count": 13,
   "id": "165e1798",
   "metadata": {},
   "outputs": [],
   "source": [
    "# Step 1: Filter valid patients\n",
    "valid_eq5d = eq5d[eq5d['has_valid_baseline'] & eq5d['has_valid_followup']].copy()\n",
    "\n",
    "# Step 2: Get all prescriptions for valid SIDs\n",
    "valid_sids = valid_eq5d['SID'].unique()\n",
    "prescription_valid = prescription[prescription['SID'].isin(valid_sids)].copy()\n",
    "\n",
    "# Step 3: Sort and rank prescriptions per SID\n",
    "prescription_valid = prescription_valid.sort_values(['SID', 'DateofPrescription'])\n",
    "prescription_valid['prescription_rank'] = prescription_valid.groupby('SID').cumcount() + 1\n",
    "prescription_valid = prescription_valid[prescription_valid['prescription_rank'] <= 3]\n",
    "\n",
    "\n",
    "# Step 4: Pivot each prescription field into separate columns\n",
    "pivoted_prescription = prescription_valid.pivot(index='SID', columns='prescription_rank', \n",
    "                                                 values=['DateofPrescription', 'Product', 'Totalquantity'])\n",
    "\n",
    "# Step 5: Flatten MultiIndex column names\n",
    "pivoted_prescription.columns = [f\"{var}_Prescription{rank}\" for var, rank in pivoted_prescription.columns]\n",
    "pivoted_prescription = pivoted_prescription.reset_index()\n",
    "\n",
    "# Step 6: Merge into final wide dataset\n",
    "final_df = valid_eq5d.merge(pivoted_prescription, on='SID', how='left')\n"
   ]
  },
  {
   "cell_type": "code",
   "execution_count": 37,
   "id": "4aedbe47",
   "metadata": {},
   "outputs": [],
   "source": [
    "full=pd.merge(final_df, comorbidites, on='SID', how='left')"
   ]
  },
  {
   "cell_type": "markdown",
   "id": "db708381",
   "metadata": {},
   "source": [
    "Other Scores (Baseline) Data"
   ]
  },
  {
   "cell_type": "code",
   "execution_count": 38,
   "id": "b6459257",
   "metadata": {},
   "outputs": [
    {
     "name": "stdout",
     "output_type": "stream",
     "text": [
      "['EQ5D' 'GAD7' 'MPQ2' 'VASPainScore' 'insomniaEfficacyMeasure'\n",
      " 'painInventoryShortForm' 'PGIC' 'PHQ9' 'MSQoL' 'PDQ39'\n",
      " 'fibromyalgiaSymptomSeverityScore' 'impactOfEventsScale' 'HIT' 'MIDAS'\n",
      " 'AKPS' 'POS' 'IBDQ' 'QOLIEQ' 'symptomDistressScale'\n",
      " 'obsessiveCompulsiveInventory' 'IEPS' 'MOVES' 'SPIN' 'EDEQ']\n"
     ]
    }
   ],
   "source": [
    "print(scores['promName'].unique())\n",
    "# PROMs to extract\n",
    "target_proms = ['GAD7', 'insomniaEfficacyMeasure']\n",
    "\n",
    "## PGIC was not used because it is not availble as baseline data, only follow up\n",
    "\n",
    "# Filter scores data to only these PROMs and Round 1\n",
    "filtered = scores[(scores['promName'].isin(target_proms)) & (scores['Round'] == 1)]\n",
    "\n",
    "# Pivot to wide format: one column per PROM, showing total_score at Round 1\n",
    "prom_wide = filtered.pivot_table(index='SID',\n",
    "                                 columns='promName',\n",
    "                                 values='total_score',\n",
    "                                 aggfunc='first')\n",
    "\n",
    "# Rename columns to include \"Round1\"\n",
    "prom_wide.columns = [f\"{col}_Round1\" for col in prom_wide.columns]\n",
    "\n",
    "# Reset index to turn SID back into a column\n",
    "prom_wide = prom_wide.reset_index()\n"
   ]
  },
  {
   "cell_type": "code",
   "execution_count": null,
   "id": "fdd4dda4",
   "metadata": {},
   "outputs": [
    {
     "data": {
      "text/plain": [
       "Index(['SID', 'GAD7_Round1', 'insomniaEfficacyMeasure_Round1'], dtype='object')"
      ]
     },
     "execution_count": 24,
     "metadata": {},
     "output_type": "execute_result"
    },
    {
     "ename": "",
     "evalue": "",
     "output_type": "error",
     "traceback": [
      "\u001b[1;31mnotebook controller is DISPOSED. \n",
      "\u001b[1;31mView Jupyter <a href='command:jupyter.viewOutput'>log</a> for further details."
     ]
    }
   ],
   "source": [
    "prom_wide.columns"
   ]
  },
  {
   "cell_type": "code",
   "execution_count": 39,
   "id": "520d0b3e",
   "metadata": {},
   "outputs": [],
   "source": [
    "full=pd.merge(full, prom_wide, on='SID', how='left')"
   ]
  },
  {
   "cell_type": "markdown",
   "id": "3a1dc27a",
   "metadata": {},
   "source": [
    "Final Dataset"
   ]
  },
  {
   "cell_type": "code",
   "execution_count": 40,
   "id": "f37804b3",
   "metadata": {},
   "outputs": [],
   "source": [
    "date_cols = [col for col in full.columns if col.startswith('EQ5D_Date_Round')]\n",
    "full = full.drop(columns=date_cols)"
   ]
  },
  {
   "cell_type": "code",
   "execution_count": 41,
   "id": "5b32e114",
   "metadata": {},
   "outputs": [],
   "source": [
    "drop=['EQ5D_Round7', 'EQ5D_Round8',\n",
    "       'EQ5D_Round9', 'EQ5D_Round10', 'EQ5D_Round11', 'EQ5D_Round12',\n",
    "       'EQ5D_Round13','PrescriptionDate_1',\n",
    "       'has_valid_baseline', 'has_valid_followup', 'PrescriptionDate_2',\n",
    "       'PrescriptionDate_3', 'PrescriptionDate_4', 'PrescriptionDate_5',\n",
    "       'PrescriptionDate_6', 'PrescriptionDate_7', 'PrescriptionDate_8',\n",
    "       'PrescriptionDate_9','Prescribed', 'BaselinePROMS',\n",
    "       'FirstPrescriptionDate', 'FirstYearPrescribed', 'Status',\n",
    "       'GovernmentOfficeRegion','DateofPrescription_Prescription1', 'DateofPrescription_Prescription2',\n",
    "       'DateofPrescription_Prescription3']\n",
    "\n",
    "\n",
    "full = full.drop(columns=drop)\n",
    "\n"
   ]
  },
  {
   "cell_type": "code",
   "execution_count": null,
   "id": "8bdfc353",
   "metadata": {},
   "outputs": [
    {
     "data": {
      "text/plain": [
       "Index(['SID', 'EQ5D_Round1', 'EQ5D_Round2', 'EQ5D_Round3', 'EQ5D_Round4',\n",
       "       'EQ5D_Round5', 'EQ5D_Round6', 'EffectivePrescriptionDate',\n",
       "       'Product_Prescription1', 'Product_Prescription2',\n",
       "       'Product_Prescription3', 'Totalquantity_Prescription1',\n",
       "       'Totalquantity_Prescription2', 'Totalquantity_Prescription3', 'Age',\n",
       "       'Sex', 'occupation', 'weight', 'height', 'BMI', 'primDiag', 'secDiag',\n",
       "       'tertDiag', 'Myocardial_infarction', 'Congestive_heart_failure',\n",
       "       'Peripheral_vascular_disease',\n",
       "       'Cerebrovascular_accident_or_transient_ischemic_attack', 'Dementia',\n",
       "       'Chronic_obstructive_pulmonary_disease', 'Connective_tissue_disease',\n",
       "       'Peptic_Ulcer_Disease', 'Liver_disease', 'Diabetes', 'Hemiplegia',\n",
       "       'Moderate_to_severe_chronic_kidney_disease', 'Solid_tumour', 'Leukemia',\n",
       "       'Lymphoma', 'AIDS', 'Charlson_comorbidity', 'Hypertension',\n",
       "       'Depression_or_anxiety', 'Arthritis', 'Epilepsy', 'VTE',\n",
       "       'Endocrine_thyroid_dysfunction', 'Allergy', 'Smoking_status',\n",
       "       'Smoking_pack_years', 'alcohol_units', 'Cannabis_status',\n",
       "       'Cannabis_use_frequency', 'Cannabis_use_route', 'Cannabis_gram_per_day',\n",
       "       'Cannabis_gram_years', 'GAD7_Round1', 'insomniaEfficacyMeasure_Round1'],\n",
       "      dtype='object')"
      ]
     },
     "execution_count": 28,
     "metadata": {},
     "output_type": "execute_result"
    },
    {
     "ename": "",
     "evalue": "",
     "output_type": "error",
     "traceback": [
      "\u001b[1;31mnotebook controller is DISPOSED. \n",
      "\u001b[1;31mView Jupyter <a href='command:jupyter.viewOutput'>log</a> for further details."
     ]
    }
   ],
   "source": [
    "full.columns"
   ]
  },
  {
   "cell_type": "code",
   "execution_count": 21,
   "id": "1ce2fe08",
   "metadata": {},
   "outputs": [
    {
     "ename": "NameError",
     "evalue": "name 'full' is not defined",
     "output_type": "error",
     "traceback": [
      "\u001b[0;31m---------------------------------------------------------------------------\u001b[0m",
      "\u001b[0;31mNameError\u001b[0m                                 Traceback (most recent call last)",
      "Cell \u001b[0;32mIn[21], line 1\u001b[0m\n\u001b[0;32m----> 1\u001b[0m \u001b[43mfull\u001b[49m\u001b[38;5;241m.\u001b[39mto_csv(\u001b[38;5;124m\"\u001b[39m\u001b[38;5;124m/rds/general/user/hsl121/home/hda_project/rq1/rq1_full_df.csv\u001b[39m\u001b[38;5;124m\"\u001b[39m, index\u001b[38;5;241m=\u001b[39m\u001b[38;5;28;01mFalse\u001b[39;00m) \n",
      "\u001b[0;31mNameError\u001b[0m: name 'full' is not defined"
     ]
    }
   ],
   "source": [
    "# Dataset for EQ5D Score prediction (no adverse events)\n",
    "full.to_csv(\"/rds/general/user/hsl121/home/hda_project/rq1/rq1_full_df.csv\", index=False) "
   ]
  },
  {
   "cell_type": "markdown",
   "id": "f0962e49",
   "metadata": {},
   "source": [
    "Adding Adverse Events\n"
   ]
  },
  {
   "cell_type": "code",
   "execution_count": 19,
   "id": "da6bc645",
   "metadata": {},
   "outputs": [
    {
     "name": "stdout",
     "output_type": "stream",
     "text": [
      "['SID', 'Prescribed', 'BaselinePROMS', 'FirstPrescriptionDate', 'Date', 'DaysFromStart', 'AbdominalPain', 'AbdominalPaindurationindays', 'Agitation', 'Agitationdurationindays', 'Akathisia', 'Akathisia.1', 'AllergicReaction', 'AllergicReactiondurationindays', 'AllergicRhinitis', 'AllergicRhinitisdurationindays', 'Alopecia', 'Alopeciadurationindays', 'Amnesia', 'Amnesiadurationindays', 'Anorexia', 'Anorexiadurationindays', 'Anxiety', 'Anxietydurationindays', 'Arthralgia', 'Arthralgiadurationindays', 'Arthritis', 'Arthritisdurationindays', 'Ataxia', 'Ataxiadurationindays', 'Atelectasis', 'Atelectasisdurationindays', 'AtrialFibrillation', 'AtrialFibrillationdurationindays', 'AtrialFlutter', 'AtrialFlutterdurationindays', 'BackPain', 'BackPaindurationindays', 'Belching', 'Belchingdurationindays', 'Bloating', 'Bloatingdurationindays', 'BlurredVision', 'BlurredVisiondurationindays', 'BodyOdour', 'BodyOdourdurationindays', 'BonePain', 'BonePaindurationindays', 'Bruising', 'Bruisingdurationindays', 'Bruxism', 'Bruxismdurationindays', 'CannabinoidHyperemesisSyndrome', 'CannabinoidHyperemesisSyndromedurationindays', 'Cheilitis', 'Cheilitisdurationindays', 'CognitiveDisturbance', 'CognitiveDisturbancedurationindays', 'Colitis', 'Colitisdurationindays', 'ColonicObstruction', 'ColonicObstructiondurationindays', 'ConcentrationImpairment', 'ConcentrationImpairmentdurationindays', 'Confusion', 'Confusiondurationindays', 'Constipation', 'Constipationdurationindays', 'Cough', 'Coughdurationindays', 'Dehydration', 'Dehydrationdurationindays', 'Delirium', 'Deliriumdurationindays', 'Delusions', 'Delusionsdurationindays', 'Depression', 'Depressiondurationindays', 'DiabeticKetoacidosis', 'DiabeticKetoacidosisdurationindays', 'Diarrhoea', 'Diarrhoeadurationindays', 'Dissociation', 'Dissociationdurationindays', 'Dizziness', 'Dizzinessdurationindays', 'DryEye', 'DryEyedurationindays', 'DryMouth', 'DryMouthdurationindays', 'Dysaesthesia', 'Dysaesthesiadurationindays', 'Dysgeusia', 'Dysgeusiadurationindays', 'Dyspepsia', 'Dyspepsiadurationindays', 'Dysphasia', 'Dysphasiadurationindays', 'Dyspnoea', 'Dyspnoeadurationindays', 'Dystonia', 'Dystoniadurationindays', 'ErectileDysfunction', 'ErectileDysfunctiondurationindays', 'Euphoria', 'Euphoriadurationindays', 'EyePain', 'EyePaindurationindays', 'FacialPain', 'FacialPaindurationindays', 'FaecalIncontinence', 'FaecalIncontinencedurationindays', 'Fall', 'Falldurationindays', 'Fatigue', 'Fatiguedurationindays', 'Fever', 'Feverdurationindays', 'FlankPain', 'FlankPaindurationindays', 'Flashback', 'Flashbackdurationindays', 'Flatulence', 'Flatulencedurationindays', 'Floaters', 'Floatersdurationindays', 'Flushing', 'Flushingdurationindays', 'Gastritis', 'Gastritisdurationindays', 'GastroesophagealRefluxDisease', 'GastroesophagealRefluxDiseasedurationindays', 'GeneralisedMuscleWeakness', 'GeneralisedMuscleWeaknessdurationindays', 'Gynaecomastia', 'Gynaecomastiadurationindays', 'Haemorrhoids', 'Haemorrhoidsdurationindays', 'Hallucinations', 'Hallucinationsdurationindays', 'Headache', 'Headachedurationindays', 'HearingImpaired', 'HearingImpaireddurationindays', 'Hiccoughs', 'Hiccoughsdurationindays', 'Hoarseness', 'Hoarsenessdurationindays', 'HotFlashes', 'HotFlashesdurationindays', 'Hyperhidrosis', 'Hyperhidrosisdurationindays', 'Hypertension', 'Hypertensiondurationindays', 'Hypotension', 'Hypotensiondurationindays', 'Hypoxia', 'Hypoxiadurationindays', 'IncreasedAppetite', 'IncreasedAppetitedurationindays', 'Insomnia', 'Insomniadurationindays', 'IntrusiveThoughts', 'IntrusiveThoughtsdurationindays', 'IrregularMenstruation', 'IrregularMenstruationdurationindays', 'Irritability', 'Irritabilitydurationindays', 'Jaundice', 'Jaundicedurationindays', 'JointDislocation', 'JointDislocationdurationindays', 'JointRangeOfMotionDecreased', 'JointRangeOfMotionDecreaseddurationindays', 'JointRangeOfMotionDecreasedCervicalSpine', 'JointRangeOfMotionDecreasedCervicalSpinedurationindays', 'JointSubluxation', 'JointSubluxationdurationindays', 'Lethargy', 'Lethargydurationindays', 'LibidoDecreased', 'LibidoDecreaseddurationindays', 'LowerGastrointestinalHaemorrhage', 'LowerGastrointestinalHaemorrhagedurationindays', 'LungInfection', 'LungInfectiondurationindays', 'Lymphadenopathy', 'Lymphadenopathydurationindays', 'Mania', 'Maniadurationindays', 'Migraine', 'Migrainedurationindays', 'MovementsInvoluntary', 'MovementsInvoluntarydurationindays', 'Myalgia', 'Myalgiadurationindays', 'NasalCongestion', 'NasalCongestiondurationindays', 'Nausea', 'Nauseadurationindays', 'NeckPain', 'NeckPaindurationindays', 'Neuralgia', 'Neuralgiadurationindays', 'Nightmare', 'Nightmaredurationindays', 'NightSweats', 'NightSweatsdurationindays', 'Non-CardiacChestPain', 'Non-CardiacChestPaindurationindays', 'OedemaFace', 'OedemaFacedurationindays', 'OedemaLimbs', 'OedemaLimbsdurationindays', 'OpticNerveDisorder', 'OpticNerveDisorderdurationindays', 'OralPain', 'OralPaindurationindays', 'OralUlcer', 'OralUlcerdurationindays', 'OtitisExterna', 'OtitisExternadurationindays', 'Pain', 'Paindurationindays', 'PainInExtremity', 'PainInExtremitydurationindays', 'Palpitations', 'Palpitationsdurationindays', 'Paraesthesia', 'Paraesthesiadurationindays', 'Paranoia', 'Paranoiadurationindays', 'Pharyngitis', 'Pharyngitisdurationindays', 'Pneumothorax', 'Pneumothoraxdurationindays', 'ProductiveCough', 'ProductiveCoughdurationindays', 'Pruritus', 'Pruritusdurationindays', 'Psychosis', 'Psychosisdurationindays', 'RashAcneiform', 'RashAcneiformdurationindays', 'RashNOS', 'RashNOSdurationindays', 'RectalPain', 'RectalPaindurationindays', 'RenalCalculi', 'RenalCalculidrudurationindays', 'Restlessness', 'Restlessnessdurationindays', 'Seizure', 'Seizuredurationindays', 'SinusDisorder', 'SinusDisorderdurationindays', 'SinusPain', 'SinusPaindurationindays', 'SinusTachycardia', 'SinusTachycardiadurationindays', 'SkinInfection', 'SkinInfectiondurationindays', 'SmallIntestinalBacterialOvergrowth', 'SmallIntestinalBacterialOvergrowthdurationindays', 'Sneezing', 'Sneezingdurationindays', 'Somnolence', 'Somnolencedurationindays', 'SoreThroat', 'SoreThroatdurationindays', 'Spasticity', 'Spasticitydurationindays', 'Stereotypy', 'Stereotypydurationindays', 'StevensJohnsonSyndrome', 'StevensJohnsonSyndromedurationindays', 'SuicidalIdeation', 'SuicidalIdeationdurationindays', 'ThoughtsOfSelfHarm', 'ThoughtsOfSelfHarmdurationindays', 'Tinnitus', 'Tinnitusdurationindays', 'Tolerance', 'Tolerancedurationindays', 'Toothache', 'Toothachedurationindays', 'ToothDiscolouration', 'ToothDiscolourationdurationindays', 'Tremor', 'Tremordurationindays', 'UpperRespiratoryInfection', 'UpperRespiratoryInfectiondurationindays', 'UrinaryIncontinence', 'UrinaryIncontinencedurationindays', 'UrinaryRetention', 'UrinaryRetentiondurationindays', 'Urinarytractinfection', 'Urinarytractinfectiondurationindays', 'UrinaryTractPain', 'UrinaryTractPaindurationindays', 'UrinaryUrgency', 'UrinaryUrgencydurationindays', 'Uveitis', 'Uveitisdurationindays', 'Varicocele', 'Varicoceledurationindays', 'VasovagalReaction', 'VasovagalReactiondurationindays', 'Vertigo', 'Vertigodurationindays', 'VividDreams', 'VividDreamsdurationindays', 'Vomiting', 'Vomitingdurationindays', 'WeightGain', 'WeightGaindurationindays', 'WeightLoss', 'WeightLossdurationindays', 'Wheezing', 'Wheezingdurationindays', 'Withdrawal', 'Withdrawaldurationindays']\n"
     ]
    }
   ],
   "source": [
    "pd.set_option('display.max_columns', None)  \n",
    "print(adverse.columns.tolist())                  \n"
   ]
  },
  {
   "cell_type": "code",
   "execution_count": 30,
   "id": "ad3609e0",
   "metadata": {},
   "outputs": [
    {
     "data": {
      "text/plain": [
       "Index(['SID', 'Prescribed', 'BaselinePROMS', 'FirstPrescriptionDate', 'Date',\n",
       "       'DaysFromStart', 'AbdominalPain', 'AbdominalPaindurationindays',\n",
       "       'Agitation', 'Agitationdurationindays',\n",
       "       ...\n",
       "       'Vomiting', 'Vomitingdurationindays', 'WeightGain',\n",
       "       'WeightGaindurationindays', 'WeightLoss', 'WeightLossdurationindays',\n",
       "       'Wheezing', 'Wheezingdurationindays', 'Withdrawal',\n",
       "       'Withdrawaldurationindays'],\n",
       "      dtype='object', length=322)"
      ]
     },
     "execution_count": 30,
     "metadata": {},
     "output_type": "execute_result"
    }
   ],
   "source": [
    "adverse.columns"
   ]
  },
  {
   "cell_type": "code",
   "execution_count": 35,
   "id": "9c3ab039",
   "metadata": {},
   "outputs": [
    {
     "name": "stdout",
     "output_type": "stream",
     "text": [
      "0\n",
      "[0 1]\n"
     ]
    }
   ],
   "source": [
    "print(adverse['Withdrawal'].isna().sum())\n",
    "print(adverse['Withdrawal'].unique())"
   ]
  },
  {
   "cell_type": "code",
   "execution_count": 26,
   "id": "e591feab",
   "metadata": {},
   "outputs": [
    {
     "name": "stderr",
     "output_type": "stream",
     "text": [
      "/rds/general/ephemeral/user/hsl121/ephemeral/ipykernel_1531202/2125140838.py:19: FutureWarning: DataFrame.applymap has been deprecated. Use DataFrame.map instead.\n",
      "  adverse[adverse_cols] = adverse[adverse_cols].applymap(adverse_na)\n",
      "/rds/general/ephemeral/user/hsl121/ephemeral/ipykernel_1531202/2125140838.py:20: FutureWarning: DataFrame.applymap has been deprecated. Use DataFrame.map instead.\n",
      "  adverse[adverse_cols] = adverse[adverse_cols].applymap(adverse_ohe)\n"
     ]
    }
   ],
   "source": [
    "## One Hot Encoding for Adverse Events (just predictin yes or no adverse events)\n",
    "\n",
    "def adverse_na(x):\n",
    "    if pd.isna(x):\n",
    "        return 'No'\n",
    "    else:\n",
    "        return x\n",
    "def adverse_ohe(x):\n",
    "    if x=='No':\n",
    "        return 0\n",
    "    else:\n",
    "        return 1\n",
    "\n",
    "adverse_cols= [col for col in adverse.columns\n",
    "               if col not in ['SID', 'Prescribed', 'BaselinePROMS', 'Date', 'DaysFromStart']\n",
    "               and not col.endswith('days')]\n",
    "\n",
    "\n",
    "adverse[adverse_cols] = adverse[adverse_cols].applymap(adverse_na)\n",
    "adverse[adverse_cols] = adverse[adverse_cols].applymap(adverse_ohe)\n",
    "\n",
    "\n"
   ]
  },
  {
   "cell_type": "code",
   "execution_count": 27,
   "id": "d701a3f1",
   "metadata": {},
   "outputs": [],
   "source": [
    "rename_dict = {col: f\"{col}_adverse\" for col in adverse_cols}\n",
    "\n",
    "# Rename the columns in the adverse subset\n",
    "selected_adverse = adverse[['SID'] + adverse_cols].rename(columns=rename_dict)"
   ]
  },
  {
   "cell_type": "code",
   "execution_count": 28,
   "id": "5c1cf3ea",
   "metadata": {},
   "outputs": [
    {
     "data": {
      "text/plain": [
       "Index(['SID', 'FirstPrescriptionDate_adverse', 'AbdominalPain_adverse',\n",
       "       'Agitation_adverse', 'Akathisia_adverse', 'Akathisia.1_adverse',\n",
       "       'AllergicReaction_adverse', 'AllergicRhinitis_adverse',\n",
       "       'Alopecia_adverse', 'Amnesia_adverse',\n",
       "       ...\n",
       "       'Uveitis_adverse', 'Varicocele_adverse', 'VasovagalReaction_adverse',\n",
       "       'Vertigo_adverse', 'VividDreams_adverse', 'Vomiting_adverse',\n",
       "       'WeightGain_adverse', 'WeightLoss_adverse', 'Wheezing_adverse',\n",
       "       'Withdrawal_adverse'],\n",
       "      dtype='object', length=161)"
      ]
     },
     "execution_count": 28,
     "metadata": {},
     "output_type": "execute_result"
    }
   ],
   "source": [
    "selected_adverse.columns"
   ]
  },
  {
   "cell_type": "code",
   "execution_count": 31,
   "id": "2d9691c9",
   "metadata": {},
   "outputs": [],
   "source": [
    "full=pd.read_csv('rq1_full_df.csv')"
   ]
  },
  {
   "cell_type": "code",
   "execution_count": 38,
   "id": "fa04a818",
   "metadata": {},
   "outputs": [],
   "source": [
    "full_adverse = pd.merge(full, selected_adverse, on='SID', how='left')"
   ]
  },
  {
   "cell_type": "code",
   "execution_count": 39,
   "id": "2d1d6dad",
   "metadata": {},
   "outputs": [],
   "source": [
    "# create binary col - if any of the adverse cols=1, then binary col =1, else =0\n",
    "adverse_cols_renamed = [f\"{col}_adverse\" for col in adverse_cols]\n",
    "full_adverse['adverse_binary'] = full_adverse[adverse_cols_renamed].sum(axis=1).gt(0).astype(int)"
   ]
  },
  {
   "cell_type": "code",
   "execution_count": 34,
   "id": "de383ddf",
   "metadata": {},
   "outputs": [
    {
     "name": "stdout",
     "output_type": "stream",
     "text": [
      "['SID', 'EQ5D_Round1', 'EQ5D_Round2', 'EQ5D_Round3', 'EQ5D_Round4', 'EQ5D_Round5', 'EQ5D_Round6', 'EffectivePrescriptionDate', 'Product_Prescription1', 'Product_Prescription2', 'Product_Prescription3', 'Totalquantity_Prescription1', 'Totalquantity_Prescription2', 'Totalquantity_Prescription3', 'Age', 'Sex', 'occupation', 'weight', 'height', 'BMI', 'primDiag', 'secDiag', 'tertDiag', 'Myocardial_infarction', 'Congestive_heart_failure', 'Peripheral_vascular_disease', 'Cerebrovascular_accident_or_transient_ischemic_attack', 'Dementia', 'Chronic_obstructive_pulmonary_disease', 'Connective_tissue_disease', 'Peptic_Ulcer_Disease', 'Liver_disease', 'Diabetes', 'Hemiplegia', 'Moderate_to_severe_chronic_kidney_disease', 'Solid_tumour', 'Leukemia', 'Lymphoma', 'AIDS', 'Charlson_comorbidity', 'Hypertension', 'Depression_or_anxiety', 'Arthritis', 'Epilepsy', 'VTE', 'Endocrine_thyroid_dysfunction', 'Allergy', 'Smoking_status', 'Smoking_pack_years', 'alcohol_units', 'Cannabis_status', 'Cannabis_use_frequency', 'Cannabis_use_route', 'Cannabis_gram_per_day', 'Cannabis_gram_years', 'GAD7_Round1', 'insomniaEfficacyMeasure_Round1', 'FirstPrescriptionDate_adverse', 'AbdominalPain_adverse', 'Agitation_adverse', 'Akathisia_adverse', 'Akathisia.1_adverse', 'AllergicReaction_adverse', 'AllergicRhinitis_adverse', 'Alopecia_adverse', 'Amnesia_adverse', 'Anorexia_adverse', 'Anxiety_adverse', 'Arthralgia_adverse', 'Arthritis_adverse', 'Ataxia_adverse', 'Atelectasis_adverse', 'AtrialFibrillation_adverse', 'AtrialFlutter_adverse', 'BackPain_adverse', 'Belching_adverse', 'Bloating_adverse', 'BlurredVision_adverse', 'BodyOdour_adverse', 'BonePain_adverse', 'Bruising_adverse', 'Bruxism_adverse', 'CannabinoidHyperemesisSyndrome_adverse', 'Cheilitis_adverse', 'CognitiveDisturbance_adverse', 'Colitis_adverse', 'ColonicObstruction_adverse', 'ConcentrationImpairment_adverse', 'Confusion_adverse', 'Constipation_adverse', 'Cough_adverse', 'Dehydration_adverse', 'Delirium_adverse', 'Delusions_adverse', 'Depression_adverse', 'DiabeticKetoacidosis_adverse', 'Diarrhoea_adverse', 'Dissociation_adverse', 'Dizziness_adverse', 'DryEye_adverse', 'DryMouth_adverse', 'Dysaesthesia_adverse', 'Dysgeusia_adverse', 'Dyspepsia_adverse', 'Dysphasia_adverse', 'Dyspnoea_adverse', 'Dystonia_adverse', 'ErectileDysfunction_adverse', 'Euphoria_adverse', 'EyePain_adverse', 'FacialPain_adverse', 'FaecalIncontinence_adverse', 'Fall_adverse', 'Fatigue_adverse', 'Fever_adverse', 'FlankPain_adverse', 'Flashback_adverse', 'Flatulence_adverse', 'Floaters_adverse', 'Flushing_adverse', 'Gastritis_adverse', 'GastroesophagealRefluxDisease_adverse', 'GeneralisedMuscleWeakness_adverse', 'Gynaecomastia_adverse', 'Haemorrhoids_adverse', 'Hallucinations_adverse', 'Headache_adverse', 'HearingImpaired_adverse', 'Hiccoughs_adverse', 'Hoarseness_adverse', 'HotFlashes_adverse', 'Hyperhidrosis_adverse', 'Hypertension_adverse', 'Hypotension_adverse', 'Hypoxia_adverse', 'IncreasedAppetite_adverse', 'Insomnia_adverse', 'IntrusiveThoughts_adverse', 'IrregularMenstruation_adverse', 'Irritability_adverse', 'Jaundice_adverse', 'JointDislocation_adverse', 'JointRangeOfMotionDecreased_adverse', 'JointRangeOfMotionDecreasedCervicalSpine_adverse', 'JointSubluxation_adverse', 'Lethargy_adverse', 'LibidoDecreased_adverse', 'LowerGastrointestinalHaemorrhage_adverse', 'LungInfection_adverse', 'Lymphadenopathy_adverse', 'Mania_adverse', 'Migraine_adverse', 'MovementsInvoluntary_adverse', 'Myalgia_adverse', 'NasalCongestion_adverse', 'Nausea_adverse', 'NeckPain_adverse', 'Neuralgia_adverse', 'Nightmare_adverse', 'NightSweats_adverse', 'Non-CardiacChestPain_adverse', 'OedemaFace_adverse', 'OedemaLimbs_adverse', 'OpticNerveDisorder_adverse', 'OralPain_adverse', 'OralUlcer_adverse', 'OtitisExterna_adverse', 'Pain_adverse', 'PainInExtremity_adverse', 'Palpitations_adverse', 'Paraesthesia_adverse', 'Paranoia_adverse', 'Pharyngitis_adverse', 'Pneumothorax_adverse', 'ProductiveCough_adverse', 'Pruritus_adverse', 'Psychosis_adverse', 'RashAcneiform_adverse', 'RashNOS_adverse', 'RectalPain_adverse', 'RenalCalculi_adverse', 'Restlessness_adverse', 'Seizure_adverse', 'SinusDisorder_adverse', 'SinusPain_adverse', 'SinusTachycardia_adverse', 'SkinInfection_adverse', 'SmallIntestinalBacterialOvergrowth_adverse', 'Sneezing_adverse', 'Somnolence_adverse', 'SoreThroat_adverse', 'Spasticity_adverse', 'Stereotypy_adverse', 'StevensJohnsonSyndrome_adverse', 'SuicidalIdeation_adverse', 'ThoughtsOfSelfHarm_adverse', 'Tinnitus_adverse', 'Tolerance_adverse', 'Toothache_adverse', 'ToothDiscolouration_adverse', 'Tremor_adverse', 'UpperRespiratoryInfection_adverse', 'UrinaryIncontinence_adverse', 'UrinaryRetention_adverse', 'Urinarytractinfection_adverse', 'UrinaryTractPain_adverse', 'UrinaryUrgency_adverse', 'Uveitis_adverse', 'Varicocele_adverse', 'VasovagalReaction_adverse', 'Vertigo_adverse', 'VividDreams_adverse', 'Vomiting_adverse', 'WeightGain_adverse', 'WeightLoss_adverse', 'Wheezing_adverse', 'Withdrawal_adverse', 'adverse_binary']\n"
     ]
    }
   ],
   "source": [
    "pd.set_option('display.max_columns', None)  \n",
    "print(full_adverse.columns.tolist())"
   ]
  },
  {
   "cell_type": "code",
   "execution_count": null,
   "id": "d6aca67d",
   "metadata": {},
   "outputs": [],
   "source": [
    "# full_adverse = full_adverse.drop(columns=adverse_cols_renamed, axis=1)"
   ]
  },
  {
   "cell_type": "code",
   "execution_count": 36,
   "id": "0a8ac478",
   "metadata": {},
   "outputs": [
    {
     "data": {
      "text/plain": [
       "(21017, 58)"
      ]
     },
     "execution_count": 36,
     "metadata": {},
     "output_type": "execute_result"
    }
   ],
   "source": [
    "full_adverse.shape"
   ]
  },
  {
   "cell_type": "code",
   "execution_count": 40,
   "id": "eff6d250",
   "metadata": {},
   "outputs": [],
   "source": [
    "full_adverse.to_csv(\"/rds/general/user/hsl121/home/hda_project/rq1/rq1_full_df_adverse.csv\", index=False) "
   ]
  }
 ],
 "metadata": {
  "kernelspec": {
   "display_name": "TDS",
   "language": "python",
   "name": "python3"
  },
  "language_info": {
   "codemirror_mode": {
    "name": "ipython",
    "version": 3
   },
   "file_extension": ".py",
   "mimetype": "text/x-python",
   "name": "python",
   "nbconvert_exporter": "python",
   "pygments_lexer": "ipython3",
   "version": "3.9.21"
  }
 },
 "nbformat": 4,
 "nbformat_minor": 5
}
