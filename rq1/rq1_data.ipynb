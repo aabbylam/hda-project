{
 "cells": [
  {
   "cell_type": "code",
   "execution_count": 2,
   "metadata": {},
   "outputs": [],
   "source": [
    "import pandas as pd\n",
    "import numpy as np"
   ]
  },
  {
   "cell_type": "code",
   "execution_count": 3,
   "metadata": {},
   "outputs": [],
   "source": [
    "scores=pd.read_excel('/rds/general/user/hsl121/home/hda_project/data/Scores 6 Jan 2025_Prescribed_Completed Baseline PROMs.xlsx')\n",
    "order_states=pd.read_csv('/rds/general/user/hsl121/home/hda_project/data/2025 AI Imperial Dataset Orders_Prescription_Formulas.csv')\n",
    "prescription_formula=pd.read_csv('/rds/general/user/hsl121/home/hda_project/data/2025 AI Imperial Dataset Orders_Prescription_Formulas.csv')\n",
    "adverse=pd.read_excel('/rds/general/user/hsl121/home/hda_project/data/Adverse Events 6 Jan 2025_Prescribed_Completed Baseline PROMs.xlsx')\n",
    "comorbidites=pd.read_excel('/rds/general/user/hsl121/home/hda_project/data/Comorbidities 6 Jan 2025_Prescribed_Completed Baseline PROMs.xlsx')\n",
    "medications=pd.read_excel('/rds/general/user/hsl121/home/hda_project/data/Medications 6 Jan 2025_Prescribed_Completed Baseline PROMs.xlsx')\n",
    "prescription=pd.read_excel('/rds/general/user/hsl121/home/hda_project/data/Prescriptions 6 Jan 2025_Prescribed_Completed Baseline PROMs NEW.xlsx')\n",
    "product=pd.read_excel('/rds/general/user/hsl121/home/hda_project/data/Product Data.xlsx')"
   ]
  },
  {
   "cell_type": "markdown",
   "metadata": {},
   "source": [
    "EQ5D Score Mapping"
   ]
  },
  {
   "cell_type": "code",
   "execution_count": 4,
   "metadata": {},
   "outputs": [],
   "source": [
    "eq5d=scores[scores['promName']=='EQ5D']\n",
    "eq5d=eq5d[['SID','Round','promName','total_score','completionDate']]"
   ]
  },
  {
   "cell_type": "code",
   "execution_count": 5,
   "metadata": {},
   "outputs": [
    {
     "data": {
      "text/plain": [
       "31434"
      ]
     },
     "execution_count": 5,
     "metadata": {},
     "output_type": "execute_result"
    }
   ],
   "source": [
    "eq5d[\"SID\"].nunique()"
   ]
  },
  {
   "cell_type": "code",
   "execution_count": 6,
   "metadata": {},
   "outputs": [
    {
     "name": "stdout",
     "output_type": "stream",
     "text": [
      "Index(['SID', 'Round', 'promName', 'total_score', 'completionDate'], dtype='object')\n"
     ]
    }
   ],
   "source": [
    "print(eq5d.columns)\n",
    "# keeping SID with follow up data\n",
    "sids_with_followup = eq5d[eq5d['Round'].astype(int) > 1]['SID'].unique()\n",
    "eq5d = eq5d[eq5d['SID'].isin(sids_with_followup)].reset_index(drop=True)\n",
    "\n"
   ]
  },
  {
   "cell_type": "code",
   "execution_count": 6,
   "metadata": {},
   "outputs": [
    {
     "name": "stdout",
     "output_type": "stream",
     "text": [
      "['Title', 'Index Value Calculator', 'EQ-5D-5L Value Sets']\n"
     ]
    }
   ],
   "source": [
    "xls = pd.ExcelFile('/rds/general/user/hsl121/home/hda_project/Protocol and data framework/Copy of EQ-5D-5L_Crosswalk_Index_Value_Calculator_MAC.xls')\n",
    "print(xls.sheet_names)\n"
   ]
  },
  {
   "cell_type": "code",
   "execution_count": 7,
   "metadata": {},
   "outputs": [],
   "source": [
    "eq5d_index = pd.read_excel(xls, sheet_name='EQ-5D-5L Value Sets', skiprows=1)\n"
   ]
  },
  {
   "cell_type": "code",
   "execution_count": 8,
   "metadata": {},
   "outputs": [],
   "source": [
    "eq5d_index = eq5d_index.drop(eq5d_index.columns[0], axis=1)\n",
    "eq5d_index= eq5d_index[['5L profile', 'UK']]\n"
   ]
  },
  {
   "cell_type": "code",
   "execution_count": 9,
   "metadata": {},
   "outputs": [
    {
     "data": {
      "text/plain": [
       "Index(['5L profile', 'UK'], dtype='object')"
      ]
     },
     "execution_count": 9,
     "metadata": {},
     "output_type": "execute_result"
    }
   ],
   "source": [
    "eq5d_index.columns"
   ]
  },
  {
   "cell_type": "code",
   "execution_count": 10,
   "metadata": {},
   "outputs": [
    {
     "data": {
      "text/plain": [
       "Index(['SID', 'Round', 'promName', 'total_score', 'completionDate'], dtype='object')"
      ]
     },
     "execution_count": 10,
     "metadata": {},
     "output_type": "execute_result"
    }
   ],
   "source": [
    "eq5d.columns"
   ]
  },
  {
   "cell_type": "code",
   "execution_count": 11,
   "metadata": {},
   "outputs": [],
   "source": [
    "eq5d = eq5d.merge(eq5d_index, left_on='total_score', right_on='5L profile', how='left')\n"
   ]
  },
  {
   "cell_type": "code",
   "execution_count": null,
   "metadata": {},
   "outputs": [
    {
     "data": {
      "text/plain": [
       "<bound method NDFrame.head of                                      SID  Round promName  total_score  \\\n",
       "0           003adIEhRDbcWiL9YN4rjAvekGl1      1     EQ5D      43455.0   \n",
       "1           003adIEhRDbcWiL9YN4rjAvekGl1      2     EQ5D      31222.0   \n",
       "2           003adIEhRDbcWiL9YN4rjAvekGl1      3     EQ5D      33222.0   \n",
       "3       00b622bb2e064de91714bb4d7812245e      1     EQ5D      14424.0   \n",
       "4       00b622bb2e064de91714bb4d7812245e      2     EQ5D      24434.0   \n",
       "...                                  ...    ...      ...          ...   \n",
       "107521              zZwQ0lYo31weDN038pOq      1     EQ5D      11333.0   \n",
       "107522              zZwQ0lYo31weDN038pOq      2     EQ5D      11222.0   \n",
       "107523              zZwQ0lYo31weDN038pOq      3     EQ5D      11122.0   \n",
       "107524      zZXvDhEI5neNrU419i5tlcvlEkz1      1     EQ5D      32544.0   \n",
       "107525      zZXvDhEI5neNrU419i5tlcvlEkz1      2     EQ5D      21222.0   \n",
       "\n",
       "                  completionDate  5L profile     UK  \n",
       "0       2023-01-27T09:28:22.807Z     43455.0 -0.218  \n",
       "1       2023-03-17T09:16:21.341Z     31222.0  0.666  \n",
       "2       2023-05-06T09:56:34.633Z     33222.0  0.562  \n",
       "3       2022-03-12T16:14:01.412Z     14424.0  0.283  \n",
       "4       2023-05-05T11:15:18.587Z     24434.0  0.202  \n",
       "...                          ...         ...    ...  \n",
       "107521  2022-03-09T19:27:08.978Z     11333.0  0.689  \n",
       "107522  2022-04-29T08:59:30.512Z     11222.0  0.736  \n",
       "107523  2022-07-17T10:40:51.029Z     11122.0  0.768  \n",
       "107524  2024-10-24T12:53:39.582Z     32544.0  0.020  \n",
       "107525  2024-12-24T10:04:00.122Z     21222.0  0.679  \n",
       "\n",
       "[107526 rows x 7 columns]>"
      ]
     },
     "execution_count": 14,
     "metadata": {},
     "output_type": "execute_result"
    },
    {
     "ename": "",
     "evalue": "",
     "output_type": "error",
     "traceback": [
      "\u001b[1;31mnotebook controller is DISPOSED. \n",
      "\u001b[1;31mView Jupyter <a href='command:jupyter.viewOutput'>log</a> for further details."
     ]
    }
   ],
   "source": [
    "eq5d.head"
   ]
  },
  {
   "cell_type": "code",
   "execution_count": 12,
   "metadata": {},
   "outputs": [],
   "source": [
    "\n",
    "eq5d_wide = eq5d.pivot_table(index='SID', \n",
    "                                    columns='Round', \n",
    "                                    values='UK', \n",
    "                                    aggfunc='first')\n",
    "\n",
    "eq5d_wide.columns = [f\"EQ5D_Round{r}\" for r in eq5d_wide.columns]\n",
    "eq5d_wide = eq5d_wide.reset_index()\n"
   ]
  },
  {
   "cell_type": "code",
   "execution_count": null,
   "metadata": {},
   "outputs": [
    {
     "data": {
      "text/plain": [
       "(25362, 14)"
      ]
     },
     "execution_count": 16,
     "metadata": {},
     "output_type": "execute_result"
    },
    {
     "ename": "",
     "evalue": "",
     "output_type": "error",
     "traceback": [
      "\u001b[1;31mnotebook controller is DISPOSED. \n",
      "\u001b[1;31mView Jupyter <a href='command:jupyter.viewOutput'>log</a> for further details."
     ]
    }
   ],
   "source": [
    "eq5d_wide.columns\n",
    "eq5d_wide.shape"
   ]
  },
  {
   "cell_type": "code",
   "execution_count": 13,
   "metadata": {},
   "outputs": [],
   "source": [
    "# Pivot 1: UK EQ5D scores\n",
    "eq5d_scores = eq5d.pivot_table(\n",
    "    index='SID',\n",
    "    columns='Round',\n",
    "    values='UK',\n",
    "    aggfunc='first'\n",
    ")\n",
    "eq5d_scores.columns = [f\"EQ5D_Round{r}\" for r in eq5d_scores.columns]\n",
    "eq5d_scores = eq5d_scores.reset_index()\n",
    "\n",
    "# Pivot 2: Completion dates\n",
    "eq5d_dates = eq5d.pivot_table(\n",
    "    index='SID',\n",
    "    columns='Round',\n",
    "    values='completionDate',\n",
    "    aggfunc='first'\n",
    ")\n",
    "eq5d_dates.columns = [f\"EQ5D_Date_Round{r}\" for r in eq5d_dates.columns]\n",
    "eq5d_dates = eq5d_dates.reset_index()\n",
    "\n",
    "# Merge both tables\n",
    "eq5d_wide_with_dates = pd.merge(eq5d_scores, eq5d_dates, on='SID', how='left')\n"
   ]
  },
  {
   "cell_type": "code",
   "execution_count": 14,
   "metadata": {},
   "outputs": [
    {
     "data": {
      "text/plain": [
       "(25362, 27)"
      ]
     },
     "execution_count": 14,
     "metadata": {},
     "output_type": "execute_result"
    }
   ],
   "source": [
    "eq5d_wide_with_dates.shape"
   ]
  },
  {
   "cell_type": "code",
   "execution_count": 15,
   "metadata": {},
   "outputs": [
    {
     "data": {
      "text/plain": [
       "Index(['SID', 'EQ5D_Round1', 'EQ5D_Round2', 'EQ5D_Round3', 'EQ5D_Round4',\n",
       "       'EQ5D_Round5', 'EQ5D_Round6', 'EQ5D_Round7', 'EQ5D_Round8',\n",
       "       'EQ5D_Round9', 'EQ5D_Round10', 'EQ5D_Round11', 'EQ5D_Round12',\n",
       "       'EQ5D_Round13', 'EQ5D_Date_Round1', 'EQ5D_Date_Round2',\n",
       "       'EQ5D_Date_Round3', 'EQ5D_Date_Round4', 'EQ5D_Date_Round5',\n",
       "       'EQ5D_Date_Round6', 'EQ5D_Date_Round7', 'EQ5D_Date_Round8',\n",
       "       'EQ5D_Date_Round9', 'EQ5D_Date_Round10', 'EQ5D_Date_Round11',\n",
       "       'EQ5D_Date_Round12', 'EQ5D_Date_Round13'],\n",
       "      dtype='object')"
      ]
     },
     "execution_count": 15,
     "metadata": {},
     "output_type": "execute_result"
    }
   ],
   "source": [
    "eq5d_wide_with_dates.columns"
   ]
  },
  {
   "cell_type": "markdown",
   "metadata": {},
   "source": [
    "Prescription Data"
   ]
  },
  {
   "cell_type": "code",
   "execution_count": 16,
   "metadata": {},
   "outputs": [
    {
     "name": "stdout",
     "output_type": "stream",
     "text": [
      "Checking prescription attempt #1...\n",
      "Checking prescription attempt #2...\n",
      "Checking prescription attempt #3...\n",
      "Checking prescription attempt #4...\n",
      "Checking prescription attempt #5...\n",
      "Checking prescription attempt #6...\n",
      "Checking prescription attempt #7...\n",
      "Checking prescription attempt #8...\n",
      "Checking prescription attempt #9...\n"
     ]
    }
   ],
   "source": [
    "# Step 1: Prep\n",
    "eq5d = eq5d_wide_with_dates.copy()\n",
    "prescription['DateofPrescription'] = pd.to_datetime(prescription['DateofPrescription'])\n",
    "\n",
    "# Make sure EQ5D dates are datetime and timezone-naive\n",
    "date_cols = [col for col in eq5d.columns if col.startswith('EQ5D_Date_Round')]\n",
    "eq5d[date_cols] = eq5d[date_cols].apply(pd.to_datetime, errors='coerce').apply(lambda x: x.dt.tz_localize(None))\n",
    "\n",
    "# Sort prescriptions\n",
    "prescription_sorted = prescription.sort_values(['SID', 'DateofPrescription'])\n",
    "prescription_sorted['prescription_rank'] = prescription_sorted.groupby('SID').cumcount() + 1\n",
    "\n",
    "# Initialize effective prescription with NaT\n",
    "eq5d['EffectivePrescriptionDate'] = pd.NaT\n",
    "\n",
    "# Loop through prescription attempts (1st to 5th)\n",
    "for attempt in range(1, 10):\n",
    "    print(f\"Checking prescription attempt #{attempt}...\")\n",
    "    \n",
    "    # Get nth prescription\n",
    "    nth_presc = prescription_sorted[prescription_sorted['prescription_rank'] == attempt]\n",
    "    nth_presc = nth_presc[['SID', 'DateofPrescription']].rename(columns={'DateofPrescription': f'PrescriptionDate_{attempt}'})\n",
    "    \n",
    "    # Merge into eq5d\n",
    "    eq5d = eq5d.merge(nth_presc, on='SID', how='left')\n",
    "    \n",
    "    # Fill EffectivePrescriptionDate where it's still missing\n",
    "    mask = eq5d['EffectivePrescriptionDate'].isna() & eq5d[f'PrescriptionDate_{attempt}'].notna()\n",
    "    eq5d.loc[mask, 'EffectivePrescriptionDate'] = eq5d.loc[mask, f'PrescriptionDate_{attempt}']\n",
    "    \n",
    "    # Recalculate timing validity\n",
    "    eq5d['has_valid_baseline'] = eq5d['EQ5D_Date_Round1'] < eq5d['EffectivePrescriptionDate']\n",
    "    eq5d['has_valid_followup'] = eq5d[date_cols[1:]].gt(eq5d['EffectivePrescriptionDate'], axis=0).any(axis=1)\n",
    "    \n",
    "    # Stop if everyone is now valid\n",
    "    if eq5d['has_valid_baseline'].all() & eq5d['has_valid_followup'].all():\n",
    "        print(f\"All patients valid by attempt #{attempt}.\")\n",
    "        break\n"
   ]
  },
  {
   "cell_type": "code",
   "execution_count": 17,
   "metadata": {},
   "outputs": [],
   "source": [
    "# Step 1: Filter valid patients\n",
    "valid_eq5d = eq5d[eq5d['has_valid_baseline'] & eq5d['has_valid_followup']].copy()\n",
    "\n",
    "# Step 2: Get all prescriptions for valid SIDs\n",
    "valid_sids = valid_eq5d['SID'].unique()\n",
    "prescription_valid = prescription[prescription['SID'].isin(valid_sids)].copy()\n",
    "\n",
    "# Step 3: Sort and rank prescriptions per SID\n",
    "prescription_valid = prescription_valid.sort_values(['SID', 'DateofPrescription'])\n",
    "prescription_valid['prescription_rank'] = prescription_valid.groupby('SID').cumcount() + 1\n",
    "prescription_valid = prescription_valid[prescription_valid['prescription_rank'] <= 3]\n",
    "\n",
    "\n",
    "# Step 4: Pivot each prescription field into separate columns\n",
    "pivoted_prescription = prescription_valid.pivot(index='SID', columns='prescription_rank', \n",
    "                                                 values=['DateofPrescription', 'Product', 'Totalquantity'])\n",
    "\n",
    "# Step 5: Flatten MultiIndex column names\n",
    "pivoted_prescription.columns = [f\"{var}_Prescription{rank}\" for var, rank in pivoted_prescription.columns]\n",
    "pivoted_prescription = pivoted_prescription.reset_index()\n",
    "\n",
    "# Step 6: Merge into final wide dataset\n",
    "final_df = valid_eq5d.merge(pivoted_prescription, on='SID', how='left')\n"
   ]
  },
  {
   "cell_type": "code",
   "execution_count": 18,
   "metadata": {},
   "outputs": [],
   "source": [
    "full=pd.merge(final_df, comorbidites, on='SID', how='left')"
   ]
  },
  {
   "cell_type": "markdown",
   "metadata": {},
   "source": [
    "Other Scores (Baseline) Data"
   ]
  },
  {
   "cell_type": "code",
   "execution_count": 19,
   "metadata": {},
   "outputs": [
    {
     "name": "stdout",
     "output_type": "stream",
     "text": [
      "['EQ5D' 'GAD7' 'MPQ2' 'VASPainScore' 'insomniaEfficacyMeasure'\n",
      " 'painInventoryShortForm' 'PGIC' 'PHQ9' 'MSQoL' 'PDQ39'\n",
      " 'fibromyalgiaSymptomSeverityScore' 'impactOfEventsScale' 'HIT' 'MIDAS'\n",
      " 'AKPS' 'POS' 'IBDQ' 'QOLIEQ' 'symptomDistressScale'\n",
      " 'obsessiveCompulsiveInventory' 'IEPS' 'MOVES' 'SPIN' 'EDEQ']\n"
     ]
    }
   ],
   "source": [
    "print(scores['promName'].unique())\n",
    "# PROMs to extract\n",
    "target_proms = ['GAD7', 'insomniaEfficacyMeasure']\n",
    "\n",
    "## PGIC was not used because it is not availble as baseline data, only follow up\n",
    "\n",
    "# Filter scores data to only these PROMs and Round 1\n",
    "filtered = scores[(scores['promName'].isin(target_proms)) & (scores['Round'] == 1)]\n",
    "\n",
    "# Pivot to wide format: one column per PROM, showing total_score at Round 1\n",
    "prom_wide = filtered.pivot_table(index='SID',\n",
    "                                 columns='promName',\n",
    "                                 values='total_score',\n",
    "                                 aggfunc='first')\n",
    "\n",
    "# Rename columns to include \"Round1\"\n",
    "prom_wide.columns = [f\"{col}_Round1\" for col in prom_wide.columns]\n",
    "\n",
    "# Reset index to turn SID back into a column\n",
    "prom_wide = prom_wide.reset_index()\n"
   ]
  },
  {
   "cell_type": "code",
   "execution_count": 20,
   "metadata": {},
   "outputs": [
    {
     "data": {
      "text/plain": [
       "Index(['SID', 'GAD7_Round1', 'insomniaEfficacyMeasure_Round1'], dtype='object')"
      ]
     },
     "execution_count": 20,
     "metadata": {},
     "output_type": "execute_result"
    }
   ],
   "source": [
    "prom_wide.columns"
   ]
  },
  {
   "cell_type": "code",
   "execution_count": 21,
   "metadata": {},
   "outputs": [],
   "source": [
    "full=pd.merge(full, prom_wide, on='SID', how='left')"
   ]
  },
  {
   "cell_type": "markdown",
   "metadata": {},
   "source": [
    "Final Dataset"
   ]
  },
  {
   "cell_type": "code",
   "execution_count": 22,
   "metadata": {},
   "outputs": [],
   "source": [
    "date_cols = [col for col in full.columns if col.startswith('EQ5D_Date_Round')]\n",
    "full = full.drop(columns=date_cols)"
   ]
  },
  {
   "cell_type": "code",
   "execution_count": 23,
   "metadata": {},
   "outputs": [],
   "source": [
    "drop=['EQ5D_Round7', 'EQ5D_Round8',\n",
    "       'EQ5D_Round9', 'EQ5D_Round10', 'EQ5D_Round11', 'EQ5D_Round12',\n",
    "       'EQ5D_Round13','PrescriptionDate_1',\n",
    "       'has_valid_baseline', 'has_valid_followup', 'PrescriptionDate_2',\n",
    "       'PrescriptionDate_3', 'PrescriptionDate_4', 'PrescriptionDate_5',\n",
    "       'PrescriptionDate_6', 'PrescriptionDate_7', 'PrescriptionDate_8',\n",
    "       'PrescriptionDate_9','Prescribed', 'BaselinePROMS',\n",
    "       'FirstPrescriptionDate', 'FirstYearPrescribed', 'Status',\n",
    "       'GovernmentOfficeRegion','DateofPrescription_Prescription1', 'DateofPrescription_Prescription2',\n",
    "       'DateofPrescription_Prescription3']\n",
    "\n",
    "\n",
    "full = full.drop(columns=drop)\n",
    "\n"
   ]
  },
  {
   "cell_type": "code",
   "execution_count": null,
   "metadata": {},
   "outputs": [
    {
     "data": {
      "text/plain": [
       "Index(['SID', 'EQ5D_Round1', 'EQ5D_Round2', 'EQ5D_Round3', 'EQ5D_Round4',\n",
       "       'EQ5D_Round5', 'EQ5D_Round6', 'EffectivePrescriptionDate',\n",
       "       'Product_Prescription1', 'Product_Prescription2',\n",
       "       'Product_Prescription3', 'Totalquantity_Prescription1',\n",
       "       'Totalquantity_Prescription2', 'Totalquantity_Prescription3', 'Age',\n",
       "       'Sex', 'occupation', 'weight', 'height', 'BMI', 'primDiag', 'secDiag',\n",
       "       'tertDiag', 'Myocardial_infarction', 'Congestive_heart_failure',\n",
       "       'Peripheral_vascular_disease',\n",
       "       'Cerebrovascular_accident_or_transient_ischemic_attack', 'Dementia',\n",
       "       'Chronic_obstructive_pulmonary_disease', 'Connective_tissue_disease',\n",
       "       'Peptic_Ulcer_Disease', 'Liver_disease', 'Diabetes', 'Hemiplegia',\n",
       "       'Moderate_to_severe_chronic_kidney_disease', 'Solid_tumour', 'Leukemia',\n",
       "       'Lymphoma', 'AIDS', 'Charlson_comorbidity', 'Hypertension',\n",
       "       'Depression_or_anxiety', 'Arthritis', 'Epilepsy', 'VTE',\n",
       "       'Endocrine_thyroid_dysfunction', 'Allergy', 'Smoking_status',\n",
       "       'Smoking_pack_years', 'alcohol_units', 'Cannabis_status',\n",
       "       'Cannabis_use_frequency', 'Cannabis_use_route', 'Cannabis_gram_per_day',\n",
       "       'Cannabis_gram_years', 'GAD7_Round1', 'insomniaEfficacyMeasure_Round1'],\n",
       "      dtype='object')"
      ]
     },
     "execution_count": 28,
     "metadata": {},
     "output_type": "execute_result"
    },
    {
     "ename": "",
     "evalue": "",
     "output_type": "error",
     "traceback": [
      "\u001b[1;31mnotebook controller is DISPOSED. \n",
      "\u001b[1;31mView Jupyter <a href='command:jupyter.viewOutput'>log</a> for further details."
     ]
    }
   ],
   "source": [
    "full.columns"
   ]
  },
  {
   "cell_type": "code",
   "execution_count": 21,
   "metadata": {},
   "outputs": [
    {
     "ename": "NameError",
     "evalue": "name 'full' is not defined",
     "output_type": "error",
     "traceback": [
      "\u001b[0;31m---------------------------------------------------------------------------\u001b[0m",
      "\u001b[0;31mNameError\u001b[0m                                 Traceback (most recent call last)",
      "Cell \u001b[0;32mIn[21], line 1\u001b[0m\n\u001b[0;32m----> 1\u001b[0m \u001b[43mfull\u001b[49m\u001b[38;5;241m.\u001b[39mto_csv(\u001b[38;5;124m\"\u001b[39m\u001b[38;5;124m/rds/general/user/hsl121/home/hda_project/rq1/rq1_full_df.csv\u001b[39m\u001b[38;5;124m\"\u001b[39m, index\u001b[38;5;241m=\u001b[39m\u001b[38;5;28;01mFalse\u001b[39;00m) \n",
      "\u001b[0;31mNameError\u001b[0m: name 'full' is not defined"
     ]
    }
   ],
   "source": [
    "# Dataset for EQ5D Score prediction (no adverse events)\n",
    "full.to_csv(\"/rds/general/user/hsl121/home/hda_project/rq1/rq1_full_df.csv\", index=False) "
   ]
  },
  {
   "cell_type": "markdown",
   "metadata": {},
   "source": [
    "Adding GAD7 Follow Up Score"
   ]
  },
  {
   "cell_type": "code",
   "execution_count": 4,
   "metadata": {},
   "outputs": [],
   "source": [
    "\n",
    "gad7=scores[scores['promName']=='GAD7']\n",
    "gad7=gad7[['SID','Round','promName','total_score','completionDate']]\n",
    "\n",
    "\n",
    "gad7_wide = gad7.pivot_table(index='SID', \n",
    "                                    columns='Round', \n",
    "                                    values='total_score', \n",
    "                                    aggfunc='first')\n",
    "\n",
    "gad7_wide.columns = [f\"GAD7_Round{r}\" for r in gad7_wide.columns]\n",
    "gad7_wide = gad7_wide.reset_index()"
   ]
  },
  {
   "cell_type": "code",
   "execution_count": null,
   "metadata": {},
   "outputs": [
    {
     "data": {
      "text/plain": [
       "<bound method NDFrame.head of                                     SID  GAD7_Round1  GAD7_Round2  \\\n",
       "0          003adIEhRDbcWiL9YN4rjAvekGl1         21.0          3.0   \n",
       "1          00DlmNQ0vYUyGdMbnZu0dbGOeKr2         19.0          NaN   \n",
       "2                  00UDRrMX0tM2sJ9iQUYR          6.0          4.0   \n",
       "3          00Z3p6vBtNXuin5DgOCEbqEDLrG2         19.0          NaN   \n",
       "4      00b622bb2e064de91714bb4d7812245e         17.0         15.0   \n",
       "...                                 ...          ...          ...   \n",
       "31467      zzCA5ttM0nYzOR0aDW7un2a1BF42         15.0         13.0   \n",
       "31468      zzJg4IPT3ZbUPhZweWQCIuIIyDk2         17.0          1.0   \n",
       "31469      zzVdFjr0w2hziHh0UWLl6x2Hz5Y2         13.0         11.0   \n",
       "31470      zzZ75pcuChS4zFv3wX4TchiEcVt2         20.0          NaN   \n",
       "31471              zzoqgNeyWVKrFkwtpebH          7.0          NaN   \n",
       "\n",
       "       GAD7_Round3  GAD7_Round4  GAD7_Round5  GAD7_Round6  GAD7_Round7  \\\n",
       "0              4.0          NaN          NaN          NaN          NaN   \n",
       "1              NaN          NaN          NaN          NaN          NaN   \n",
       "2              7.0          7.0          1.0          3.0          0.0   \n",
       "3              NaN          NaN          NaN          NaN          NaN   \n",
       "4              NaN          NaN          NaN          NaN          NaN   \n",
       "...            ...          ...          ...          ...          ...   \n",
       "31467         13.0         16.0          6.0          2.0          NaN   \n",
       "31468          3.0          1.0          0.0          NaN          NaN   \n",
       "31469          8.0          NaN          NaN          NaN          NaN   \n",
       "31470          NaN          NaN          NaN          NaN          NaN   \n",
       "31471          NaN          NaN          NaN          NaN          NaN   \n",
       "\n",
       "       GAD7_Round8  GAD7_Round9  GAD7_Round10  GAD7_Round11  GAD7_Round12  \\\n",
       "0              NaN          NaN           NaN           NaN           NaN   \n",
       "1              NaN          NaN           NaN           NaN           NaN   \n",
       "2              NaN          NaN           NaN           NaN           NaN   \n",
       "3              NaN          NaN           NaN           NaN           NaN   \n",
       "4              NaN          NaN           NaN           NaN           NaN   \n",
       "...            ...          ...           ...           ...           ...   \n",
       "31467          NaN          NaN           NaN           NaN           NaN   \n",
       "31468          NaN          NaN           NaN           NaN           NaN   \n",
       "31469          NaN          NaN           NaN           NaN           NaN   \n",
       "31470          NaN          NaN           NaN           NaN           NaN   \n",
       "31471          NaN          NaN           NaN           NaN           NaN   \n",
       "\n",
       "       GAD7_Round13  \n",
       "0               NaN  \n",
       "1               NaN  \n",
       "2               NaN  \n",
       "3               NaN  \n",
       "4               NaN  \n",
       "...             ...  \n",
       "31467           NaN  \n",
       "31468           NaN  \n",
       "31469           NaN  \n",
       "31470           NaN  \n",
       "31471           NaN  \n",
       "\n",
       "[31472 rows x 14 columns]>"
      ]
     },
     "execution_count": 6,
     "metadata": {},
     "output_type": "execute_result"
    },
    {
     "ename": "",
     "evalue": "",
     "output_type": "error",
     "traceback": [
      "\u001b[1;31mThe Kernel crashed while executing code in the current cell or a previous cell. \n",
      "\u001b[1;31mPlease review the code in the cell(s) to identify a possible cause of the failure. \n",
      "\u001b[1;31mClick <a href='https://aka.ms/vscodeJupyterKernelCrash'>here</a> for more info. \n",
      "\u001b[1;31mView Jupyter <a href='command:jupyter.viewOutput'>log</a> for further details."
     ]
    }
   ],
   "source": [
    "gad7_wide.head"
   ]
  }
 ],
 "metadata": {
  "kernelspec": {
   "display_name": "Python 3",
   "language": "python",
   "name": "python3"
  },
  "language_info": {
   "codemirror_mode": {
    "name": "ipython",
    "version": 3
   },
   "file_extension": ".py",
   "mimetype": "text/x-python",
   "name": "python",
   "nbconvert_exporter": "python",
   "pygments_lexer": "ipython3",
   "version": "3.6.8"
  }
 },
 "nbformat": 4,
 "nbformat_minor": 5
}
