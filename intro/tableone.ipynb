{
 "cells": [
  {
   "cell_type": "code",
   "execution_count": null,
   "id": "e642c50d",
   "metadata": {},
   "outputs": [],
   "source": [
    "import os\n",
    "import pandas as pd\n",
    "import numpy as np\n",
    "import matplotlib.pyplot as plt\n",
    "import joblib   \n",
    "\n",
    "from sklearn.model_selection import train_test_split, GridSearchCV, KFold\n",
    "from sklearn.linear_model import Ridge, Lasso\n",
    "from sklearn.ensemble import RandomForestRegressor\n",
    "from xgboost import XGBRegressor\n",
    "from sklearn.metrics import make_scorer, mean_squared_error, mean_absolute_error, r2_score\n",
    "from sklearn.pipeline import Pipeline\n",
    "from sklearn.preprocessing import StandardScaler\n",
    "from sklearn.neural_network import MLPRegressor\n",
    "\n",
    "import os\n",
    "import pandas as pd\n",
    "import numpy as np\n",
    "import matplotlib.pyplot as plt\n",
    "import joblib\n",
    "\n",
    "# Load data\n",
    "eq5d = pd.read_csv('../rq1/rq1_cleaned_no_ae.csv')\n",
    "scores = pd.read_excel('../data/Scores 6 Jan 2025_Prescribed_Completed Baseline PROMs.xlsx')\n",
    "\n",
    "gad7 = scores[scores['promName']=='GAD7'][['SID','Round','total_score']]\n",
    "gad7_wide = gad7.pivot_table(index='SID', columns='Round', values='total_score', aggfunc='first')\n",
    "gad7_wide.columns = [f\"GAD7_Round{r}\" for r in gad7_wide.columns]\n",
    "gad7_wide = gad7_wide.reset_index()\n",
    "gad7 = pd.merge(eq5d, gad7_wide, on='SID', how='left')\n",
    "\n",
    "ins = scores[scores['promName']=='insomniaEfficacyMeasure'][['SID','Round','total_score']]\n",
    "ins_wide = ins.pivot_table(index='SID', columns='Round', values='total_score', aggfunc='first')\n",
    "ins_wide.columns = [f\"insomniaEfficacyMeasure_Round{r}\" for r in ins_wide.columns]\n",
    "ins_wide = ins_wide.reset_index()\n",
    "full = pd.merge(gad7, ins_wide, on='SID', how='left')\n",
    "\n",
    "full=full.drop(columns=['GAD7_Round1_x', 'insomniaEfficacyMeasure_Round1_x'])\n",
    "full = full.rename(columns={'GAD7_Round1_y': 'GAD7_Round1', 'insomniaEfficacyMeasure_Round1_y': 'insomniaEfficacyMeasure_Round1'})"
   ]
  },
  {
   "cell_type": "code",
   "execution_count": 72,
   "id": "cf42db0e",
   "metadata": {},
   "outputs": [],
   "source": [
    "copy= full.copy()"
   ]
  },
  {
   "cell_type": "code",
   "execution_count": 73,
   "id": "603c7c6d",
   "metadata": {},
   "outputs": [],
   "source": [
    "drop_cols = [\n",
    "    'SID', 'GAD7_Round2','GAD7_Round3','GAD7_Round4','GAD7_Round5','GAD7_Round6','GAD7_Round7',\n",
    "    'GAD7_Round8','GAD7_Round9','GAD7_Round10','GAD7_Round11','GAD7_Round12',\n",
    "    'GAD7_Round13', 'EQ5D_Round2','EQ5D_Round3','EQ5D_Round4','EQ5D_Round5',\n",
    "    'EQ5D_Round6', 'insomniaEfficacyMeasure_Round2','insomniaEfficacyMeasure_Round3',\n",
    "    'insomniaEfficacyMeasure_Round4','insomniaEfficacyMeasure_Round5',\n",
    "    'insomniaEfficacyMeasure_Round6','insomniaEfficacyMeasure_Round7',\n",
    "    'insomniaEfficacyMeasure_Round8','insomniaEfficacyMeasure_Round9',\n",
    "    'insomniaEfficacyMeasure_Round10','insomniaEfficacyMeasure_Round11',\n",
    "    'insomniaEfficacyMeasure_Round12','insomniaEfficacyMeasure_Round13'\n",
    "]"
   ]
  },
  {
   "cell_type": "code",
   "execution_count": 74,
   "id": "ac3a82a2",
   "metadata": {},
   "outputs": [],
   "source": [
    "cleaned_df = full.drop(columns=drop_cols).dropna()"
   ]
  },
  {
   "cell_type": "code",
   "execution_count": 75,
   "id": "a4c5ec55",
   "metadata": {},
   "outputs": [
    {
     "data": {
      "text/plain": [
       "(20577, 103)"
      ]
     },
     "execution_count": 75,
     "metadata": {},
     "output_type": "execute_result"
    }
   ],
   "source": [
    "cleaned_df.shape"
   ]
  },
  {
   "cell_type": "code",
   "execution_count": 76,
   "id": "63f460b6",
   "metadata": {},
   "outputs": [],
   "source": [
    "df=cleaned_df.copy()"
   ]
  },
  {
   "cell_type": "code",
   "execution_count": 77,
   "id": "01b69a0d",
   "metadata": {},
   "outputs": [
    {
     "name": "stdout",
     "output_type": "stream",
     "text": [
      "    Group      N Age (mean (SD)) Weight (mean (SD)) Height (mean (SD))  \\\n",
      "1    Male  12429     40.5 (11.6)        86.7 (21.7)        178.1 (8.6)   \n",
      "0  Female   8148     40.8 (13.3)        78.2 (22.9)        164.6 (7.8)   \n",
      "2   Total  20577     40.6 (12.3)        83.3 (22.6)       172.8 (10.6)   \n",
      "\n",
      "  Baseline EQ5D-5L (mean (SD)) Baseline GAD7 (mean (SD))  \\\n",
      "1                    0.4 (0.3)                12.2 (6.4)   \n",
      "0                    0.3 (0.3)                12.1 (6.3)   \n",
      "2                    0.4 (0.3)                12.2 (6.4)   \n",
      "\n",
      "  Baseline Insomnia (mean (SD)) Employed, n (%) Retired, n (%)  \\\n",
      "1                     3.3 (2.1)    7962 (64.1%)     423 (3.4%)   \n",
      "0                     3.3 (2.1)    4652 (57.1%)     394 (4.8%)   \n",
      "2                     3.3 (2.1)   12614 (61.3%)     817 (4.0%)   \n",
      "\n",
      "  Unemployed, n (%) Current smoker, n (%) Ex-smoker, n (%)  \\\n",
      "1      4044 (32.5%)          4357 (35.1%)     5545 (44.6%)   \n",
      "0      3102 (38.1%)          2440 (29.9%)     3269 (40.1%)   \n",
      "2      7146 (34.7%)          6797 (33.0%)     8814 (42.8%)   \n",
      "\n",
      "  Never smoked, n (%) Current user, n (%) Ex-user, n (%) Never used, n (%)  \n",
      "1        2527 (20.3%)        8592 (69.1%)   2364 (19.0%)      1473 (11.9%)  \n",
      "0        2439 (29.9%)        4396 (54.0%)   1414 (17.4%)      2338 (28.7%)  \n",
      "2        4966 (24.1%)       12988 (63.1%)   3778 (18.4%)      3811 (18.5%)  \n"
     ]
    }
   ],
   "source": [
    "import pandas as pd\n",
    "import numpy as np\n",
    "\n",
    "# === Mappings ===\n",
    "sex_map = {0: 'Male', 1: 'Female'}\n",
    "smoking_map = {0: 'Never smoked', 1: 'Ex-smoker', 2: 'Current smoker'}\n",
    "cannabis_map = {0: 'Never used', 1: 'Ex-user', 2: 'Current user'}\n",
    "occupation_map = {0: 'Unemployed', 1: 'Employed', 2: 'Retired'}\n",
    "\n",
    "# === Apply mappings ===\n",
    "df['Sex'] = df['Sex'].replace(sex_map)\n",
    "df['Smoking_status'] = df['Smoking_status'].replace(smoking_map)\n",
    "df['Cannabis_status'] = df['Cannabis_status'].replace(cannabis_map)\n",
    "df['occupation'] = df['occupation'].replace(occupation_map)\n",
    "\n",
    "# === Add 'Total' group ===\n",
    "df['Total'] = 'Total'\n",
    "grouped = pd.concat([df, df.assign(Sex='Total')])\n",
    "\n",
    "# === Summary functions ===\n",
    "def mean_sd(series):\n",
    "    return f\"{series.mean():.1f} ({series.std():.1f})\"\n",
    "\n",
    "# === Continuous variable summary ===\n",
    "summary = pd.DataFrame({\n",
    "    'N': grouped.groupby('Sex').size(),\n",
    "    'Age (mean (SD))': grouped.groupby('Sex')['Age'].apply(mean_sd),\n",
    "    'Weight (mean (SD))': grouped.groupby('Sex')['weight'].apply(mean_sd),\n",
    "    'Height (mean (SD))': grouped.groupby('Sex')['height'].apply(mean_sd),\n",
    "    'Baseline EQ5D-5L (mean (SD))': grouped.groupby('Sex')['EQ5D_Round1'].apply(mean_sd),\n",
    "    'Baseline GAD7 (mean (SD))': grouped.groupby('Sex')['GAD7_Round1'].apply(mean_sd),\n",
    "    'Baseline Insomnia (mean (SD))': grouped.groupby('Sex')['insomniaEfficacyMeasure_Round1'].apply(mean_sd)\n",
    "})\n",
    "\n",
    "# === Occupation breakdown ===\n",
    "occupation_counts = grouped.groupby(['Sex', 'occupation']).size().unstack(fill_value=0)\n",
    "occupation_percents = occupation_counts.div(occupation_counts.sum(axis=1), axis=0).multiply(100).round(1)\n",
    "occupation_str = occupation_counts.astype(str) + \" (\" + occupation_percents.astype(str) + \"%)\"\n",
    "for col in occupation_str.columns:\n",
    "    summary[f\"{col}, n (%)\"] = occupation_str[col]\n",
    "\n",
    "# === Smoking status breakdown ===\n",
    "smoking_counts = grouped.groupby(['Sex', 'Smoking_status']).size().unstack(fill_value=0)\n",
    "smoking_percents = smoking_counts.div(smoking_counts.sum(axis=1), axis=0).multiply(100).round(1)\n",
    "smoking_str = smoking_counts.astype(str) + \" (\" + smoking_percents.astype(str) + \"%)\"\n",
    "for col in smoking_str.columns:\n",
    "    summary[f\"{col}, n (%)\"] = smoking_str[col]\n",
    "\n",
    "# === Cannabis status breakdown ===\n",
    "cannabis_counts = grouped.groupby(['Sex', 'Cannabis_status']).size().unstack(fill_value=0)\n",
    "cannabis_percents = cannabis_counts.div(cannabis_counts.sum(axis=1), axis=0).multiply(100).round(1)\n",
    "cannabis_str = cannabis_counts.astype(str) + \" (\" + cannabis_percents.astype(str) + \"%)\"\n",
    "for col in cannabis_str.columns:\n",
    "    summary[f\"{col}, n (%)\"] = cannabis_str[col]\n",
    "\n",
    "# === Final formatting ===\n",
    "summary = summary.reset_index().rename(columns={'Sex': 'Group'})\n",
    "\n",
    "# Optional: sort rows by Group order\n",
    "group_order = ['Male', 'Female', 'Total']\n",
    "summary['Group'] = pd.Categorical(summary['Group'], categories=group_order, ordered=True)\n",
    "summary = summary.sort_values('Group')\n",
    "\n",
    "# === Export or display ===\n",
    "# summary.to_csv(\"baseline_summary.csv\", index=False)\n",
    "# summary.to_latex(\"baseline_summary.tex\", index=False, escape=False)\n",
    "\n",
    "# Show final table\n",
    "print(summary)\n"
   ]
  },
  {
   "cell_type": "code",
   "execution_count": 44,
   "id": "b198fe4a",
   "metadata": {},
   "outputs": [
    {
     "data": {
      "application/vnd.microsoft.datawrangler.viewer.v0+json": {
       "columns": [
        {
         "name": "Smoking_status",
         "rawType": "int64",
         "type": "integer"
        },
        {
         "name": "count",
         "rawType": "int64",
         "type": "integer"
        }
       ],
       "ref": "b3ad65c5-1025-4c38-9d9f-dec2531b7d2d",
       "rows": [
        [
         "1",
         "8821"
        ],
        [
         "2",
         "6799"
        ],
        [
         "0",
         "4973"
        ]
       ],
       "shape": {
        "columns": 1,
        "rows": 3
       }
      },
      "text/plain": [
       "Smoking_status\n",
       "1    8821\n",
       "2    6799\n",
       "0    4973\n",
       "Name: count, dtype: int64"
      ]
     },
     "execution_count": 44,
     "metadata": {},
     "output_type": "execute_result"
    }
   ],
   "source": [
    "full['Smoking_status'].value_counts()"
   ]
  }
 ],
 "metadata": {
  "kernelspec": {
   "display_name": "base",
   "language": "python",
   "name": "python3"
  },
  "language_info": {
   "codemirror_mode": {
    "name": "ipython",
    "version": 3
   },
   "file_extension": ".py",
   "mimetype": "text/x-python",
   "name": "python",
   "nbconvert_exporter": "python",
   "pygments_lexer": "ipython3",
   "version": "3.11.7"
  }
 },
 "nbformat": 4,
 "nbformat_minor": 5
}
