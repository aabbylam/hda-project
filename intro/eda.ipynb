{
 "cells": [
  {
   "cell_type": "code",
   "execution_count": 1,
   "id": "f0961af6",
   "metadata": {},
   "outputs": [],
   "source": [
    "import pandas as pd\n",
    "import numpy as np"
   ]
  },
  {
   "cell_type": "code",
   "execution_count": 9,
   "id": "fc241f58",
   "metadata": {},
   "outputs": [],
   "source": [
    "scores=pd.read_excel('/rds/general/user/hsl121/home/hda_project/data/Scores 6 Jan 2025_Prescribed_Completed Baseline PROMs.xlsx')\n",
    "order_states=pd.read_csv('/rds/general/user/hsl121/home/hda_project/data/2025 AI Imperial Dataset Orders_Prescription_Formulas.csv')\n",
    "prescription_formula=pd.read_csv('/rds/general/user/hsl121/home/hda_project/data/2025 AI Imperial Dataset Orders_Prescription_Formulas.csv')\n",
    "adverse=pd.read_excel('/rds/general/user/hsl121/home/hda_project/data/Adverse Events 6 Jan 2025_Prescribed_Completed Baseline PROMs.xlsx')\n",
    "comorbidites=pd.read_excel('/rds/general/user/hsl121/home/hda_project/data/Comorbidities 6 Jan 2025_Prescribed_Completed Baseline PROMs.xlsx')\n",
    "medications=pd.read_excel('/rds/general/user/hsl121/home/hda_project/data/Medications 6 Jan 2025_Prescribed_Completed Baseline PROMs.xlsx')\n",
    "prescription=pd.read_excel('/rds/general/user/hsl121/home/hda_project/data/Prescriptions 6 Jan 2025_Prescribed_Completed Baseline PROMs NEW.xlsx')"
   ]
  },
  {
   "cell_type": "code",
   "execution_count": 45,
   "id": "1884632a",
   "metadata": {},
   "outputs": [],
   "source": [
    "eq5d=scores[scores['promName']=='EQ5D']\n",
    "eq5d=eq5d[['SID','Round','promName','total_score']]"
   ]
  },
  {
   "cell_type": "code",
   "execution_count": 15,
   "id": "32cedda0",
   "metadata": {},
   "outputs": [
    {
     "name": "stdout",
     "output_type": "stream",
     "text": [
      "Index(['SID', 'Round', 'promName', 'total_score'], dtype='object')\n"
     ]
    }
   ],
   "source": [
    "print(eq5d.columns)"
   ]
  },
  {
   "cell_type": "code",
   "execution_count": 16,
   "id": "9943cc4e",
   "metadata": {},
   "outputs": [
    {
     "name": "stdout",
     "output_type": "stream",
     "text": [
      "['Title', 'Index Value Calculator', 'EQ-5D-5L Value Sets']\n"
     ]
    }
   ],
   "source": [
    "xls = pd.ExcelFile('/rds/general/user/hsl121/home/hda_project/Protocol and data framework/Copy of EQ-5D-5L_Crosswalk_Index_Value_Calculator_MAC.xls')\n",
    "print(xls.sheet_names)\n"
   ]
  },
  {
   "cell_type": "code",
   "execution_count": 42,
   "id": "03289df7",
   "metadata": {},
   "outputs": [],
   "source": [
    "eq5d_index = pd.read_excel(xls, sheet_name='EQ-5D-5L Value Sets', skiprows=1)\n"
   ]
  },
  {
   "cell_type": "code",
   "execution_count": 43,
   "id": "b5ab55da",
   "metadata": {},
   "outputs": [],
   "source": [
    "eq5d_index = eq5d_index.drop(eq5d_index.columns[0], axis=1)\n",
    "eq5d_index= eq5d_index[['5L profile', 'UK']]\n"
   ]
  },
  {
   "cell_type": "code",
   "execution_count": 44,
   "id": "7448406e",
   "metadata": {},
   "outputs": [
    {
     "data": {
      "text/plain": [
       "Index(['5L profile', 'UK'], dtype='object')"
      ]
     },
     "execution_count": 44,
     "metadata": {},
     "output_type": "execute_result"
    }
   ],
   "source": [
    "eq5d_index.columns"
   ]
  },
  {
   "cell_type": "code",
   "execution_count": 47,
   "id": "4807a7fd",
   "metadata": {},
   "outputs": [
    {
     "data": {
      "text/plain": [
       "Index(['SID', 'Round', 'promName', 'total_score'], dtype='object')"
      ]
     },
     "execution_count": 47,
     "metadata": {},
     "output_type": "execute_result"
    }
   ],
   "source": [
    "eq5d.columns"
   ]
  },
  {
   "cell_type": "code",
   "execution_count": 48,
   "id": "485e9033",
   "metadata": {},
   "outputs": [],
   "source": [
    "eq5d = eq5d.merge(eq5d_index, left_on='total_score', right_on='5L profile', how='left')\n"
   ]
  },
  {
   "cell_type": "code",
   "execution_count": 50,
   "id": "dc4cabc5",
   "metadata": {},
   "outputs": [
    {
     "data": {
      "text/plain": [
       "<bound method NDFrame.head of                                      SID  Round promName  total_score  \\\n",
       "0           003adIEhRDbcWiL9YN4rjAvekGl1      1     EQ5D      43455.0   \n",
       "1           003adIEhRDbcWiL9YN4rjAvekGl1      2     EQ5D      31222.0   \n",
       "2           003adIEhRDbcWiL9YN4rjAvekGl1      3     EQ5D      33222.0   \n",
       "3       00b622bb2e064de91714bb4d7812245e      1     EQ5D      14424.0   \n",
       "4       00b622bb2e064de91714bb4d7812245e      2     EQ5D      24434.0   \n",
       "...                                  ...    ...      ...          ...   \n",
       "113594              zZwQ0lYo31weDN038pOq      2     EQ5D      11222.0   \n",
       "113595              zZwQ0lYo31weDN038pOq      3     EQ5D      11122.0   \n",
       "113596      zZXvDhEI5neNrU419i5tlcvlEkz1      1     EQ5D      32544.0   \n",
       "113597      zZXvDhEI5neNrU419i5tlcvlEkz1      2     EQ5D      21222.0   \n",
       "113598      zzZ75pcuChS4zFv3wX4TchiEcVt2      1     EQ5D      32344.0   \n",
       "\n",
       "        5L profile     UK  \n",
       "0          43455.0 -0.218  \n",
       "1          31222.0  0.666  \n",
       "2          33222.0  0.562  \n",
       "3          14424.0  0.283  \n",
       "4          24434.0  0.202  \n",
       "...            ...    ...  \n",
       "113594     11222.0  0.736  \n",
       "113595     11122.0  0.768  \n",
       "113596     32544.0  0.020  \n",
       "113597     21222.0  0.679  \n",
       "113598     32344.0  0.161  \n",
       "\n",
       "[113599 rows x 6 columns]>"
      ]
     },
     "execution_count": 50,
     "metadata": {},
     "output_type": "execute_result"
    }
   ],
   "source": [
    "eq5d.head"
   ]
  },
  {
   "cell_type": "code",
   "execution_count": 46,
   "id": "3a3855ba",
   "metadata": {},
   "outputs": [],
   "source": [
    "\n",
    "eq5d_wide = eq5d.pivot_table(index='SID', \n",
    "                                    columns='Round', \n",
    "                                    values='total_score', \n",
    "                                    aggfunc='first')\n",
    "\n",
    "eq5d_wide.columns = [f\"EQ5D_Round{r}\" for r in eq5d_wide.columns]\n",
    "eq5d_wide = eq5d_wide.reset_index()\n"
   ]
  },
  {
   "cell_type": "code",
   "execution_count": 13,
   "id": "c42f100b",
   "metadata": {},
   "outputs": [
    {
     "data": {
      "text/plain": [
       "Index(['SID', 'EQ5D_Round1', 'EQ5D_Round2', 'EQ5D_Round3', 'EQ5D_Round4',\n",
       "       'EQ5D_Round5', 'EQ5D_Round6', 'EQ5D_Round7', 'EQ5D_Round8',\n",
       "       'EQ5D_Round9', 'EQ5D_Round10', 'EQ5D_Round11', 'EQ5D_Round12',\n",
       "       'EQ5D_Round13'],\n",
       "      dtype='object')"
      ]
     },
     "execution_count": 13,
     "metadata": {},
     "output_type": "execute_result"
    }
   ],
   "source": [
    "eq5d_wide.columns"
   ]
  },
  {
   "cell_type": "code",
   "execution_count": 31,
   "id": "cf37d94b",
   "metadata": {},
   "outputs": [],
   "source": [
    "eq5d_df=pd.merge(eq5d_wide, comorbidites, on='SID', how='left')"
   ]
  },
  {
   "cell_type": "code",
   "execution_count": 39,
   "id": "3297a13d",
   "metadata": {},
   "outputs": [
    {
     "name": "stdout",
     "output_type": "stream",
     "text": [
      "31432\n"
     ]
    }
   ],
   "source": [
    "print(eq5d_df['EQ5D_Round13'].isnull().sum())"
   ]
  },
  {
   "cell_type": "code",
   "execution_count": 24,
   "id": "dcea3e56",
   "metadata": {},
   "outputs": [
    {
     "name": "stdout",
     "output_type": "stream",
     "text": [
      "31508\n"
     ]
    }
   ],
   "source": [
    "print(scores['SID'].nunique())"
   ]
  },
  {
   "cell_type": "markdown",
   "id": "0b6dc139",
   "metadata": {},
   "source": [
    "RQ1 Dataset"
   ]
  },
  {
   "cell_type": "code",
   "execution_count": 4,
   "id": "ff72b601",
   "metadata": {},
   "outputs": [
    {
     "name": "stderr",
     "output_type": "stream",
     "text": [
      "/rds/general/ephemeral/user/hsl121/ephemeral/ipykernel_3276417/542726840.py:4: SettingWithCopyWarning: \n",
      "A value is trying to be set on a copy of a slice from a DataFrame.\n",
      "Try using .loc[row_indexer,col_indexer] = value instead\n",
      "\n",
      "See the caveats in the documentation: https://pandas.pydata.org/pandas-docs/stable/user_guide/indexing.html#returning-a-view-versus-a-copy\n",
      "  scores_filtered['Round'] = scores_filtered['Round'].astype(str)\n",
      "/rds/general/ephemeral/user/hsl121/ephemeral/ipykernel_3276417/542726840.py:5: SettingWithCopyWarning: \n",
      "A value is trying to be set on a copy of a slice from a DataFrame.\n",
      "Try using .loc[row_indexer,col_indexer] = value instead\n",
      "\n",
      "See the caveats in the documentation: https://pandas.pydata.org/pandas-docs/stable/user_guide/indexing.html#returning-a-view-versus-a-copy\n",
      "  scores_filtered['PROM_Round'] = scores_filtered['promName'] + '_Round' + scores_filtered['Round']\n"
     ]
    }
   ],
   "source": [
    "\n",
    "proms_to_keep = ['GAD7', 'EQ5D', 'PGIC', 'insomniaEfficacyMeasure']\n",
    "scores_filtered = scores[scores['promName'].isin(proms_to_keep)]\n",
    "\n",
    "scores_filtered['Round'] = scores_filtered['Round'].astype(str)\n",
    "scores_filtered['PROM_Round'] = scores_filtered['promName'] + '_Round' + scores_filtered['Round']\n",
    "\n",
    "# Pivot to wide format\n",
    "scores_wide = scores_filtered.pivot_table(index='SID', \n",
    "                                          columns='PROM_Round', \n",
    "                                          values='total_score', \n",
    "                                          aggfunc='mean')\n",
    "\n",
    "# Reset index\n",
    "scores_wide = scores_wide.reset_index()\n"
   ]
  },
  {
   "cell_type": "code",
   "execution_count": null,
   "id": "66f2f937",
   "metadata": {},
   "outputs": [
    {
     "name": "stdout",
     "output_type": "stream",
     "text": [
      "['Title', 'Index Value Calculator', 'EQ-5D-5L Value Sets']\n"
     ]
    }
   ],
   "source": []
  },
  {
   "cell_type": "code",
   "execution_count": null,
   "id": "7e5374ba",
   "metadata": {},
   "outputs": [],
   "source": []
  },
  {
   "cell_type": "code",
   "execution_count": 8,
   "id": "5227a0f9",
   "metadata": {},
   "outputs": [
    {
     "data": {
      "text/plain": [
       "Index(['Unnamed: 0', 'Unnamed: 1', 'Denmark', 'France', 'Germany', 'Japan',\n",
       "       'Netherlands', 'Spain', 'Thailand', 'UK', 'US', 'Zimbabwe'],\n",
       "      dtype='object')"
      ]
     },
     "execution_count": 8,
     "metadata": {},
     "output_type": "execute_result"
    }
   ],
   "source": [
    "eq5d_index.columns"
   ]
  },
  {
   "cell_type": "code",
   "execution_count": 5,
   "id": "6007293c",
   "metadata": {},
   "outputs": [],
   "source": [
    "prescription['DateofPrescription'] = pd.to_datetime(prescription['DateofPrescription'])\n",
    "\n",
    "first_prescription = (\n",
    "    prescription.sort_values(by='DateofPrescription')\n",
    "    .drop_duplicates(subset='SID', keep='first')\n",
    "    .reset_index(drop=True)\n",
    ")\n",
    "\n",
    "first_prescription = first_prescription[['SID', 'DateofPrescription', 'Product','Totalquantity','Route']]\n",
    "first_prescription.columns = ['SID', 'FirstPrescriptionDate', 'FirstProduct','FirstTotalQuantity','Route']"
   ]
  },
  {
   "cell_type": "code",
   "execution_count": 73,
   "id": "107e9b93",
   "metadata": {},
   "outputs": [
    {
     "data": {
      "text/plain": [
       "<bound method NDFrame.head of                                     SID FirstPrescriptionDate  \\\n",
       "0      d4f47ff0ce92f9e63dc727192aab8ee5            2019-12-01   \n",
       "1                  jeqr4rp3lX5uyZIo9hGR            2020-08-07   \n",
       "2      f706a33d2c41c6c99429921310f26ef3            2020-08-07   \n",
       "3                  USAXrNl8qJsWNMrXd7eK            2020-08-18   \n",
       "4      ec4150acb39aee85e967c7649b9902ee            2020-08-18   \n",
       "...                                 ...                   ...   \n",
       "31503      D7XHnB4UQXS4iHuf2uXXgw4ykTq1            2025-01-02   \n",
       "31504      QbfdIHi68KQJWkVZ7Sms4rcSAy83            2025-01-03   \n",
       "31505      LMrsayxBMCcDnxDKss1DsGGnfoO2            2025-01-03   \n",
       "31506      UZ24zeHWSZfQsxbS0RVERJZ5nBo1            2025-01-03   \n",
       "31507      zN7qilOyfYNvZdUbkKOGD8zFFbZ2            2025-01-03   \n",
       "\n",
       "                                            FirstProduct FirstTotalQuantity  \\\n",
       "0                                       Tilray 10:10 oil     25 millilitres   \n",
       "1                           Bediol CBD 2% /THC 1.3 % oil     10 millilitres   \n",
       "2                               20mg THC /5mg CBD/ml oil     60 millilitres   \n",
       "3                      Adven Oil 20mg/ml THC isolate oil     10 millilitres   \n",
       "4                     Bedica <1% CBD / 14% THC granulate          5 gram(s)   \n",
       "...                                                  ...                ...   \n",
       "31503  Curaleaf T20 LCE <1% CBD/ 20% THC (Lavender Ca...         20 gram(s)   \n",
       "31504  Curaleaf LNC 7% CBD/ 7% THC (Lunar Circus hybr...         20 gram(s)   \n",
       "31505  Curaleaf Oil hybrid/indica (EMT2 - Cairo/EMC1)...     30 millilitres   \n",
       "31506  Curaleaf T20 LCE <1% CBD/ 20% THC (Lavender Ca...         20 gram(s)   \n",
       "31507  Curaleaf T20 LCE <1% CBD/ 20% THC (Lavender Ca...         20 gram(s)   \n",
       "\n",
       "                                Route  \n",
       "0            Under the tongue /orally  \n",
       "1            Under the tongue /orally  \n",
       "2            Under the tongue /orally  \n",
       "3            Under the tongue /orally  \n",
       "4      Inhaled by a vapouriser device  \n",
       "...                               ...  \n",
       "31503  Inhaled by a vapouriser device  \n",
       "31504  Inhaled by a vapouriser device  \n",
       "31505        Under the tongue /orally  \n",
       "31506  Inhaled by a vapouriser device  \n",
       "31507  Inhaled by a vapouriser device  \n",
       "\n",
       "[31508 rows x 5 columns]>"
      ]
     },
     "execution_count": 73,
     "metadata": {},
     "output_type": "execute_result"
    }
   ],
   "source": [
    "first_prescription.head\n"
   ]
  },
  {
   "cell_type": "code",
   "execution_count": 6,
   "id": "68b7d46f",
   "metadata": {},
   "outputs": [],
   "source": [
    "rq1=pd.merge(scores_wide, first_prescription, on='SID', how='left')\n"
   ]
  },
  {
   "cell_type": "code",
   "execution_count": 7,
   "id": "36658f87",
   "metadata": {},
   "outputs": [],
   "source": [
    "rq1=pd.merge(rq1, comorbidites, on='SID', how='outer')"
   ]
  },
  {
   "cell_type": "code",
   "execution_count": 76,
   "id": "61f23a4a",
   "metadata": {},
   "outputs": [
    {
     "data": {
      "text/plain": [
       "Index(['SID', 'EQ5D_Round1', 'EQ5D_Round10', 'EQ5D_Round11', 'EQ5D_Round12',\n",
       "       'EQ5D_Round13', 'EQ5D_Round2', 'EQ5D_Round3', 'EQ5D_Round4',\n",
       "       'EQ5D_Round5',\n",
       "       ...\n",
       "       'Cannabis_use_frequency', 'Cannabis_use_route', 'Cannabis_gram_per_day',\n",
       "       'Cannabis_gram_years', 'Prescribed', 'BaselinePROMS',\n",
       "       'FirstPrescriptionDate_y', 'FirstYearPrescribed', 'Status',\n",
       "       'GovernmentOfficeRegion'],\n",
       "      dtype='object', length=104)"
      ]
     },
     "execution_count": 76,
     "metadata": {},
     "output_type": "execute_result"
    }
   ],
   "source": [
    "rq1.columns"
   ]
  },
  {
   "cell_type": "code",
   "execution_count": 8,
   "id": "79657e2c",
   "metadata": {},
   "outputs": [],
   "source": [
    "drop=['Cannabis_gram_per_day', 'Prescribed', 'BaselinePROMS','FirstPrescriptionDate_y', 'FirstYearPrescribed', 'Status','GovernmentOfficeRegion']\n",
    "\n",
    "rq1=rq1.drop(drop, axis=1, inplace=False)"
   ]
  },
  {
   "cell_type": "code",
   "execution_count": 78,
   "id": "2f399dad",
   "metadata": {},
   "outputs": [
    {
     "data": {
      "text/plain": [
       "Index(['SID', 'EQ5D_Round1', 'EQ5D_Round10', 'EQ5D_Round11', 'EQ5D_Round12',\n",
       "       'EQ5D_Round13', 'EQ5D_Round2', 'EQ5D_Round3', 'EQ5D_Round4',\n",
       "       'EQ5D_Round5', 'EQ5D_Round6', 'EQ5D_Round7', 'EQ5D_Round8',\n",
       "       'EQ5D_Round9', 'GAD7_Round1', 'GAD7_Round10', 'GAD7_Round11',\n",
       "       'GAD7_Round12', 'GAD7_Round13', 'GAD7_Round2', 'GAD7_Round3',\n",
       "       'GAD7_Round4', 'GAD7_Round5', 'GAD7_Round6', 'GAD7_Round7',\n",
       "       'GAD7_Round8', 'GAD7_Round9', 'PGIC_Round1', 'PGIC_Round10',\n",
       "       'PGIC_Round11', 'PGIC_Round12', 'PGIC_Round13', 'PGIC_Round2',\n",
       "       'PGIC_Round3', 'PGIC_Round4', 'PGIC_Round5', 'PGIC_Round6',\n",
       "       'PGIC_Round7', 'PGIC_Round8', 'PGIC_Round9',\n",
       "       'insomniaEfficacyMeasure_Round1', 'insomniaEfficacyMeasure_Round10',\n",
       "       'insomniaEfficacyMeasure_Round11', 'insomniaEfficacyMeasure_Round12',\n",
       "       'insomniaEfficacyMeasure_Round13', 'insomniaEfficacyMeasure_Round2',\n",
       "       'insomniaEfficacyMeasure_Round3', 'insomniaEfficacyMeasure_Round4',\n",
       "       'insomniaEfficacyMeasure_Round5', 'insomniaEfficacyMeasure_Round6',\n",
       "       'insomniaEfficacyMeasure_Round7', 'insomniaEfficacyMeasure_Round8',\n",
       "       'insomniaEfficacyMeasure_Round9', 'FirstPrescriptionDate_x',\n",
       "       'FirstProduct', 'FirstTotalQuantity', 'Route', 'Age', 'Sex',\n",
       "       'occupation', 'weight', 'height', 'BMI', 'primDiag', 'secDiag',\n",
       "       'tertDiag', 'Myocardial_infarction', 'Congestive_heart_failure',\n",
       "       'Peripheral_vascular_disease',\n",
       "       'Cerebrovascular_accident_or_transient_ischemic_attack', 'Dementia',\n",
       "       'Chronic_obstructive_pulmonary_disease', 'Connective_tissue_disease',\n",
       "       'Peptic_Ulcer_Disease', 'Liver_disease', 'Diabetes', 'Hemiplegia',\n",
       "       'Moderate_to_severe_chronic_kidney_disease', 'Solid_tumour', 'Leukemia',\n",
       "       'Lymphoma', 'AIDS', 'Charlson_comorbidity', 'Hypertension',\n",
       "       'Depression_or_anxiety', 'Arthritis', 'Epilepsy', 'VTE',\n",
       "       'Endocrine_thyroid_dysfunction', 'Allergy', 'Smoking_status',\n",
       "       'Smoking_pack_years', 'alcohol_units', 'Cannabis_status',\n",
       "       'Cannabis_use_frequency', 'Cannabis_use_route', 'Cannabis_gram_years'],\n",
       "      dtype='object')"
      ]
     },
     "execution_count": 78,
     "metadata": {},
     "output_type": "execute_result"
    }
   ],
   "source": [
    "rq1.columns"
   ]
  },
  {
   "cell_type": "code",
   "execution_count": 58,
   "id": "a60bf02b",
   "metadata": {},
   "outputs": [
    {
     "name": "stdout",
     "output_type": "stream",
     "text": [
      "['SID' 'AKPS_Round1' 'AKPS_Round10' 'AKPS_Round11' 'AKPS_Round2'\n",
      " 'AKPS_Round3' 'AKPS_Round4' 'AKPS_Round5' 'AKPS_Round6' 'AKPS_Round7'\n",
      " 'AKPS_Round8' 'AKPS_Round9' 'EDEQ_Round1' 'EDEQ_Round10' 'EDEQ_Round2'\n",
      " 'EDEQ_Round3' 'EDEQ_Round4' 'EDEQ_Round5' 'EDEQ_Round6' 'EDEQ_Round7'\n",
      " 'EDEQ_Round8' 'EDEQ_Round9' 'EQ5D_Round1' 'EQ5D_Round10' 'EQ5D_Round11'\n",
      " 'EQ5D_Round12' 'EQ5D_Round13' 'EQ5D_Round2' 'EQ5D_Round3' 'EQ5D_Round4'\n",
      " 'EQ5D_Round5' 'EQ5D_Round6' 'EQ5D_Round7' 'EQ5D_Round8' 'EQ5D_Round9'\n",
      " 'GAD7_Round1' 'GAD7_Round10' 'GAD7_Round11' 'GAD7_Round12' 'GAD7_Round13'\n",
      " 'GAD7_Round2' 'GAD7_Round3' 'GAD7_Round4' 'GAD7_Round5' 'GAD7_Round6'\n",
      " 'GAD7_Round7' 'GAD7_Round8' 'GAD7_Round9' 'HIT_Round1' 'HIT_Round10'\n",
      " 'HIT_Round11' 'HIT_Round2' 'HIT_Round3' 'HIT_Round4' 'HIT_Round5'\n",
      " 'HIT_Round6' 'HIT_Round7' 'HIT_Round8' 'HIT_Round9' 'IBDQ_Round1'\n",
      " 'IBDQ_Round10' 'IBDQ_Round11' 'IBDQ_Round2' 'IBDQ_Round3' 'IBDQ_Round4'\n",
      " 'IBDQ_Round5' 'IBDQ_Round6' 'IBDQ_Round7' 'IBDQ_Round8' 'IBDQ_Round9'\n",
      " 'IEPS_Round1' 'IEPS_Round10' 'IEPS_Round11' 'IEPS_Round2' 'IEPS_Round3'\n",
      " 'IEPS_Round4' 'IEPS_Round5' 'IEPS_Round6' 'IEPS_Round7' 'IEPS_Round8'\n",
      " 'IEPS_Round9' 'MIDAS_Round1' 'MIDAS_Round10' 'MIDAS_Round11'\n",
      " 'MIDAS_Round2' 'MIDAS_Round3' 'MIDAS_Round4' 'MIDAS_Round5'\n",
      " 'MIDAS_Round6' 'MIDAS_Round7' 'MIDAS_Round8' 'MIDAS_Round9'\n",
      " 'MOVES_Round1' 'MOVES_Round10' 'MOVES_Round11' 'MOVES_Round2'\n",
      " 'MOVES_Round3' 'MOVES_Round4' 'MOVES_Round5' 'MOVES_Round6'\n",
      " 'MOVES_Round7' 'MOVES_Round8' 'MOVES_Round9' 'MPQ2_Round1' 'MPQ2_Round10'\n",
      " 'MPQ2_Round11' 'MPQ2_Round12' 'MPQ2_Round13' 'MPQ2_Round2' 'MPQ2_Round3'\n",
      " 'MPQ2_Round4' 'MPQ2_Round5' 'MPQ2_Round6' 'MPQ2_Round7' 'MPQ2_Round8'\n",
      " 'MPQ2_Round9' 'PDQ39_Round1' 'PDQ39_Round10' 'PDQ39_Round2'\n",
      " 'PDQ39_Round3' 'PDQ39_Round4' 'PDQ39_Round5' 'PDQ39_Round6'\n",
      " 'PDQ39_Round7' 'PDQ39_Round8' 'PDQ39_Round9' 'PGIC_Round1' 'PGIC_Round10'\n",
      " 'PGIC_Round11' 'PGIC_Round12' 'PGIC_Round13' 'PGIC_Round2' 'PGIC_Round3'\n",
      " 'PGIC_Round4' 'PGIC_Round5' 'PGIC_Round6' 'PGIC_Round7' 'PGIC_Round8'\n",
      " 'PGIC_Round9' 'PHQ9_Round1' 'PHQ9_Round10' 'PHQ9_Round11' 'PHQ9_Round2'\n",
      " 'PHQ9_Round3' 'PHQ9_Round4' 'PHQ9_Round5' 'PHQ9_Round6' 'PHQ9_Round7'\n",
      " 'PHQ9_Round8' 'PHQ9_Round9' 'POS_Round1' 'POS_Round10' 'POS_Round11'\n",
      " 'POS_Round2' 'POS_Round3' 'POS_Round4' 'POS_Round5' 'POS_Round6'\n",
      " 'POS_Round7' 'POS_Round8' 'POS_Round9' 'QOLIEQ_Round1' 'QOLIEQ_Round10'\n",
      " 'QOLIEQ_Round2' 'QOLIEQ_Round3' 'QOLIEQ_Round4' 'QOLIEQ_Round5'\n",
      " 'QOLIEQ_Round6' 'QOLIEQ_Round7' 'QOLIEQ_Round8' 'QOLIEQ_Round9'\n",
      " 'SPIN_Round1' 'SPIN_Round2' 'SPIN_Round3' 'SPIN_Round4' 'SPIN_Round5'\n",
      " 'SPIN_Round6' 'SPIN_Round7' 'VASPainScore_Round1' 'VASPainScore_Round10'\n",
      " 'VASPainScore_Round11' 'VASPainScore_Round12' 'VASPainScore_Round13'\n",
      " 'VASPainScore_Round2' 'VASPainScore_Round3' 'VASPainScore_Round4'\n",
      " 'VASPainScore_Round5' 'VASPainScore_Round6' 'VASPainScore_Round7'\n",
      " 'VASPainScore_Round8' 'VASPainScore_Round9'\n",
      " 'fibromyalgiaSymptomSeverityScore_Round1'\n",
      " 'fibromyalgiaSymptomSeverityScore_Round10'\n",
      " 'fibromyalgiaSymptomSeverityScore_Round11'\n",
      " 'fibromyalgiaSymptomSeverityScore_Round12'\n",
      " 'fibromyalgiaSymptomSeverityScore_Round2'\n",
      " 'fibromyalgiaSymptomSeverityScore_Round3'\n",
      " 'fibromyalgiaSymptomSeverityScore_Round4'\n",
      " 'fibromyalgiaSymptomSeverityScore_Round5'\n",
      " 'fibromyalgiaSymptomSeverityScore_Round6'\n",
      " 'fibromyalgiaSymptomSeverityScore_Round7'\n",
      " 'fibromyalgiaSymptomSeverityScore_Round8'\n",
      " 'fibromyalgiaSymptomSeverityScore_Round9' 'impactOfEventsScale_Round1'\n",
      " 'impactOfEventsScale_Round10' 'impactOfEventsScale_Round11'\n",
      " 'impactOfEventsScale_Round12' 'impactOfEventsScale_Round2'\n",
      " 'impactOfEventsScale_Round3' 'impactOfEventsScale_Round4'\n",
      " 'impactOfEventsScale_Round5' 'impactOfEventsScale_Round6'\n",
      " 'impactOfEventsScale_Round7' 'impactOfEventsScale_Round8'\n",
      " 'impactOfEventsScale_Round9' 'insomniaEfficacyMeasure_Round1'\n",
      " 'insomniaEfficacyMeasure_Round10' 'insomniaEfficacyMeasure_Round11'\n",
      " 'insomniaEfficacyMeasure_Round12' 'insomniaEfficacyMeasure_Round13'\n",
      " 'insomniaEfficacyMeasure_Round2' 'insomniaEfficacyMeasure_Round3'\n",
      " 'insomniaEfficacyMeasure_Round4' 'insomniaEfficacyMeasure_Round5'\n",
      " 'insomniaEfficacyMeasure_Round6' 'insomniaEfficacyMeasure_Round7'\n",
      " 'insomniaEfficacyMeasure_Round8' 'insomniaEfficacyMeasure_Round9'\n",
      " 'obsessiveCompulsiveInventory_Round1'\n",
      " 'obsessiveCompulsiveInventory_Round10'\n",
      " 'obsessiveCompulsiveInventory_Round2'\n",
      " 'obsessiveCompulsiveInventory_Round3'\n",
      " 'obsessiveCompulsiveInventory_Round4'\n",
      " 'obsessiveCompulsiveInventory_Round5'\n",
      " 'obsessiveCompulsiveInventory_Round6'\n",
      " 'obsessiveCompulsiveInventory_Round7'\n",
      " 'obsessiveCompulsiveInventory_Round8'\n",
      " 'obsessiveCompulsiveInventory_Round9' 'symptomDistressScale_Round1'\n",
      " 'symptomDistressScale_Round2' 'symptomDistressScale_Round3'\n",
      " 'symptomDistressScale_Round4' 'symptomDistressScale_Round5'\n",
      " 'symptomDistressScale_Round6' 'symptomDistressScale_Round7'\n",
      " 'symptomDistressScale_Round8' 'symptomDistressScale_Round9'\n",
      " 'FirstPrescriptionDate_x' 'FirstProduct' 'FirstTotalQuantity' 'Route'\n",
      " 'Age' 'Sex' 'occupation' 'weight' 'height' 'BMI' 'primDiag' 'secDiag'\n",
      " 'tertDiag' 'Myocardial_infarction' 'Congestive_heart_failure'\n",
      " 'Peripheral_vascular_disease'\n",
      " 'Cerebrovascular_accident_or_transient_ischemic_attack' 'Dementia'\n",
      " 'Chronic_obstructive_pulmonary_disease' 'Connective_tissue_disease'\n",
      " 'Peptic_Ulcer_Disease' 'Liver_disease' 'Diabetes' 'Hemiplegia'\n",
      " 'Moderate_to_severe_chronic_kidney_disease' 'Solid_tumour' 'Leukemia'\n",
      " 'Lymphoma' 'AIDS' 'Charlson_comorbidity' 'Hypertension'\n",
      " 'Depression_or_anxiety' 'Arthritis' 'Epilepsy' 'VTE'\n",
      " 'Endocrine_thyroid_dysfunction' 'Allergy' 'Smoking_status'\n",
      " 'Smoking_pack_years' 'alcohol_units' 'Cannabis_status'\n",
      " 'Cannabis_use_frequency' 'Cannabis_use_route' 'Cannabis_gram_years']\n"
     ]
    }
   ],
   "source": [
    "print(rq1.columns.values)"
   ]
  },
  {
   "cell_type": "code",
   "execution_count": null,
   "id": "3cb0081e",
   "metadata": {},
   "outputs": [
    {
     "ename": "KeyError",
     "evalue": "'FirstPrescriptionDate'",
     "output_type": "error",
     "traceback": [
      "\u001b[0;31m---------------------------------------------------------------------------\u001b[0m",
      "\u001b[0;31mKeyError\u001b[0m                                  Traceback (most recent call last)",
      "File \u001b[0;32m~/anaconda3/envs/TDS/lib/python3.9/site-packages/pandas/core/indexes/base.py:3805\u001b[0m, in \u001b[0;36mIndex.get_loc\u001b[0;34m(self, key)\u001b[0m\n\u001b[1;32m   3804\u001b[0m \u001b[38;5;28;01mtry\u001b[39;00m:\n\u001b[0;32m-> 3805\u001b[0m     \u001b[38;5;28;01mreturn\u001b[39;00m \u001b[38;5;28;43mself\u001b[39;49m\u001b[38;5;241;43m.\u001b[39;49m\u001b[43m_engine\u001b[49m\u001b[38;5;241;43m.\u001b[39;49m\u001b[43mget_loc\u001b[49m\u001b[43m(\u001b[49m\u001b[43mcasted_key\u001b[49m\u001b[43m)\u001b[49m\n\u001b[1;32m   3806\u001b[0m \u001b[38;5;28;01mexcept\u001b[39;00m \u001b[38;5;167;01mKeyError\u001b[39;00m \u001b[38;5;28;01mas\u001b[39;00m err:\n",
      "File \u001b[0;32mindex.pyx:167\u001b[0m, in \u001b[0;36mpandas._libs.index.IndexEngine.get_loc\u001b[0;34m()\u001b[0m\n",
      "File \u001b[0;32mindex.pyx:196\u001b[0m, in \u001b[0;36mpandas._libs.index.IndexEngine.get_loc\u001b[0;34m()\u001b[0m\n",
      "File \u001b[0;32mpandas/_libs/hashtable_class_helper.pxi:7081\u001b[0m, in \u001b[0;36mpandas._libs.hashtable.PyObjectHashTable.get_item\u001b[0;34m()\u001b[0m\n",
      "File \u001b[0;32mpandas/_libs/hashtable_class_helper.pxi:7089\u001b[0m, in \u001b[0;36mpandas._libs.hashtable.PyObjectHashTable.get_item\u001b[0;34m()\u001b[0m\n",
      "\u001b[0;31mKeyError\u001b[0m: 'FirstPrescriptionDate'",
      "\nThe above exception was the direct cause of the following exception:\n",
      "\u001b[0;31mKeyError\u001b[0m                                  Traceback (most recent call last)",
      "Cell \u001b[0;32mIn[5], line 3\u001b[0m\n\u001b[1;32m      1\u001b[0m \u001b[38;5;66;03m# Ensure both date columns are in datetime format\u001b[39;00m\n\u001b[1;32m      2\u001b[0m scores[\u001b[38;5;124m'\u001b[39m\u001b[38;5;124mcompletionDate\u001b[39m\u001b[38;5;124m'\u001b[39m] \u001b[38;5;241m=\u001b[39m pd\u001b[38;5;241m.\u001b[39mto_datetime(scores[\u001b[38;5;124m'\u001b[39m\u001b[38;5;124mcompletionDate\u001b[39m\u001b[38;5;124m'\u001b[39m], errors\u001b[38;5;241m=\u001b[39m\u001b[38;5;124m'\u001b[39m\u001b[38;5;124mcoerce\u001b[39m\u001b[38;5;124m'\u001b[39m)\n\u001b[0;32m----> 3\u001b[0m prescription[\u001b[38;5;124m'\u001b[39m\u001b[38;5;124mFirstPrescriptionDate\u001b[39m\u001b[38;5;124m'\u001b[39m] \u001b[38;5;241m=\u001b[39m pd\u001b[38;5;241m.\u001b[39mto_datetime(\u001b[43mprescription\u001b[49m\u001b[43m[\u001b[49m\u001b[38;5;124;43m'\u001b[39;49m\u001b[38;5;124;43mFirstPrescriptionDate\u001b[39;49m\u001b[38;5;124;43m'\u001b[39;49m\u001b[43m]\u001b[49m, errors\u001b[38;5;241m=\u001b[39m\u001b[38;5;124m'\u001b[39m\u001b[38;5;124mcoerce\u001b[39m\u001b[38;5;124m'\u001b[39m)\n\u001b[1;32m      5\u001b[0m \u001b[38;5;66;03m# Filter scores to only Round 1 (baseline)\u001b[39;00m\n\u001b[1;32m      6\u001b[0m baseline_scores \u001b[38;5;241m=\u001b[39m scores[scores[\u001b[38;5;124m'\u001b[39m\u001b[38;5;124mRound\u001b[39m\u001b[38;5;124m'\u001b[39m]\u001b[38;5;241m.\u001b[39mastype(\u001b[38;5;28mstr\u001b[39m) \u001b[38;5;241m==\u001b[39m \u001b[38;5;124m'\u001b[39m\u001b[38;5;124m1\u001b[39m\u001b[38;5;124m'\u001b[39m]\u001b[38;5;241m.\u001b[39mcopy()\n",
      "File \u001b[0;32m~/anaconda3/envs/TDS/lib/python3.9/site-packages/pandas/core/frame.py:4102\u001b[0m, in \u001b[0;36mDataFrame.__getitem__\u001b[0;34m(self, key)\u001b[0m\n\u001b[1;32m   4100\u001b[0m \u001b[38;5;28;01mif\u001b[39;00m \u001b[38;5;28mself\u001b[39m\u001b[38;5;241m.\u001b[39mcolumns\u001b[38;5;241m.\u001b[39mnlevels \u001b[38;5;241m>\u001b[39m \u001b[38;5;241m1\u001b[39m:\n\u001b[1;32m   4101\u001b[0m     \u001b[38;5;28;01mreturn\u001b[39;00m \u001b[38;5;28mself\u001b[39m\u001b[38;5;241m.\u001b[39m_getitem_multilevel(key)\n\u001b[0;32m-> 4102\u001b[0m indexer \u001b[38;5;241m=\u001b[39m \u001b[38;5;28;43mself\u001b[39;49m\u001b[38;5;241;43m.\u001b[39;49m\u001b[43mcolumns\u001b[49m\u001b[38;5;241;43m.\u001b[39;49m\u001b[43mget_loc\u001b[49m\u001b[43m(\u001b[49m\u001b[43mkey\u001b[49m\u001b[43m)\u001b[49m\n\u001b[1;32m   4103\u001b[0m \u001b[38;5;28;01mif\u001b[39;00m is_integer(indexer):\n\u001b[1;32m   4104\u001b[0m     indexer \u001b[38;5;241m=\u001b[39m [indexer]\n",
      "File \u001b[0;32m~/anaconda3/envs/TDS/lib/python3.9/site-packages/pandas/core/indexes/base.py:3812\u001b[0m, in \u001b[0;36mIndex.get_loc\u001b[0;34m(self, key)\u001b[0m\n\u001b[1;32m   3807\u001b[0m     \u001b[38;5;28;01mif\u001b[39;00m \u001b[38;5;28misinstance\u001b[39m(casted_key, \u001b[38;5;28mslice\u001b[39m) \u001b[38;5;129;01mor\u001b[39;00m (\n\u001b[1;32m   3808\u001b[0m         \u001b[38;5;28misinstance\u001b[39m(casted_key, abc\u001b[38;5;241m.\u001b[39mIterable)\n\u001b[1;32m   3809\u001b[0m         \u001b[38;5;129;01mand\u001b[39;00m \u001b[38;5;28many\u001b[39m(\u001b[38;5;28misinstance\u001b[39m(x, \u001b[38;5;28mslice\u001b[39m) \u001b[38;5;28;01mfor\u001b[39;00m x \u001b[38;5;129;01min\u001b[39;00m casted_key)\n\u001b[1;32m   3810\u001b[0m     ):\n\u001b[1;32m   3811\u001b[0m         \u001b[38;5;28;01mraise\u001b[39;00m InvalidIndexError(key)\n\u001b[0;32m-> 3812\u001b[0m     \u001b[38;5;28;01mraise\u001b[39;00m \u001b[38;5;167;01mKeyError\u001b[39;00m(key) \u001b[38;5;28;01mfrom\u001b[39;00m\u001b[38;5;250m \u001b[39m\u001b[38;5;21;01merr\u001b[39;00m\n\u001b[1;32m   3813\u001b[0m \u001b[38;5;28;01mexcept\u001b[39;00m \u001b[38;5;167;01mTypeError\u001b[39;00m:\n\u001b[1;32m   3814\u001b[0m     \u001b[38;5;66;03m# If we have a listlike key, _check_indexing_error will raise\u001b[39;00m\n\u001b[1;32m   3815\u001b[0m     \u001b[38;5;66;03m#  InvalidIndexError. Otherwise we fall through and re-raise\u001b[39;00m\n\u001b[1;32m   3816\u001b[0m     \u001b[38;5;66;03m#  the TypeError.\u001b[39;00m\n\u001b[1;32m   3817\u001b[0m     \u001b[38;5;28mself\u001b[39m\u001b[38;5;241m.\u001b[39m_check_indexing_error(key)\n",
      "\u001b[0;31mKeyError\u001b[0m: 'FirstPrescriptionDate'"
     ]
    }
   ],
   "source": [
    "# Ensure both date columns are in datetime format\n",
    "scores['completionDate'] = pd.to_datetime(scores['completionDate'], errors='coerce')\n",
    "prescription['FirstPrescriptionDate'] = pd.to_datetime(prescription['FirstPrescriptionDate'], errors='coerce')\n",
    "\n",
    "# Filter scores to only Round 1 (baseline)\n",
    "baseline_scores = scores[scores['Round'].astype(str) == '1'].copy()\n",
    "\n",
    "# Merge in the prescription date\n",
    "baseline_scores = pd.merge(baseline_scores, \n",
    "                           prescription[['SID', 'FirstPrescriptionDate']], \n",
    "                           on='SID', how='left')\n",
    "\n",
    "# Filter: keep only if the PROM baseline was on or after the prescription date\n",
    "baseline_scores = baseline_scores[baseline_scores['completionDate'] >= baseline_scores['FirstPrescriptionDate']]\n"
   ]
  }
 ],
 "metadata": {
  "kernelspec": {
   "display_name": "TDS",
   "language": "python",
   "name": "python3"
  },
  "language_info": {
   "codemirror_mode": {
    "name": "ipython",
    "version": 3
   },
   "file_extension": ".py",
   "mimetype": "text/x-python",
   "name": "python",
   "nbconvert_exporter": "python",
   "pygments_lexer": "ipython3",
   "version": "3.9.21"
  }
 },
 "nbformat": 4,
 "nbformat_minor": 5
}
