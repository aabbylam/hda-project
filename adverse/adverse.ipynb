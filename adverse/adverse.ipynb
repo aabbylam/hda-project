{
 "cells": [
  {
   "cell_type": "code",
   "execution_count": null,
   "id": "beae20a9",
   "metadata": {},
   "outputs": [
    {
     "ename": "TypeError",
     "evalue": "unsupported operand type(s) for +: 'int' and 'str'",
     "output_type": "error",
     "traceback": [
      "\u001b[0;31m---------------------------------------------------------------------------\u001b[0m",
      "\u001b[0;31mTypeError\u001b[0m                                 Traceback (most recent call last)",
      "Cell \u001b[0;32mIn[1], line 60\u001b[0m\n\u001b[1;32m     54\u001b[0m X \u001b[38;5;241m=\u001b[39m X\u001b[38;5;241m.\u001b[39mrename(columns\u001b[38;5;241m=\u001b[39m{\n\u001b[1;32m     55\u001b[0m     \u001b[38;5;124m'\u001b[39m\u001b[38;5;124mGAD7_Round1_x\u001b[39m\u001b[38;5;124m'\u001b[39m: \u001b[38;5;124m'\u001b[39m\u001b[38;5;124mGAD7_Round1\u001b[39m\u001b[38;5;124m'\u001b[39m,\n\u001b[1;32m     56\u001b[0m     \u001b[38;5;124m'\u001b[39m\u001b[38;5;124minsomniaEfficacyMeasure_Round1_x\u001b[39m\u001b[38;5;124m'\u001b[39m: \u001b[38;5;124m'\u001b[39m\u001b[38;5;124minsomniaEfficacyMeasure_Round1\u001b[39m\u001b[38;5;124m'\u001b[39m\n\u001b[1;32m     57\u001b[0m })\n\u001b[1;32m     59\u001b[0m \u001b[38;5;66;03m# === CLASS WEIGHTS ===\u001b[39;00m\n\u001b[0;32m---> 60\u001b[0m n_pos \u001b[38;5;241m=\u001b[39m \u001b[38;5;28;43msum\u001b[39;49m\u001b[43m(\u001b[49m\u001b[43my\u001b[49m\u001b[43m \u001b[49m\u001b[38;5;241;43m==\u001b[39;49m\u001b[43m \u001b[49m\u001b[38;5;241;43m1\u001b[39;49m\u001b[43m)\u001b[49m\n\u001b[1;32m     61\u001b[0m n_neg \u001b[38;5;241m=\u001b[39m \u001b[38;5;28msum\u001b[39m(y \u001b[38;5;241m==\u001b[39m \u001b[38;5;241m0\u001b[39m)\n\u001b[1;32m     62\u001b[0m class_weights \u001b[38;5;241m=\u001b[39m {\u001b[38;5;241m0\u001b[39m: \u001b[38;5;241m1\u001b[39m, \u001b[38;5;241m1\u001b[39m: n_neg\u001b[38;5;241m/\u001b[39mn_pos}\n",
      "\u001b[0;31mTypeError\u001b[0m: unsupported operand type(s) for +: 'int' and 'str'"
     ]
    }
   ],
   "source": [
    "import os\n",
    "import pandas as pd\n",
    "import numpy as np\n",
    "import matplotlib.pyplot as plt\n",
    "import joblib\n",
    "\n",
    "from sklearn.model_selection import StratifiedKFold, GridSearchCV\n",
    "from sklearn.linear_model import LogisticRegression\n",
    "from sklearn.ensemble import RandomForestClassifier\n",
    "from xgboost import XGBClassifier\n",
    "from sklearn.neural_network import MLPClassifier\n",
    "from sklearn.pipeline import Pipeline\n",
    "from sklearn.preprocessing import StandardScaler\n",
    "from sklearn.metrics import (\n",
    "    balanced_accuracy_score, roc_auc_score, f1_score, precision_score,\n",
    "    recall_score, classification_report, make_scorer\n",
    ")\n",
    "\n",
    "\n",
    "# === LOAD DATA ===\n",
    "eq5d = pd.read_csv('../rq1/rq1_cleaned_no_ae.csv')\n",
    "scores = pd.read_excel('../data/Scores 6 Jan 2025_Prescribed_Completed Baseline PROMs.xlsx')\n",
    "df = pd.read_csv('../rq1/rq1_cleaned_adverse_binary.csv')\n",
    "\n",
    "# === MERGE PROMs ===\n",
    "gad7 = scores[scores['promName']=='GAD7'][['SID','Round','total_score']]\n",
    "gad7_wide = gad7.pivot_table(index='SID', columns='Round', values='total_score', aggfunc='first')\n",
    "gad7_wide.columns = [f\"GAD7_Round{r}\" for r in gad7_wide.columns]\n",
    "gad7_wide = gad7_wide.reset_index()\n",
    "gad7 = pd.merge(eq5d, gad7_wide, on='SID', how='left')\n",
    "\n",
    "ins = scores[scores['promName']=='insomniaEfficacyMeasure'][['SID','Round','total_score']]\n",
    "ins_wide = ins.pivot_table(index='SID', columns='Round', values='total_score', aggfunc='first')\n",
    "ins_wide.columns = [f\"insomniaEfficacyMeasure_Round{r}\" for r in ins_wide.columns]\n",
    "ins_wide = ins_wide.reset_index()\n",
    "\n"
   ]
  },
  {
   "cell_type": "code",
   "execution_count": 16,
   "id": "fcf459b4",
   "metadata": {},
   "outputs": [],
   "source": [
    "full = pd.merge(gad7, ins_wide, on='SID', how='left')\n",
    "full['adverse_binary'] = df['adverse_binary'].astype(int)\n",
    "\n",
    "# === CLEAN DATA ===\n",
    "drop_cols = ['SID', 'GAD7_Round2','GAD7_Round3','GAD7_Round4','GAD7_Round5','GAD7_Round6','GAD7_Round7',\n",
    "             'GAD7_Round8','GAD7_Round9','GAD7_Round10','GAD7_Round11','GAD7_Round12','GAD7_Round13',\n",
    "             'EQ5D_Round2','EQ5D_Round3','EQ5D_Round4','EQ5D_Round5','EQ5D_Round6',\n",
    "             'insomniaEfficacyMeasure_Round2','insomniaEfficacyMeasure_Round3','insomniaEfficacyMeasure_Round4',\n",
    "             'insomniaEfficacyMeasure_Round5','insomniaEfficacyMeasure_Round6','insomniaEfficacyMeasure_Round7',\n",
    "             'insomniaEfficacyMeasure_Round8','insomniaEfficacyMeasure_Round9','insomniaEfficacyMeasure_Round10',\n",
    "             'insomniaEfficacyMeasure_Round11','insomniaEfficacyMeasure_Round12','insomniaEfficacyMeasure_Round13','GAD7_Round1_y', 'insomniaEfficacyMeasure_Round1_y'\n",
    "]\n",
    "\n",
    "\n",
    "X = full.drop(columns=drop_cols)\n",
    "y=full['adverse_binary']\n",
    "\n",
    "data = pd.concat([X, y], axis=1).dropna()\n",
    "X, y = data.drop(columns='adverse_binary'), data['adverse_binary']\n",
    "X = X.rename(columns={\n",
    "    'GAD7_Round1_x': 'GAD7_Round1',\n",
    "    'insomniaEfficacyMeasure_Round1_x': 'insomniaEfficacyMeasure_Round1'\n",
    "})\n",
    "\n",
    "y = data.loc[:, 'adverse_binary'].iloc[:, 0] \n"
   ]
  }
 ],
 "metadata": {
  "kernelspec": {
   "display_name": "TDS",
   "language": "python",
   "name": "python3"
  },
  "language_info": {
   "codemirror_mode": {
    "name": "ipython",
    "version": 3
   },
   "file_extension": ".py",
   "mimetype": "text/x-python",
   "name": "python",
   "nbconvert_exporter": "python",
   "pygments_lexer": "ipython3",
   "version": "3.9.21"
  }
 },
 "nbformat": 4,
 "nbformat_minor": 5
}
