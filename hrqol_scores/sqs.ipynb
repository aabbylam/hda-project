{
 "cells": [
  {
   "cell_type": "code",
   "execution_count": 1,
   "metadata": {},
   "outputs": [],
   "source": [
    "import os\n",
    "import pandas as pd\n",
    "import numpy as np\n",
    "import matplotlib.pyplot as plt\n",
    "import joblib\n",
    "\n",
    "from sklearn.model_selection import train_test_split, GridSearchCV, KFold\n",
    "from sklearn.linear_model import LogisticRegression\n",
    "from sklearn.ensemble import RandomForestClassifier\n",
    "from xgboost import XGBClassifier\n",
    "from sklearn.neural_network import MLPClassifier\n",
    "from sklearn.metrics import accuracy_score, cohen_kappa_score\n",
    "from sklearn.base import BaseEstimator, clone"
   ]
  },
  {
   "cell_type": "code",
   "execution_count": null,
   "metadata": {},
   "outputs": [],
   "source": [
    "import pandas as pd\n",
    "import matplotlib.pyplot as plt\n",
    "import seaborn as sns\n",
    "\n",
    "eq5d=pd.read_csv('rq1_cleaned_no_ae.csv')\n",
    "\n",
    "\n",
    "scores=pd.read_excel('../data/Scores 6 Jan 2025_Prescribed_Completed Baseline PROMs.xlsx')\n",
    "gad7=scores[scores['promName']=='GAD7']\n",
    "gad7=gad7[['SID','Round','promName','total_score','completionDate']]\n",
    "\n",
    "\n",
    "gad7_wide = gad7.pivot_table(index='SID', \n",
    "                                    columns='Round', \n",
    "                                    values='total_score', \n",
    "                                    aggfunc='first')\n",
    "\n",
    "gad7_wide.columns = [f\"GAD7_Round{r}\" for r in gad7_wide.columns]\n",
    "gad7_wide = gad7_wide.reset_index()\n",
    "gad7= pd.merge(eq5d, gad7_wide, on='SID', how='left')\n",
    "gad7=gad7.rename(columns={'GAD7_Round1_y': 'GAD7_Round1',})\n",
    "\n",
    "insomnia=scores[scores['promName']=='insomniaEfficacyMeasure']\n",
    "insomnia=insomnia[['SID','Round','promName','total_score','completionDate']]\n",
    "\n",
    "\n",
    "insomnia_wide = insomnia.pivot_table(index='SID', \n",
    "                                    columns='Round', \n",
    "                                    values='total_score', \n",
    "                                    aggfunc='first')\n",
    "\n",
    "insomnia_wide.columns = [f\"insomniaEfficacyMeasure_Round{r}\" for r in insomnia_wide.columns]\n",
    "insomnia_wide = insomnia_wide.reset_index()\n",
    "insomnia_wide= pd.merge(gad7, insomnia_wide, on='SID', how='left')\n",
    "insomnia=insomnia_wide.rename(columns={'insomniaEfficacyMeasure_Round1_y': 'insomniaEfficacyMeasure_Round1',})\n",
    "full=insomnia.copy()\n"
   ]
  }
 ],
 "metadata": {
  "kernelspec": {
   "display_name": "Python3.9 (TDS)",
   "language": "python",
   "name": "python39_tds"
  },
  "language_info": {
   "codemirror_mode": {
    "name": "ipython",
    "version": 3
   },
   "file_extension": ".py",
   "mimetype": "text/x-python",
   "name": "python",
   "nbconvert_exporter": "python",
   "pygments_lexer": "ipython3",
   "version": "3.9.21"
  }
 },
 "nbformat": 4,
 "nbformat_minor": 2
}
